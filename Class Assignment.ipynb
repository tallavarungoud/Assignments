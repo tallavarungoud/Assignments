{
 "cells": [
  {
   "cell_type": "markdown",
   "id": "a3f3ba24-6d3b-4e6a-9d75-4673146b27f9",
   "metadata": {},
   "source": [
    "This is Addtition Program"
   ]
  },
  {
   "cell_type": "code",
   "execution_count": 1,
   "id": "6fc52e49-4f43-4e10-a0a1-326ed54ad7c6",
   "metadata": {},
   "outputs": [
    {
     "data": {
      "text/plain": [
       "10"
      ]
     },
     "execution_count": 1,
     "metadata": {},
     "output_type": "execute_result"
    }
   ],
   "source": [
    "5+5"
   ]
  },
  {
   "cell_type": "code",
   "execution_count": 2,
   "id": "6b366740-dbd2-419f-9a34-d835ca72a6e1",
   "metadata": {},
   "outputs": [
    {
     "data": {
      "text/plain": [
       "5"
      ]
     },
     "execution_count": 2,
     "metadata": {},
     "output_type": "execute_result"
    }
   ],
   "source": [
    "5"
   ]
  },
  {
   "cell_type": "code",
   "execution_count": 4,
   "id": "0352c26a-3725-4786-a7c9-b56867d6b7f9",
   "metadata": {},
   "outputs": [],
   "source": [
    "a=5"
   ]
  },
  {
   "cell_type": "code",
   "execution_count": 5,
   "id": "de1e775c-4c95-4d3c-b2d6-560d36dd43f3",
   "metadata": {},
   "outputs": [
    {
     "data": {
      "text/plain": [
       "5"
      ]
     },
     "execution_count": 5,
     "metadata": {},
     "output_type": "execute_result"
    }
   ],
   "source": [
    "a"
   ]
  },
  {
   "cell_type": "markdown",
   "id": "b26a5124-d914-4db6-8169-a6debf4860ce",
   "metadata": {},
   "source": [
    "Variables"
   ]
  },
  {
   "cell_type": "raw",
   "id": "29f4d0a0-2639-40ad-b259-bd27eb4b43d9",
   "metadata": {},
   "source": [
    "Create 5 Different Variables"
   ]
  },
  {
   "cell_type": "code",
   "execution_count": 8,
   "id": "a8d6397e-b83f-4744-b84a-db383b726956",
   "metadata": {},
   "outputs": [],
   "source": [
    "a=5"
   ]
  },
  {
   "cell_type": "code",
   "execution_count": 9,
   "id": "c28dd1c6-cdf5-4a4d-b9fd-db041640db4f",
   "metadata": {},
   "outputs": [
    {
     "name": "stdout",
     "output_type": "stream",
     "text": [
      "5\n"
     ]
    }
   ],
   "source": [
    "print(a)"
   ]
  },
  {
   "cell_type": "raw",
   "id": "eb4c7c91-6588-4e0e-a4b1-cdf7c6dbf1f6",
   "metadata": {},
   "source": [
    "This is My Account Balance (Variable)"
   ]
  },
  {
   "cell_type": "code",
   "execution_count": 10,
   "id": "3c60d45b-1d84-4118-be87-95a2a8c487f5",
   "metadata": {},
   "outputs": [],
   "source": [
    "account_balance=50000"
   ]
  },
  {
   "cell_type": "code",
   "execution_count": 11,
   "id": "3d248550-85e7-4b2d-a3f7-46850493de8a",
   "metadata": {},
   "outputs": [],
   "source": [
    "account_balance=account_balance-500"
   ]
  },
  {
   "cell_type": "code",
   "execution_count": 12,
   "id": "16cc9215-1083-49a7-adc4-d16866b7fab4",
   "metadata": {},
   "outputs": [
    {
     "data": {
      "text/plain": [
       "49500"
      ]
     },
     "execution_count": 12,
     "metadata": {},
     "output_type": "execute_result"
    }
   ],
   "source": [
    "account_balance"
   ]
  },
  {
   "cell_type": "code",
   "execution_count": 13,
   "id": "b4206fcb-5595-4f7b-8337-e9297da52450",
   "metadata": {},
   "outputs": [
    {
     "data": {
      "text/plain": [
       "49000"
      ]
     },
     "execution_count": 13,
     "metadata": {},
     "output_type": "execute_result"
    }
   ],
   "source": [
    "account_balance-500"
   ]
  },
  {
   "cell_type": "code",
   "execution_count": null,
   "id": "3ff91bc4-c80c-4a3c-8b78-323babc5d6ea",
   "metadata": {},
   "outputs": [],
   "source": []
  }
 ],
 "metadata": {
  "kernelspec": {
   "display_name": "Python 3 (ipykernel)",
   "language": "python",
   "name": "python3"
  },
  "language_info": {
   "codemirror_mode": {
    "name": "ipython",
    "version": 3
   },
   "file_extension": ".py",
   "mimetype": "text/x-python",
   "name": "python",
   "nbconvert_exporter": "python",
   "pygments_lexer": "ipython3",
   "version": "3.12.7"
  }
 },
 "nbformat": 4,
 "nbformat_minor": 5
}
