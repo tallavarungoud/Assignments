{
 "cells": [
  {
   "cell_type": "markdown",
   "id": "a3f3ba24-6d3b-4e6a-9d75-4673146b27f9",
   "metadata": {},
   "source": [
    "This is Addtition Program"
   ]
  },
  {
   "cell_type": "code",
   "execution_count": 1,
   "id": "6fc52e49-4f43-4e10-a0a1-326ed54ad7c6",
   "metadata": {},
   "outputs": [
    {
     "data": {
      "text/plain": [
       "10"
      ]
     },
     "execution_count": 1,
     "metadata": {},
     "output_type": "execute_result"
    }
   ],
   "source": [
    "5+5"
   ]
  },
  {
   "cell_type": "code",
   "execution_count": 2,
   "id": "6b366740-dbd2-419f-9a34-d835ca72a6e1",
   "metadata": {},
   "outputs": [
    {
     "data": {
      "text/plain": [
       "5"
      ]
     },
     "execution_count": 2,
     "metadata": {},
     "output_type": "execute_result"
    }
   ],
   "source": [
    "5"
   ]
  },
  {
   "cell_type": "code",
   "execution_count": 4,
   "id": "0352c26a-3725-4786-a7c9-b56867d6b7f9",
   "metadata": {},
   "outputs": [],
   "source": [
    "a=5"
   ]
  },
  {
   "cell_type": "code",
   "execution_count": 5,
   "id": "de1e775c-4c95-4d3c-b2d6-560d36dd43f3",
   "metadata": {},
   "outputs": [
    {
     "data": {
      "text/plain": [
       "5"
      ]
     },
     "execution_count": 5,
     "metadata": {},
     "output_type": "execute_result"
    }
   ],
   "source": [
    "a"
   ]
  },
  {
   "cell_type": "markdown",
   "id": "b26a5124-d914-4db6-8169-a6debf4860ce",
   "metadata": {},
   "source": [
    "Variables"
   ]
  },
  {
   "cell_type": "code",
   "execution_count": 1,
   "id": "a8d6397e-b83f-4744-b84a-db383b726956",
   "metadata": {},
   "outputs": [],
   "source": [
    "a=5"
   ]
  },
  {
   "cell_type": "code",
   "execution_count": 2,
   "id": "c28dd1c6-cdf5-4a4d-b9fd-db041640db4f",
   "metadata": {},
   "outputs": [
    {
     "name": "stdout",
     "output_type": "stream",
     "text": [
      "5\n"
     ]
    }
   ],
   "source": [
    "print(a)"
   ]
  },
  {
   "cell_type": "raw",
   "id": "eb4c7c91-6588-4e0e-a4b1-cdf7c6dbf1f6",
   "metadata": {},
   "source": [
    "This is My Account Balance (Variable)"
   ]
  },
  {
   "cell_type": "code",
   "execution_count": 3,
   "id": "3c60d45b-1d84-4118-be87-95a2a8c487f5",
   "metadata": {},
   "outputs": [],
   "source": [
    "account_balance=50000"
   ]
  },
  {
   "cell_type": "code",
   "execution_count": 4,
   "id": "3d248550-85e7-4b2d-a3f7-46850493de8a",
   "metadata": {},
   "outputs": [],
   "source": [
    "account_balance=account_balance-500"
   ]
  },
  {
   "cell_type": "code",
   "execution_count": 5,
   "id": "16cc9215-1083-49a7-adc4-d16866b7fab4",
   "metadata": {},
   "outputs": [
    {
     "data": {
      "text/plain": [
       "49500"
      ]
     },
     "execution_count": 5,
     "metadata": {},
     "output_type": "execute_result"
    }
   ],
   "source": [
    "account_balance"
   ]
  },
  {
   "cell_type": "code",
   "execution_count": 6,
   "id": "b4206fcb-5595-4f7b-8337-e9297da52450",
   "metadata": {},
   "outputs": [
    {
     "data": {
      "text/plain": [
       "49000"
      ]
     },
     "execution_count": 6,
     "metadata": {},
     "output_type": "execute_result"
    }
   ],
   "source": [
    "account_balance-500"
   ]
  },
  {
   "cell_type": "markdown",
   "id": "1034af0e-515d-428d-b894-8903301d85af",
   "metadata": {},
   "source": [
    "Create 5 Different Variables(Assignment) "
   ]
  },
  {
   "cell_type": "markdown",
   "id": "9ab69435-5a78-4a54-8fa8-92e410428cde",
   "metadata": {},
   "source": [
    "# Integer variable"
   ]
  },
  {
   "cell_type": "code",
   "execution_count": 7,
   "id": "edd79079-1ac4-432c-935b-fe0abc9af0fa",
   "metadata": {},
   "outputs": [],
   "source": [
    "age = 25"
   ]
  },
  {
   "cell_type": "markdown",
   "id": "c84e77b8-1f79-4e7b-aede-0e9dd51b2dea",
   "metadata": {},
   "source": [
    "# Float variable"
   ]
  },
  {
   "cell_type": "code",
   "execution_count": null,
   "id": "e54b7baa-3f6f-400d-ae4e-4b96903b47d8",
   "metadata": {},
   "outputs": [],
   "source": [
    "height = 5.9"
   ]
  },
  {
   "cell_type": "markdown",
   "id": "7fe137c2-b824-4113-aa9a-a5e16f823c23",
   "metadata": {},
   "source": [
    "# String variable"
   ]
  },
  {
   "cell_type": "code",
   "execution_count": null,
   "id": "399d18d6-a826-42cf-84e8-482e3419526c",
   "metadata": {},
   "outputs": [],
   "source": [
    "name = \"Alice\""
   ]
  },
  {
   "cell_type": "markdown",
   "id": "577e5493-53ef-4705-b7de-db762639ec00",
   "metadata": {},
   "source": [
    "# Boolean variable"
   ]
  },
  {
   "cell_type": "code",
   "execution_count": null,
   "id": "f9bb6337-7c41-491a-a863-c64e01eac2c5",
   "metadata": {},
   "outputs": [],
   "source": [
    "is_student = True"
   ]
  },
  {
   "cell_type": "markdown",
   "id": "d3a0ac7b-692a-4d3d-bf1d-a7d460b84a39",
   "metadata": {},
   "source": [
    "# List variable"
   ]
  },
  {
   "cell_type": "code",
   "execution_count": null,
   "id": "f33c0075-3553-489c-8be2-0d501e395ef6",
   "metadata": {},
   "outputs": [],
   "source": [
    "favorite_colors = [\"blue\", \"green\", \"red\"] "
   ]
  },
  {
   "cell_type": "code",
   "execution_count": null,
   "id": "569e0884-cd54-44a5-a11f-38bef45ddb2a",
   "metadata": {},
   "outputs": [],
   "source": []
  }
 ],
 "metadata": {
  "kernelspec": {
   "display_name": "Python 3 (ipykernel)",
   "language": "python",
   "name": "python3"
  },
  "language_info": {
   "codemirror_mode": {
    "name": "ipython",
    "version": 3
   },
   "file_extension": ".py",
   "mimetype": "text/x-python",
   "name": "python",
   "nbconvert_exporter": "python",
   "pygments_lexer": "ipython3",
   "version": "3.12.7"
  }
 },
 "nbformat": 4,
 "nbformat_minor": 5
}
