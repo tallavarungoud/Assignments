{
 "cells": [
  {
   "cell_type": "code",
   "execution_count": 1,
   "id": "fdc95a15-65ae-4020-8b2e-f127221ea6f8",
   "metadata": {},
   "outputs": [],
   "source": [
    "var = 5"
   ]
  },
  {
   "cell_type": "code",
   "execution_count": 2,
   "id": "ae18d1d3-70c2-48ef-9f2c-54d14dfada2f",
   "metadata": {},
   "outputs": [
    {
     "data": {
      "text/plain": [
       "5"
      ]
     },
     "execution_count": 2,
     "metadata": {},
     "output_type": "execute_result"
    }
   ],
   "source": [
    "var"
   ]
  },
  {
   "cell_type": "code",
   "execution_count": 3,
   "id": "cc1e1d37-e9d4-4a56-bf83-be957962b63b",
   "metadata": {},
   "outputs": [
    {
     "name": "stdout",
     "output_type": "stream",
     "text": [
      "5\n"
     ]
    }
   ],
   "source": [
    "print(var)"
   ]
  },
  {
   "cell_type": "code",
   "execution_count": 8,
   "id": "b36d3fad-9850-4674-b412-f8cbd3af6f5b",
   "metadata": {},
   "outputs": [],
   "source": [
    "name='Varun' #shift + ENTR"
   ]
  },
  {
   "cell_type": "code",
   "execution_count": 9,
   "id": "b9fa2462-64f9-496a-8bf4-7fbeecc42471",
   "metadata": {},
   "outputs": [
    {
     "data": {
      "text/plain": [
       "'Varun'"
      ]
     },
     "execution_count": 9,
     "metadata": {},
     "output_type": "execute_result"
    }
   ],
   "source": [
    "name"
   ]
  },
  {
   "cell_type": "code",
   "execution_count": 15,
   "id": "34c37136-1152-4171-82f2-39378c04deb8",
   "metadata": {},
   "outputs": [
    {
     "name": "stdout",
     "output_type": "stream",
     "text": [
      "V\n",
      "a\n",
      "r\n",
      "u\n",
      "n\n"
     ]
    }
   ],
   "source": [
    "for item in name :\n",
    "    print(item)"
   ]
  },
  {
   "cell_type": "markdown",
   "id": "a712f51b-1ff0-40f6-b90d-6055a957bbc3",
   "metadata": {},
   "source": [
    "This is my Below xyz program"
   ]
  },
  {
   "cell_type": "code",
   "execution_count": 16,
   "id": "61683974-5f98-448f-997e-e2d2336b392d",
   "metadata": {},
   "outputs": [],
   "source": [
    "#This is a comment\n",
    "#This is my second\n",
    "#"
   ]
  },
  {
   "cell_type": "code",
   "execution_count": 17,
   "id": "b318129d-13ae-499b-8fff-1c46bc0955c1",
   "metadata": {},
   "outputs": [],
   "source": [
    "x = 5"
   ]
  },
  {
   "cell_type": "code",
   "execution_count": 18,
   "id": "da4e2719-788a-4c03-b8c9-6fa418c96895",
   "metadata": {},
   "outputs": [],
   "source": [
    "y = \"Hello World\""
   ]
  },
  {
   "cell_type": "code",
   "execution_count": 19,
   "id": "4cb7084a-7aaf-47a1-b9e5-403efe28a8bd",
   "metadata": {},
   "outputs": [
    {
     "name": "stdout",
     "output_type": "stream",
     "text": [
      "5\n"
     ]
    }
   ],
   "source": [
    "print(x)"
   ]
  },
  {
   "cell_type": "code",
   "execution_count": 20,
   "id": "2ef8f6ca-3e2d-443d-9570-5d19426efb77",
   "metadata": {},
   "outputs": [
    {
     "name": "stdout",
     "output_type": "stream",
     "text": [
      "Hello World\n"
     ]
    }
   ],
   "source": [
    "print(y)"
   ]
  },
  {
   "cell_type": "code",
   "execution_count": 21,
   "id": "25d44f5b-1e98-4984-8f88-1990feb3353b",
   "metadata": {},
   "outputs": [
    {
     "data": {
      "text/plain": [
       "int"
      ]
     },
     "execution_count": 21,
     "metadata": {},
     "output_type": "execute_result"
    }
   ],
   "source": [
    "type(x)"
   ]
  },
  {
   "cell_type": "code",
   "execution_count": 22,
   "id": "513c7ad5-49ee-4ade-bd0d-a9b9f422c2ff",
   "metadata": {},
   "outputs": [],
   "source": [
    "x=str(3)"
   ]
  },
  {
   "cell_type": "code",
   "execution_count": 23,
   "id": "ad6ab144-4de1-4ff0-b6fc-55f4ccb6dbde",
   "metadata": {},
   "outputs": [
    {
     "data": {
      "text/plain": [
       "str"
      ]
     },
     "execution_count": 23,
     "metadata": {},
     "output_type": "execute_result"
    }
   ],
   "source": [
    "type(x)"
   ]
  },
  {
   "cell_type": "code",
   "execution_count": 24,
   "id": "f42bb282-c970-4dd8-b4d9-541df24c08b1",
   "metadata": {},
   "outputs": [],
   "source": [
    "y = int(3)"
   ]
  },
  {
   "cell_type": "code",
   "execution_count": 25,
   "id": "5a18d6dd-3216-48b3-a6d7-1499f5a14dd0",
   "metadata": {},
   "outputs": [
    {
     "data": {
      "text/plain": [
       "3"
      ]
     },
     "execution_count": 25,
     "metadata": {},
     "output_type": "execute_result"
    }
   ],
   "source": [
    "y"
   ]
  },
  {
   "cell_type": "code",
   "execution_count": 26,
   "id": "e2cf4315-d071-45e9-99f8-35f0fa8a63f3",
   "metadata": {},
   "outputs": [
    {
     "data": {
      "text/plain": [
       "int"
      ]
     },
     "execution_count": 26,
     "metadata": {},
     "output_type": "execute_result"
    }
   ],
   "source": [
    "type(y)"
   ]
  },
  {
   "cell_type": "code",
   "execution_count": 28,
   "id": "a802e7fc-d823-4b34-b5ed-001c11f73ef0",
   "metadata": {},
   "outputs": [],
   "source": [
    "y = float(3)"
   ]
  },
  {
   "cell_type": "code",
   "execution_count": 29,
   "id": "72a20890-bae2-4265-8e3b-a67e1415ad39",
   "metadata": {},
   "outputs": [
    {
     "data": {
      "text/plain": [
       "3.0"
      ]
     },
     "execution_count": 29,
     "metadata": {},
     "output_type": "execute_result"
    }
   ],
   "source": [
    "y"
   ]
  },
  {
   "cell_type": "code",
   "execution_count": 30,
   "id": "1e449faf-1969-403b-97a4-9646be21ee69",
   "metadata": {},
   "outputs": [],
   "source": [
    "x = \"varun\"\n",
    "# is the same as\n",
    "x = 'varun'"
   ]
  },
  {
   "cell_type": "code",
   "execution_count": 31,
   "id": "826986c2-a58f-4d9a-a580-0829b6e90076",
   "metadata": {},
   "outputs": [],
   "source": [
    "a=12\n",
    "A=\"varun\""
   ]
  },
  {
   "cell_type": "code",
   "execution_count": 32,
   "id": "6c94a5d5-6189-4185-b5f3-48da6b6ed342",
   "metadata": {},
   "outputs": [
    {
     "data": {
      "text/plain": [
       "12"
      ]
     },
     "execution_count": 32,
     "metadata": {},
     "output_type": "execute_result"
    }
   ],
   "source": [
    "a"
   ]
  },
  {
   "cell_type": "code",
   "execution_count": 33,
   "id": "91b6ae90-782c-4d7d-8d40-a4b6e8c8da4b",
   "metadata": {},
   "outputs": [
    {
     "data": {
      "text/plain": [
       "'varun'"
      ]
     },
     "execution_count": 33,
     "metadata": {},
     "output_type": "execute_result"
    }
   ],
   "source": [
    "A"
   ]
  },
  {
   "cell_type": "code",
   "execution_count": 34,
   "id": "6fdbf8b5-9789-4f5e-bc1a-8a5be8ed64e3",
   "metadata": {},
   "outputs": [],
   "source": [
    "MyVariableName = \"varun\""
   ]
  },
  {
   "cell_type": "code",
   "execution_count": null,
   "id": "3ccbd8af-7b1f-4393-a85a-8d5d7bd41277",
   "metadata": {},
   "outputs": [],
   "source": [
    "MyVariableName = \"varun\""
   ]
  },
  {
   "cell_type": "code",
   "execution_count": 38,
   "id": "07014e9b-9cc7-477b-9ead-fdbbb91049f6",
   "metadata": {},
   "outputs": [],
   "source": [
    "my_variable_name = \"varun\""
   ]
  },
  {
   "cell_type": "code",
   "execution_count": 39,
   "id": "513ff424-bfd4-4ac4-905f-a311149adeff",
   "metadata": {},
   "outputs": [],
   "source": [
    "x,y,z = \"data\",\"science\",\"code square\""
   ]
  },
  {
   "cell_type": "code",
   "execution_count": 40,
   "id": "baef57ab-b265-4a40-8816-10bc4b947c50",
   "metadata": {},
   "outputs": [
    {
     "name": "stdout",
     "output_type": "stream",
     "text": [
      "data\n"
     ]
    }
   ],
   "source": [
    "print(x)"
   ]
  },
  {
   "cell_type": "code",
   "execution_count": 41,
   "id": "e48e2997-0a5a-46db-9603-007e1bf7c704",
   "metadata": {},
   "outputs": [
    {
     "name": "stdout",
     "output_type": "stream",
     "text": [
      "science\n"
     ]
    }
   ],
   "source": [
    "print(y)"
   ]
  },
  {
   "cell_type": "code",
   "execution_count": 42,
   "id": "d71b68cd-be90-4bf0-97b3-e4a0fccf5a89",
   "metadata": {},
   "outputs": [
    {
     "name": "stdout",
     "output_type": "stream",
     "text": [
      "code square\n"
     ]
    }
   ],
   "source": [
    "print(z)"
   ]
  },
  {
   "cell_type": "code",
   "execution_count": 43,
   "id": "4f0540c0-4d60-4ff9-9185-cd1ab9e9764c",
   "metadata": {},
   "outputs": [],
   "source": [
    "x = y = z = \"Data Science\""
   ]
  },
  {
   "cell_type": "code",
   "execution_count": 44,
   "id": "6b91b97d-cd06-4677-9470-c63ac486240d",
   "metadata": {},
   "outputs": [
    {
     "name": "stdout",
     "output_type": "stream",
     "text": [
      "Data Science\n"
     ]
    }
   ],
   "source": [
    "print(x)"
   ]
  },
  {
   "cell_type": "code",
   "execution_count": 45,
   "id": "5713edee-710a-463c-aca7-99396db861fd",
   "metadata": {},
   "outputs": [
    {
     "name": "stdout",
     "output_type": "stream",
     "text": [
      "Data Science\n"
     ]
    }
   ],
   "source": [
    "print(y)"
   ]
  },
  {
   "cell_type": "code",
   "execution_count": 46,
   "id": "d87cafcd-c794-4418-ba36-196e9748801e",
   "metadata": {},
   "outputs": [
    {
     "name": "stdout",
     "output_type": "stream",
     "text": [
      "Data Science\n"
     ]
    }
   ],
   "source": [
    "print(z)"
   ]
  },
  {
   "cell_type": "code",
   "execution_count": 49,
   "id": "9bd6cc55-e559-4f02-aec5-3bc37246ef7d",
   "metadata": {},
   "outputs": [],
   "source": [
    "a= [1,2,3] "
   ]
  },
  {
   "cell_type": "code",
   "execution_count": 50,
   "id": "1275806d-51c6-47e8-8444-962a5524128e",
   "metadata": {},
   "outputs": [
    {
     "data": {
      "text/plain": [
       "list"
      ]
     },
     "execution_count": 50,
     "metadata": {},
     "output_type": "execute_result"
    }
   ],
   "source": [
    "type(a)"
   ]
  },
  {
   "cell_type": "code",
   "execution_count": 51,
   "id": "28f20381-647c-4b93-9c4e-524379db2608",
   "metadata": {},
   "outputs": [],
   "source": [
    "bootcamp = [\"My\",\"Code\",\"Square\"]"
   ]
  },
  {
   "cell_type": "code",
   "execution_count": 52,
   "id": "0c486c41-dd84-4f16-8822-1ea75041b193",
   "metadata": {},
   "outputs": [],
   "source": [
    "x,y,z = bootcamp"
   ]
  },
  {
   "cell_type": "code",
   "execution_count": 53,
   "id": "6eb1000e-31ac-44aa-a7f1-c1fcbd07920c",
   "metadata": {},
   "outputs": [
    {
     "name": "stdout",
     "output_type": "stream",
     "text": [
      "My\n",
      "Code\n",
      "Square\n"
     ]
    }
   ],
   "source": [
    "print(x)\n",
    "print(y)\n",
    "print(z)"
   ]
  },
  {
   "cell_type": "code",
   "execution_count": 54,
   "id": "eab4ec65-ff3e-49e4-8c09-d87177240104",
   "metadata": {},
   "outputs": [
    {
     "name": "stdout",
     "output_type": "stream",
     "text": [
      "My Code Square\n"
     ]
    }
   ],
   "source": [
    "print(x,y,z)"
   ]
  },
  {
   "cell_type": "code",
   "execution_count": 65,
   "id": "71975e02-b220-4844-803c-9e99e31cc2c2",
   "metadata": {},
   "outputs": [],
   "source": [
    "x = \"Code Square\"\n",
    "y = \"is\"\n",
    "z = \"awesome\""
   ]
  },
  {
   "cell_type": "code",
   "execution_count": 66,
   "id": "c1f0deb1-2717-47b2-a8ca-270e23356919",
   "metadata": {},
   "outputs": [
    {
     "name": "stdout",
     "output_type": "stream",
     "text": [
      "Code Squareisawesome\n"
     ]
    }
   ],
   "source": [
    "print(x + y + z)"
   ]
  },
  {
   "cell_type": "code",
   "execution_count": 67,
   "id": "0fcd85df-e690-4449-a624-e8f3d217fa6e",
   "metadata": {},
   "outputs": [],
   "source": [
    "x = 5\n",
    "y = 10"
   ]
  },
  {
   "cell_type": "code",
   "execution_count": 68,
   "id": "bf584ff2-bfd2-4595-8312-069fae44d477",
   "metadata": {},
   "outputs": [
    {
     "name": "stdout",
     "output_type": "stream",
     "text": [
      "15\n"
     ]
    }
   ],
   "source": [
    "print(x+y)"
   ]
  },
  {
   "cell_type": "code",
   "execution_count": 69,
   "id": "19482203-9ed9-4677-ab50-95c917526fce",
   "metadata": {},
   "outputs": [],
   "source": [
    "x=str(5)\n",
    "y= 'varun'"
   ]
  },
  {
   "cell_type": "code",
   "execution_count": 71,
   "id": "0e349f98-79f6-45fa-8c8e-3e8e1c66f78e",
   "metadata": {},
   "outputs": [
    {
     "name": "stdout",
     "output_type": "stream",
     "text": [
      "5 varun\n"
     ]
    }
   ],
   "source": [
    "print(x , y)"
   ]
  },
  {
   "cell_type": "code",
   "execution_count": 72,
   "id": "86584eb2-d3f3-4658-ba3f-95ce56894987",
   "metadata": {},
   "outputs": [],
   "source": [
    "x = 1   #int\n",
    "y = 2.8 #float\n",
    "z= 1j   #complex\n",
    "zz=\"data\"#str"
   ]
  },
  {
   "cell_type": "code",
   "execution_count": null,
   "id": "83372dde-bde1-4fda-b585-773a06630d68",
   "metadata": {},
   "outputs": [],
   "source": [
    "int(),float(),complex(),str()"
   ]
  },
  {
   "cell_type": "code",
   "execution_count": 76,
   "id": "748ab66f-44ce-49e9-aa7f-852b753d3492",
   "metadata": {},
   "outputs": [],
   "source": [
    "x= \"3\""
   ]
  },
  {
   "cell_type": "code",
   "execution_count": 77,
   "id": "13129261-4e77-418e-93f0-7187e2190cce",
   "metadata": {},
   "outputs": [
    {
     "data": {
      "text/plain": [
       "'3'"
      ]
     },
     "execution_count": 77,
     "metadata": {},
     "output_type": "execute_result"
    }
   ],
   "source": [
    "x"
   ]
  },
  {
   "cell_type": "code",
   "execution_count": 78,
   "id": "6d4e596e-a881-411b-8683-bb44b6f5d14c",
   "metadata": {},
   "outputs": [
    {
     "data": {
      "text/plain": [
       "str"
      ]
     },
     "execution_count": 78,
     "metadata": {},
     "output_type": "execute_result"
    }
   ],
   "source": [
    "type(x)"
   ]
  },
  {
   "cell_type": "code",
   "execution_count": 79,
   "id": "2c7e2143-6a8c-46c5-b3b3-fcc1ecf2de26",
   "metadata": {},
   "outputs": [
    {
     "data": {
      "text/plain": [
       "3"
      ]
     },
     "execution_count": 79,
     "metadata": {},
     "output_type": "execute_result"
    }
   ],
   "source": [
    "int(x)"
   ]
  },
  {
   "cell_type": "code",
   "execution_count": 110,
   "id": "7f8e3949-9520-42d3-9dcd-7ed83d6703d1",
   "metadata": {},
   "outputs": [],
   "source": [
    "a =\"\"\"Data Science is the study of data\n",
    "to extract meaningful insights for business.\n",
    "It is a multidisciplinary approach that combines principles\n",
    "and practices from the fields of mathematics, statistics,\n",
    "artificial intelligence, and computer engineering to analyze\n",
    "large amounts of data.\"\"\""
   ]
  },
  {
   "cell_type": "code",
   "execution_count": 111,
   "id": "255e57bf-c0f1-4ffa-bb5e-4c62f952387c",
   "metadata": {},
   "outputs": [
    {
     "name": "stdout",
     "output_type": "stream",
     "text": [
      "Data Science is the study of data\n",
      "to extract meaningful insights for business.\n",
      "It is a multidisciplinary approach that combines principles\n",
      "and practices from the fields of mathematics, statistics,\n",
      "artificial intelligence, and computer engineering to analyze\n",
      "large amounts of data.\n"
     ]
    }
   ],
   "source": [
    "print(a)"
   ]
  },
  {
   "cell_type": "code",
   "execution_count": 123,
   "id": "2d316518-32f1-4e5a-b756-30b96c221bfb",
   "metadata": {},
   "outputs": [
    {
     "name": "stdout",
     "output_type": "stream",
     "text": [
      "D\n",
      "a\n",
      "t\n",
      "a\n",
      " \n",
      "S\n",
      "c\n",
      "i\n",
      "e\n",
      "n\n",
      "c\n",
      "e\n",
      " \n",
      "i\n",
      "s\n",
      " \n",
      "t\n",
      "h\n",
      "e\n",
      " \n",
      "s\n",
      "t\n",
      "u\n",
      "d\n",
      "y\n",
      " \n",
      "o\n",
      "f\n",
      " \n",
      "d\n",
      "a\n",
      "t\n",
      "a\n",
      "\n",
      "\n",
      "t\n",
      "o\n",
      " \n",
      "e\n",
      "x\n",
      "t\n",
      "r\n",
      "a\n",
      "c\n",
      "t\n",
      " \n",
      "m\n",
      "e\n",
      "a\n",
      "n\n",
      "i\n",
      "n\n",
      "g\n",
      "f\n",
      "u\n",
      "l\n",
      " \n",
      "i\n",
      "n\n",
      "s\n",
      "i\n",
      "g\n",
      "h\n",
      "t\n",
      "s\n",
      " \n",
      "f\n",
      "o\n",
      "r\n",
      " \n",
      "b\n",
      "u\n",
      "s\n",
      "i\n",
      "n\n",
      "e\n",
      "s\n",
      "s\n",
      ".\n",
      "\n",
      "\n",
      "I\n",
      "t\n",
      " \n",
      "i\n",
      "s\n",
      " \n",
      "a\n",
      " \n",
      "m\n",
      "u\n",
      "l\n",
      "t\n",
      "i\n",
      "d\n",
      "i\n",
      "s\n",
      "c\n",
      "i\n",
      "p\n",
      "l\n",
      "i\n",
      "n\n",
      "a\n",
      "r\n",
      "y\n",
      " \n",
      "a\n",
      "p\n",
      "p\n",
      "r\n",
      "o\n",
      "a\n",
      "c\n",
      "h\n",
      " \n",
      "t\n",
      "h\n",
      "a\n",
      "t\n",
      " \n",
      "c\n",
      "o\n",
      "m\n",
      "b\n",
      "i\n",
      "n\n",
      "e\n",
      "s\n",
      " \n",
      "p\n",
      "r\n",
      "i\n",
      "n\n",
      "c\n",
      "i\n",
      "p\n",
      "l\n",
      "e\n",
      "s\n",
      "\n",
      "\n",
      "a\n",
      "n\n",
      "d\n",
      " \n",
      "p\n",
      "r\n",
      "a\n",
      "c\n",
      "t\n",
      "i\n",
      "c\n",
      "e\n",
      "s\n",
      " \n",
      "f\n",
      "r\n",
      "o\n",
      "m\n",
      " \n",
      "t\n",
      "h\n",
      "e\n",
      " \n",
      "f\n",
      "i\n",
      "e\n",
      "l\n",
      "d\n",
      "s\n",
      " \n",
      "o\n",
      "f\n",
      " \n",
      "m\n",
      "a\n",
      "t\n",
      "h\n",
      "e\n",
      "m\n",
      "a\n",
      "t\n",
      "i\n",
      "c\n",
      "s\n",
      ",\n",
      " \n",
      "s\n",
      "t\n",
      "a\n",
      "t\n",
      "i\n",
      "s\n",
      "t\n",
      "i\n",
      "c\n",
      "s\n",
      ",\n",
      "\n",
      "\n",
      "a\n",
      "r\n",
      "t\n",
      "i\n",
      "f\n",
      "i\n",
      "c\n",
      "i\n",
      "a\n",
      "l\n",
      " \n",
      "i\n",
      "n\n",
      "t\n",
      "e\n",
      "l\n",
      "l\n",
      "i\n",
      "g\n",
      "e\n",
      "n\n",
      "c\n",
      "e\n",
      ",\n",
      " \n",
      "a\n",
      "n\n",
      "d\n",
      " \n",
      "c\n",
      "o\n",
      "m\n",
      "p\n",
      "u\n",
      "t\n",
      "e\n",
      "r\n",
      " \n",
      "e\n",
      "n\n",
      "g\n",
      "i\n",
      "n\n",
      "e\n",
      "e\n",
      "r\n",
      "i\n",
      "n\n",
      "g\n",
      " \n",
      "t\n",
      "o\n",
      " \n",
      "a\n",
      "n\n",
      "a\n",
      "l\n",
      "y\n",
      "z\n",
      "e\n",
      "\n",
      "\n",
      "l\n",
      "a\n",
      "r\n",
      "g\n",
      "e\n",
      " \n",
      "a\n",
      "m\n",
      "o\n",
      "u\n",
      "n\n",
      "t\n",
      "s\n",
      " \n",
      "o\n",
      "f\n",
      " \n",
      "d\n",
      "a\n",
      "t\n",
      "a\n",
      ".\n"
     ]
    }
   ],
   "source": [
    "for item in a:\n",
    "    print(item)"
   ]
  },
  {
   "cell_type": "code",
   "execution_count": 124,
   "id": "91c0cb22-fbe4-40b1-aacb-2c3ac9a4e901",
   "metadata": {},
   "outputs": [
    {
     "data": {
      "text/plain": [
       "280"
      ]
     },
     "execution_count": 124,
     "metadata": {},
     "output_type": "execute_result"
    }
   ],
   "source": [
    "len(a)"
   ]
  },
  {
   "cell_type": "code",
   "execution_count": 126,
   "id": "c5bfb378-3e26-4b78-b867-35a177af2205",
   "metadata": {},
   "outputs": [],
   "source": [
    "a = [1,2,3,4]"
   ]
  },
  {
   "cell_type": "code",
   "execution_count": 127,
   "id": "4980aa41-0dea-474b-8351-227a028f72ea",
   "metadata": {},
   "outputs": [
    {
     "name": "stdout",
     "output_type": "stream",
     "text": [
      "1\n",
      "2\n",
      "3\n",
      "4\n"
     ]
    }
   ],
   "source": [
    "for item in a:\n",
    "    print(item)"
   ]
  },
  {
   "cell_type": "code",
   "execution_count": 128,
   "id": "7cebb709-f329-4a20-b85c-27397d1d3bf5",
   "metadata": {},
   "outputs": [
    {
     "data": {
      "text/plain": [
       "4"
      ]
     },
     "execution_count": 128,
     "metadata": {},
     "output_type": "execute_result"
    }
   ],
   "source": [
    "len(a)"
   ]
  },
  {
   "cell_type": "code",
   "execution_count": 129,
   "id": "76ff1ee7-d384-4f92-9532-79fdf7040e07",
   "metadata": {},
   "outputs": [],
   "source": [
    "txt =\"Code Square data science bootcamp\""
   ]
  },
  {
   "cell_type": "code",
   "execution_count": 130,
   "id": "a1b93cd4-eabc-4149-8710-0119bbf4b52b",
   "metadata": {},
   "outputs": [
    {
     "name": "stdout",
     "output_type": "stream",
     "text": [
      "True\n"
     ]
    }
   ],
   "source": [
    "print(\"bootcamp\" in txt)"
   ]
  },
  {
   "cell_type": "code",
   "execution_count": 131,
   "id": "32a9d99f-e29d-4cd9-8c31-35e1f7251531",
   "metadata": {},
   "outputs": [
    {
     "name": "stdout",
     "output_type": "stream",
     "text": [
      "False\n"
     ]
    }
   ],
   "source": [
    "print(\"python\" in txt)"
   ]
  },
  {
   "cell_type": "code",
   "execution_count": null,
   "id": "c918cfae-eb43-443f-8bfe-12feb5f6fcaf",
   "metadata": {},
   "outputs": [],
   "source": [
    "txt =\"Code Square data science bootcamp\""
   ]
  },
  {
   "cell_type": "code",
   "execution_count": 133,
   "id": "959af74d-0930-42a2-86a9-b8d4893ffd50",
   "metadata": {},
   "outputs": [
    {
     "name": "stdout",
     "output_type": "stream",
     "text": [
      "yes , bootcamp present\n"
     ]
    }
   ],
   "source": [
    "if \"bootcamp\" in txt:\n",
    "    print(\"yes , bootcamp present\")\n",
    "else:\n",
    "    print(\"not present\")"
   ]
  },
  {
   "cell_type": "code",
   "execution_count": 135,
   "id": "2f3607fe-1c7d-4832-ac61-56b8be67e3a5",
   "metadata": {},
   "outputs": [
    {
     "name": "stdout",
     "output_type": "stream",
     "text": [
      "False\n"
     ]
    }
   ],
   "source": [
    "print(\"data\" not in txt)"
   ]
  },
  {
   "cell_type": "code",
   "execution_count": 136,
   "id": "c55ea036-c9a8-4840-84c2-f57f8c8aa02c",
   "metadata": {},
   "outputs": [
    {
     "name": "stdout",
     "output_type": "stream",
     "text": [
      "True\n"
     ]
    }
   ],
   "source": [
    "print(\"python\" not in txt)"
   ]
  },
  {
   "cell_type": "markdown",
   "id": "9c5e353b-51fc-43b3-9790-656a0b00cd65",
   "metadata": {},
   "source": [
    "Assignment"
   ]
  },
  {
   "cell_type": "markdown",
   "id": "5645e716-046c-4c1d-8ae5-8936abe818a2",
   "metadata": {},
   "source": [
    "# 1. Create a variable `city` and assign the name of your favorite city to it. Print the variable."
   ]
  },
  {
   "cell_type": "code",
   "execution_count": 137,
   "id": "45ed6256-a7c6-431b-bbb2-482dc1c1e1b6",
   "metadata": {},
   "outputs": [],
   "source": [
    "city = \"Tokyo\""
   ]
  },
  {
   "cell_type": "code",
   "execution_count": 138,
   "id": "8cffb2ee-4dc2-4610-87c6-cae9e0328dd1",
   "metadata": {},
   "outputs": [
    {
     "name": "stdout",
     "output_type": "stream",
     "text": [
      "Tokyo\n"
     ]
    }
   ],
   "source": [
    "print(city)"
   ]
  },
  {
   "cell_type": "markdown",
   "id": "a3e8110a-a3f2-4e0e-a731-ed54463a4f0f",
   "metadata": {},
   "source": [
    "# 2. Print the data type of the variable `city`."
   ]
  },
  {
   "cell_type": "code",
   "execution_count": 139,
   "id": "eec3f282-5f17-40f3-8b94-ae00518dffe5",
   "metadata": {},
   "outputs": [
    {
     "name": "stdout",
     "output_type": "stream",
     "text": [
      "<class 'str'>\n"
     ]
    }
   ],
   "source": [
    "print(type(city))"
   ]
  },
  {
   "cell_type": "markdown",
   "id": "fe528b1d-b995-4c01-afe0-bd2867af0800",
   "metadata": {},
   "source": [
    "# 3. Convert the integer `42` to a string and assign it to a new variable. Print the new variable."
   ]
  },
  {
   "cell_type": "code",
   "execution_count": 141,
   "id": "9a105fa8-f8cc-485b-9794-a9902c87882f",
   "metadata": {},
   "outputs": [],
   "source": [
    "number_str = str(42)"
   ]
  },
  {
   "cell_type": "code",
   "execution_count": 142,
   "id": "fada2863-bfe7-47ef-9b34-177b3444bfdb",
   "metadata": {},
   "outputs": [
    {
     "name": "stdout",
     "output_type": "stream",
     "text": [
      "42\n"
     ]
    }
   ],
   "source": [
    "print(number_str)"
   ]
  },
  {
   "cell_type": "markdown",
   "id": "c702bef6-dbca-4eae-a33c-01577f53c47d",
   "metadata": {},
   "source": [
    "# 4. Use len() on your name variable and count length of your name"
   ]
  },
  {
   "cell_type": "code",
   "execution_count": 143,
   "id": "b54b017e-226c-4d23-bf79-6a09c8f37500",
   "metadata": {},
   "outputs": [],
   "source": [
    "name = \"John Doe\""
   ]
  },
  {
   "cell_type": "code",
   "execution_count": 144,
   "id": "1bb5c068-acf3-43f6-934e-113dbb5e4d9a",
   "metadata": {},
   "outputs": [
    {
     "name": "stdout",
     "output_type": "stream",
     "text": [
      "8\n"
     ]
    }
   ],
   "source": [
    "print(len(name))"
   ]
  },
  {
   "cell_type": "markdown",
   "id": "00dd68e7-d251-4ecc-9b13-00d20d1a33b9",
   "metadata": {},
   "source": [
    "# 5. Use \"if\" statement to check \"code\" word exist or not in \"code square\""
   ]
  },
  {
   "cell_type": "code",
   "execution_count": 153,
   "id": "09c0f042-f002-40c2-9c4a-1a83b44f1b13",
   "metadata": {},
   "outputs": [
    {
     "name": "stdout",
     "output_type": "stream",
     "text": [
      "Yes, 'code' exists in the text.\n"
     ]
    }
   ],
   "source": [
    "text = \"code square\"\n",
    "if \"code\" in text:\n",
    "    print(\"Yes, 'code' exists in the text.\")\n",
    "else:\n",
    "    print(\"No, 'code' does not exist in the text.\")"
   ]
  },
  {
   "cell_type": "code",
   "execution_count": null,
   "id": "72d7193f-ce62-4d88-97b8-13fcc5b8ce6a",
   "metadata": {},
   "outputs": [],
   "source": []
  }
 ],
 "metadata": {
  "kernelspec": {
   "display_name": "Python 3 (ipykernel)",
   "language": "python",
   "name": "python3"
  },
  "language_info": {
   "codemirror_mode": {
    "name": "ipython",
    "version": 3
   },
   "file_extension": ".py",
   "mimetype": "text/x-python",
   "name": "python",
   "nbconvert_exporter": "python",
   "pygments_lexer": "ipython3",
   "version": "3.12.7"
  }
 },
 "nbformat": 4,
 "nbformat_minor": 5
}
