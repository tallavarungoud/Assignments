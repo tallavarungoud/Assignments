{
 "cells": [
  {
   "cell_type": "markdown",
   "id": "e1643cb1-404f-404c-81ba-088f831626fc",
   "metadata": {},
   "source": [
    "Class"
   ]
  },
  {
   "cell_type": "code",
   "execution_count": null,
   "id": "54fb79ea-31a0-4ae9-adf4-f5b81ad24502",
   "metadata": {},
   "outputs": [],
   "source": [
    "len()"
   ]
  },
  {
   "cell_type": "code",
   "execution_count": 4,
   "id": "b59d3499-c246-4a47-bec6-b46638221734",
   "metadata": {},
   "outputs": [
    {
     "data": {
      "text/plain": [
       "datetime.datetime(2025, 6, 20, 12, 37, 40, 664545)"
      ]
     },
     "execution_count": 4,
     "metadata": {},
     "output_type": "execute_result"
    }
   ],
   "source": [
    "import datetime\n",
    "datetime.datetime.now()"
   ]
  },
  {
   "cell_type": "code",
   "execution_count": 5,
   "id": "084d9b15-eb54-435e-850f-125b9d315a56",
   "metadata": {},
   "outputs": [],
   "source": [
    "x=datetime.datetime.now()"
   ]
  },
  {
   "cell_type": "code",
   "execution_count": 6,
   "id": "23f43233-8d42-4f76-a701-0dfc772a7e46",
   "metadata": {},
   "outputs": [
    {
     "name": "stdout",
     "output_type": "stream",
     "text": [
      "2025-06-20 12:39:04.254600\n"
     ]
    }
   ],
   "source": [
    "print(x)"
   ]
  },
  {
   "cell_type": "code",
   "execution_count": 7,
   "id": "e5bc18af-f315-4ab7-8ddc-767b63ac7555",
   "metadata": {},
   "outputs": [
    {
     "data": {
      "text/plain": [
       "datetime.datetime"
      ]
     },
     "execution_count": 7,
     "metadata": {},
     "output_type": "execute_result"
    }
   ],
   "source": [
    "type(x)"
   ]
  },
  {
   "cell_type": "code",
   "execution_count": 11,
   "id": "f86379a9-df37-490f-b290-a6fe00f16446",
   "metadata": {},
   "outputs": [
    {
     "data": {
      "text/plain": [
       "20"
      ]
     },
     "execution_count": 11,
     "metadata": {},
     "output_type": "execute_result"
    }
   ],
   "source": [
    "x=datetime.datetime.now()\n",
    "x.day"
   ]
  },
  {
   "cell_type": "code",
   "execution_count": 20,
   "id": "94453373-e127-43d5-97e1-19884220185d",
   "metadata": {},
   "outputs": [],
   "source": [
    "import datetime\n",
    "b_date = datetime.datetime(1982,5,17)"
   ]
  },
  {
   "cell_type": "code",
   "execution_count": 21,
   "id": "24f708fa-3110-4e77-a65c-e612d85a7c3b",
   "metadata": {},
   "outputs": [
    {
     "name": "stdout",
     "output_type": "stream",
     "text": [
      "May\n"
     ]
    }
   ],
   "source": [
    "(type(b_date))\n",
    "print(b_date.strftime(\"%b\"))"
   ]
  },
  {
   "cell_type": "code",
   "execution_count": 22,
   "id": "32f1a4c2-9a92-4133-b545-2aab4e50f6e5",
   "metadata": {},
   "outputs": [
    {
     "data": {
      "text/plain": [
       "64"
      ]
     },
     "execution_count": 22,
     "metadata": {},
     "output_type": "execute_result"
    }
   ],
   "source": [
    "def power(a,b):\n",
    "    return(a**b)\n",
    "power(4,3)"
   ]
  },
  {
   "cell_type": "code",
   "execution_count": 23,
   "id": "64ebe338-78a2-4a12-944f-601ed6143d23",
   "metadata": {},
   "outputs": [
    {
     "data": {
      "text/plain": [
       "64"
      ]
     },
     "execution_count": 23,
     "metadata": {},
     "output_type": "execute_result"
    }
   ],
   "source": [
    "power(4,3)"
   ]
  },
  {
   "cell_type": "code",
   "execution_count": 24,
   "id": "ae457202-eb5c-42f7-94f3-ce99c71fdcf3",
   "metadata": {},
   "outputs": [
    {
     "data": {
      "text/plain": [
       "25"
      ]
     },
     "execution_count": 24,
     "metadata": {},
     "output_type": "execute_result"
    }
   ],
   "source": [
    "abs(-25)"
   ]
  },
  {
   "cell_type": "code",
   "execution_count": 27,
   "id": "8ee59241-ce75-4d9c-889f-37e7fe4d8ac3",
   "metadata": {},
   "outputs": [
    {
     "data": {
      "text/plain": [
       "85"
      ]
     },
     "execution_count": 27,
     "metadata": {},
     "output_type": "execute_result"
    }
   ],
   "source": [
    "max(5,10,20,25,5,8,5,85,8,5,5,8,5,85,8,5,5,8,5,8,6,1,45,56,5,5)"
   ]
  },
  {
   "cell_type": "code",
   "execution_count": 29,
   "id": "ec7991aa-cc9b-4340-8445-361d80562ad1",
   "metadata": {},
   "outputs": [],
   "source": [
    "import math"
   ]
  },
  {
   "cell_type": "code",
   "execution_count": 30,
   "id": "6798a98c-1730-4244-aab6-d8d4d35cb54e",
   "metadata": {},
   "outputs": [],
   "source": [
    "pi=math.pi"
   ]
  },
  {
   "cell_type": "code",
   "execution_count": 31,
   "id": "d137b3a2-9591-438a-bf27-a811f17b2f95",
   "metadata": {},
   "outputs": [
    {
     "data": {
      "text/plain": [
       "3.141592653589793"
      ]
     },
     "execution_count": 31,
     "metadata": {},
     "output_type": "execute_result"
    }
   ],
   "source": [
    "pi"
   ]
  },
  {
   "cell_type": "code",
   "execution_count": 32,
   "id": "b0151cae-06bb-4ef0-8b5c-42389fc3366b",
   "metadata": {},
   "outputs": [
    {
     "data": {
      "text/plain": [
       "4.0"
      ]
     },
     "execution_count": 32,
     "metadata": {},
     "output_type": "execute_result"
    }
   ],
   "source": [
    "math.sqrt(16)"
   ]
  },
  {
   "cell_type": "code",
   "execution_count": 33,
   "id": "9fa1e316-9994-4b02-96c8-304a7ce260a8",
   "metadata": {},
   "outputs": [
    {
     "data": {
      "text/plain": [
       "0.8939966636005579"
      ]
     },
     "execution_count": 33,
     "metadata": {},
     "output_type": "execute_result"
    }
   ],
   "source": [
    "math.sin(90)"
   ]
  },
  {
   "cell_type": "code",
   "execution_count": 35,
   "id": "45171a63-5913-4e77-b154-1f7c4b7a0719",
   "metadata": {},
   "outputs": [],
   "source": [
    "import random"
   ]
  },
  {
   "cell_type": "code",
   "execution_count": 41,
   "id": "8c1dd8ac-62ea-40f0-810a-2a3e48f863ac",
   "metadata": {},
   "outputs": [
    {
     "data": {
      "text/plain": [
       "664"
      ]
     },
     "execution_count": 41,
     "metadata": {},
     "output_type": "execute_result"
    }
   ],
   "source": [
    "random.randint(1,1000)"
   ]
  },
  {
   "cell_type": "code",
   "execution_count": null,
   "id": "ac781fbd-f6c5-44c4-ad1a-dcb39c69bfbb",
   "metadata": {},
   "outputs": [],
   "source": [
    "poly = many\n",
    "morophism = form"
   ]
  },
  {
   "cell_type": "code",
   "execution_count": null,
   "id": "56b9fed2-f1bc-4041-9c99-ea6a7e2a4659",
   "metadata": {},
   "outputs": [],
   "source": [
    "len()"
   ]
  },
  {
   "cell_type": "code",
   "execution_count": 42,
   "id": "55eeb11f-0b43-488b-b195-5381f545e3bb",
   "metadata": {},
   "outputs": [],
   "source": [
    "x = \"Hello World\""
   ]
  },
  {
   "cell_type": "code",
   "execution_count": 43,
   "id": "4082dfd7-6c36-4daf-aacf-f1e263071de3",
   "metadata": {},
   "outputs": [
    {
     "name": "stdout",
     "output_type": "stream",
     "text": [
      "11\n"
     ]
    }
   ],
   "source": [
    "print(len(x))"
   ]
  },
  {
   "cell_type": "code",
   "execution_count": 44,
   "id": "3beb8e4e-48f2-4a32-8868-c6da10897353",
   "metadata": {},
   "outputs": [],
   "source": [
    "mytuple = (\"apple\",\"banana\",\"cherry\")"
   ]
  },
  {
   "cell_type": "code",
   "execution_count": 45,
   "id": "9d11cd69-fa6d-4678-93f4-0ad6e6ea567e",
   "metadata": {},
   "outputs": [
    {
     "name": "stdout",
     "output_type": "stream",
     "text": [
      "3\n"
     ]
    }
   ],
   "source": [
    "print(len(mytuple))"
   ]
  },
  {
   "cell_type": "code",
   "execution_count": 49,
   "id": "e28c8616-11d2-40c0-bc0b-ca80fc2e651c",
   "metadata": {},
   "outputs": [],
   "source": [
    "thisdict = {\n",
    "    \"brand\": \"Ford\",\n",
    "    \"model\": \"mustang\",\n",
    "    \"year\": 1964\n",
    "}"
   ]
  },
  {
   "cell_type": "code",
   "execution_count": 50,
   "id": "440a119b-aa79-459c-9b17-e388730d85d4",
   "metadata": {},
   "outputs": [
    {
     "name": "stdout",
     "output_type": "stream",
     "text": [
      "3\n"
     ]
    }
   ],
   "source": [
    "print(len(thisdict))"
   ]
  },
  {
   "cell_type": "code",
   "execution_count": 53,
   "id": "db255c9b-9eee-4f3c-9aa4-6bdd9c218952",
   "metadata": {},
   "outputs": [],
   "source": [
    "class Car:\n",
    "    def __init__(self, brand, model):\n",
    "        self.brand = brand\n",
    "        self.model = model\n",
    "    def move(self):\n",
    "        print(\"Drive!\")"
   ]
  },
  {
   "cell_type": "code",
   "execution_count": 59,
   "id": "9aa03da5-46a8-400a-918e-4ed0cf91d44c",
   "metadata": {},
   "outputs": [],
   "source": [
    "c1 = Car(\"Ford\", \"Mustang\")"
   ]
  },
  {
   "cell_type": "code",
   "execution_count": 60,
   "id": "2937613b-b23a-4d52-9e8a-5a41ad56e210",
   "metadata": {},
   "outputs": [
    {
     "name": "stdout",
     "output_type": "stream",
     "text": [
      "Drive!\n"
     ]
    }
   ],
   "source": [
    "c1.move()"
   ]
  },
  {
   "cell_type": "code",
   "execution_count": 61,
   "id": "d4dd85ed-f0c6-4305-b771-aead0962d6d2",
   "metadata": {},
   "outputs": [],
   "source": [
    "class Boat:\n",
    "    def __init__(self, brand, model):\n",
    "        self.brand = brand\n",
    "        self.model = model\n",
    "    def move(self):\n",
    "        print(\"sail!\")"
   ]
  },
  {
   "cell_type": "code",
   "execution_count": 62,
   "id": "14b873e9-ca44-41e4-9348-57b9bada9a99",
   "metadata": {},
   "outputs": [],
   "source": [
    "b1 = Boat(\"Ibiza\",\"Tauring 20\")"
   ]
  },
  {
   "cell_type": "code",
   "execution_count": 63,
   "id": "1fbaf898-f5da-4ccf-bf21-cc0e6f49fee0",
   "metadata": {},
   "outputs": [
    {
     "name": "stdout",
     "output_type": "stream",
     "text": [
      "sail!\n"
     ]
    }
   ],
   "source": [
    "b1.move()"
   ]
  },
  {
   "cell_type": "code",
   "execution_count": 64,
   "id": "47813b99-a9eb-4ba8-ba10-e467b596edae",
   "metadata": {},
   "outputs": [
    {
     "data": {
      "text/plain": [
       "15"
      ]
     },
     "execution_count": 64,
     "metadata": {},
     "output_type": "execute_result"
    }
   ],
   "source": [
    "5+10"
   ]
  },
  {
   "cell_type": "code",
   "execution_count": 65,
   "id": "029d291e-17d9-4a2d-80d0-971ec956daf7",
   "metadata": {},
   "outputs": [
    {
     "data": {
      "text/plain": [
       "';jsdvjsdvkjdbvkjdbv'"
      ]
     },
     "execution_count": 65,
     "metadata": {},
     "output_type": "execute_result"
    }
   ],
   "source": [
    "\";jsdvjsdv\" + \"kjdbvkjdbv\""
   ]
  },
  {
   "cell_type": "code",
   "execution_count": null,
   "id": "a20c212c-460a-48dd-b536-8d22cf7cd2f1",
   "metadata": {},
   "outputs": [],
   "source": []
  },
  {
   "cell_type": "markdown",
   "id": "1a918646-8062-4587-81f2-78717db0c726",
   "metadata": {},
   "source": [
    "File handling"
   ]
  },
  {
   "cell_type": "code",
   "execution_count": 70,
   "id": "14debb9c-1b22-4bce-bf90-0ba0c6f54b7b",
   "metadata": {},
   "outputs": [],
   "source": [
    "f = open(\"demo.txt\")"
   ]
  },
  {
   "cell_type": "code",
   "execution_count": 71,
   "id": "47663e00-ac06-4a55-86f0-3db4bd736dc1",
   "metadata": {},
   "outputs": [],
   "source": [
    "f.close()"
   ]
  },
  {
   "cell_type": "code",
   "execution_count": 73,
   "id": "6e87f7c9-72a8-4f62-a8d4-7d92037869ee",
   "metadata": {},
   "outputs": [],
   "source": [
    "f = open(\"demo.txt\",\"w\")\n",
    "f.write(\"now the file has more content\")\n",
    "f.close() "
   ]
  },
  {
   "cell_type": "code",
   "execution_count": 74,
   "id": "f48f4a72-fb4b-4387-8bea-646415305bb6",
   "metadata": {},
   "outputs": [
    {
     "name": "stdout",
     "output_type": "stream",
     "text": [
      "now the file has more content\n"
     ]
    }
   ],
   "source": [
    "f= open(\"demo.txt\",\"r\")\n",
    "print(f.read())"
   ]
  },
  {
   "cell_type": "code",
   "execution_count": 75,
   "id": "1226bcad-4847-4cba-913e-d90b18c884c9",
   "metadata": {},
   "outputs": [],
   "source": [
    "f = open(\"demo.txt\",\"w\")\n",
    "f.write(\"content deleted\")\n",
    "f.close()"
   ]
  },
  {
   "cell_type": "code",
   "execution_count": null,
   "id": "84c0e3f0-8860-435e-8f35-1a526075afc4",
   "metadata": {},
   "outputs": [],
   "source": []
  },
  {
   "cell_type": "code",
   "execution_count": 92,
   "id": "e0d29d8e-c031-424c-a038-8c010801cd01",
   "metadata": {},
   "outputs": [],
   "source": [
    "f = open(\"demo.txt\",\"a\")"
   ]
  },
  {
   "cell_type": "code",
   "execution_count": 95,
   "id": "aee2158b-d3a7-40ea-bc2e-6dc1d4ec309b",
   "metadata": {},
   "outputs": [],
   "source": [
    "import os\n",
    "os.remove(\"demo1.txt\")"
   ]
  },
  {
   "cell_type": "code",
   "execution_count": 98,
   "id": "562e83b4-1a63-4234-a693-9c83777d4234",
   "metadata": {},
   "outputs": [
    {
     "name": "stdout",
     "output_type": "stream",
     "text": [
      "File not exist or deleted\n"
     ]
    }
   ],
   "source": [
    "if os.path.exists(\"demo1.txt\"):\n",
    "    os.remove(\"demo1.txt\")\n",
    "else:\n",
    "    print(\"File not exist or deleted\")"
   ]
  },
  {
   "cell_type": "code",
   "execution_count": null,
   "id": "4944df71-abe6-4cf7-862f-7bf1573969db",
   "metadata": {},
   "outputs": [],
   "source": []
  },
  {
   "cell_type": "markdown",
   "id": "e243306a-7682-4961-b6e2-fe2bc3721b05",
   "metadata": {},
   "source": [
    "Assignments"
   ]
  },
  {
   "cell_type": "markdown",
   "id": "b35cb6dc-ba70-4c20-ac2f-eae1878cddee",
   "metadata": {},
   "source": [
    "1. Date Module Operations"
   ]
  },
  {
   "cell_type": "code",
   "execution_count": 104,
   "id": "5d253e19-ff11-4cd1-8094-6db99cf44c07",
   "metadata": {},
   "outputs": [
    {
     "name": "stdout",
     "output_type": "stream",
     "text": [
      "Current date and time: 2025-06-20 14:20:46.326255\n",
      "Date object for July 4, 2022: 2022-07-04\n",
      "Month name from date object: December\n"
     ]
    }
   ],
   "source": [
    "from datetime import datetime, date\n",
    "\n",
    "# 1.1 Display the current date and time\n",
    "print(\"Current date and time:\", datetime.now())\n",
    "\n",
    "# 1.2 Create a date object for July 4, 2022\n",
    "independence_day = date(2022, 7, 4)\n",
    "print(\"Date object for July 4, 2022:\", independence_day)\n",
    "\n",
    "# 1.3 Extract and display the name of the month from December 15, 2021\n",
    "some_date = date(2021, 12, 15)\n",
    "print(\"Month name from date object:\", some_date.strftime(\"%B\"))\n"
   ]
  },
  {
   "cell_type": "markdown",
   "id": "6866545f-7650-457a-a188-8d1639eda98d",
   "metadata": {},
   "source": [
    "2. Mathematical Calculations with math Module"
   ]
  },
  {
   "cell_type": "code",
   "execution_count": 105,
   "id": "b8c3b09a-3509-433c-8831-1d309e2f98fb",
   "metadata": {},
   "outputs": [
    {
     "name": "stdout",
     "output_type": "stream",
     "text": [
      "Square root of 81: 9.0\n",
      "Ceiling of 8.3: 9\n",
      "Floor of 8.3: 8\n",
      "2^5 = 32.0\n",
      "Value of π (pi): 3.141592653589793\n"
     ]
    }
   ],
   "source": [
    "import math\n",
    "\n",
    "# 2.1 Square root of 81\n",
    "print(\"Square root of 81:\", math.sqrt(81))\n",
    "\n",
    "# 2.2 Ceiling and floor of 8.3\n",
    "print(\"Ceiling of 8.3:\", math.ceil(8.3))\n",
    "print(\"Floor of 8.3:\", math.floor(8.3))\n",
    "\n",
    "# 2.3 2 raised to the power of 5\n",
    "print(\"2^5 =\", math.pow(2, 5))\n",
    "\n",
    "# 2.4 Value of pi\n",
    "print(\"Value of π (pi):\", math.pi)\n"
   ]
  },
  {
   "cell_type": "markdown",
   "id": "6c74e84c-d353-4014-9e60-a771219e62ac",
   "metadata": {},
   "source": [
    "3. Polymorphism in Built-in and Custom Classes"
   ]
  },
  {
   "cell_type": "code",
   "execution_count": 106,
   "id": "9ed2ef23-3034-4035-96fb-f3a6cca0bb49",
   "metadata": {},
   "outputs": [
    {
     "name": "stdout",
     "output_type": "stream",
     "text": [
      "Length of string 'Python': 6\n",
      "Length of tuple (1, 2, 3): 3\n",
      "Length of dictionary {'name': 'John', 'age': 30}: 2\n",
      "Woof!\n",
      "Meow!\n",
      "Chirp!\n"
     ]
    }
   ],
   "source": [
    "# 3.1 Using len() on different data types\n",
    "print(\"Length of string 'Python':\", len(\"Python\"))\n",
    "print(\"Length of tuple (1, 2, 3):\", len((1, 2, 3)))\n",
    "print(\"Length of dictionary {'name': 'John', 'age': 30}:\", len({\"name\": \"John\", \"age\": 30}))\n",
    "\n",
    "# 3.2 Custom polymorphism with speak methods\n",
    "class Dog:\n",
    "    def speak(self):\n",
    "        print(\"Woof!\")\n",
    "\n",
    "class Cat:\n",
    "    def speak(self):\n",
    "        print(\"Meow!\")\n",
    "\n",
    "class Bird:\n",
    "    def speak(self):\n",
    "        print(\"Chirp!\")\n",
    "\n",
    "animals = [Dog(), Cat(), Bird()]\n",
    "for animal in animals:\n",
    "    animal.speak()\n"
   ]
  },
  {
   "cell_type": "markdown",
   "id": "0a10e845-30c2-46c4-b571-4d34108b9c4d",
   "metadata": {},
   "source": [
    "4. File Handling: Creation, Reading, and Appending"
   ]
  },
  {
   "cell_type": "code",
   "execution_count": 107,
   "id": "48171f52-81c2-4ba1-9679-a505b71bdad0",
   "metadata": {},
   "outputs": [
    {
     "name": "stdout",
     "output_type": "stream",
     "text": [
      "Contents of notes.txt:\n",
      " First Line\n",
      "\n",
      "Updated contents of notes.txt:\n",
      " First Line\n",
      "Second Line\n",
      "\n"
     ]
    }
   ],
   "source": [
    "# 4.1 Create file and write to it\n",
    "with open(\"notes.txt\", \"w\") as f:\n",
    "    f.write(\"First Line\\n\")\n",
    "\n",
    "# 4.2 Read and print file contents\n",
    "with open(\"notes.txt\", \"r\") as f:\n",
    "    content = f.read()\n",
    "    print(\"Contents of notes.txt:\\n\", content)\n",
    "\n",
    "# 4.3 Append to the file\n",
    "with open(\"notes.txt\", \"a\") as f:\n",
    "    f.write(\"Second Line\\n\")\n",
    "\n",
    "# 4.4 Read and print updated contents\n",
    "with open(\"notes.txt\", \"r\") as f:\n",
    "    updated_content = f.read()\n",
    "    print(\"Updated contents of notes.txt:\\n\", updated_content)\n"
   ]
  },
  {
   "cell_type": "markdown",
   "id": "b6f39242-43b8-48de-8517-dfcae129aff5",
   "metadata": {},
   "source": [
    "5. File Handling: Checking Existence and Deleting"
   ]
  },
  {
   "cell_type": "code",
   "execution_count": 108,
   "id": "e1577759-93bb-45ae-a9cc-75e2fcc69614",
   "metadata": {},
   "outputs": [
    {
     "name": "stdout",
     "output_type": "stream",
     "text": [
      "File does not exist.\n"
     ]
    }
   ],
   "source": [
    "import os\n",
    "\n",
    "# 5.1 & 5.2 Check existence and delete file\n",
    "if os.path.exists(\"testfile.txt\"):\n",
    "    os.remove(\"testfile.txt\")\n",
    "    print(\"File deleted.\")\n",
    "else:\n",
    "    print(\"File does not exist.\")\n"
   ]
  },
  {
   "cell_type": "code",
   "execution_count": null,
   "id": "69ae299b-2325-4594-afed-c318f1e4ae4a",
   "metadata": {},
   "outputs": [],
   "source": []
  }
 ],
 "metadata": {
  "kernelspec": {
   "display_name": "Python 3 (ipykernel)",
   "language": "python",
   "name": "python3"
  },
  "language_info": {
   "codemirror_mode": {
    "name": "ipython",
    "version": 3
   },
   "file_extension": ".py",
   "mimetype": "text/x-python",
   "name": "python",
   "nbconvert_exporter": "python",
   "pygments_lexer": "ipython3",
   "version": "3.12.7"
  }
 },
 "nbformat": 4,
 "nbformat_minor": 5
}
