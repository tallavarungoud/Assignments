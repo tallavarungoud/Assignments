{
 "cells": [
  {
   "cell_type": "code",
   "execution_count": 1,
   "id": "8a73f2cd-41e7-4d3f-9240-7a61ba878306",
   "metadata": {},
   "outputs": [
    {
     "data": {
      "text/plain": [
       "13"
      ]
     },
     "execution_count": 1,
     "metadata": {},
     "output_type": "execute_result"
    }
   ],
   "source": [
    "5+8"
   ]
  },
  {
   "cell_type": "code",
   "execution_count": 2,
   "id": "a422b59e-784b-4897-9c8b-d1a675bf49fc",
   "metadata": {},
   "outputs": [
    {
     "data": {
      "text/plain": [
       "3"
      ]
     },
     "execution_count": 2,
     "metadata": {},
     "output_type": "execute_result"
    }
   ],
   "source": [
    "5-2"
   ]
  },
  {
   "cell_type": "code",
   "execution_count": 4,
   "id": "d9e240b0-7377-4d3c-b97f-0aa0629cc57d",
   "metadata": {},
   "outputs": [
    {
     "data": {
      "text/plain": [
       "25"
      ]
     },
     "execution_count": 4,
     "metadata": {},
     "output_type": "execute_result"
    }
   ],
   "source": [
    "5*5"
   ]
  },
  {
   "cell_type": "markdown",
   "id": "d499b26a-cf15-4ea2-aaa5-dd0b122bfeac",
   "metadata": {},
   "source": [
    "25/5"
   ]
  },
  {
   "cell_type": "code",
   "execution_count": 5,
   "id": "b015b666-34e3-4912-bd89-f13fe4a77442",
   "metadata": {},
   "outputs": [
    {
     "data": {
      "text/plain": [
       "256"
      ]
     },
     "execution_count": 5,
     "metadata": {},
     "output_type": "execute_result"
    }
   ],
   "source": [
    "2**8"
   ]
  },
  {
   "cell_type": "code",
   "execution_count": 6,
   "id": "40f63de1-0473-42f5-adc2-4702849687c1",
   "metadata": {},
   "outputs": [
    {
     "data": {
      "text/plain": [
       "10"
      ]
     },
     "execution_count": 6,
     "metadata": {},
     "output_type": "execute_result"
    }
   ],
   "source": [
    "80//8"
   ]
  },
  {
   "cell_type": "code",
   "execution_count": 9,
   "id": "7abea6c6-c502-4603-a94b-ab679f6ab09d",
   "metadata": {},
   "outputs": [
    {
     "data": {
      "text/plain": [
       "False"
      ]
     },
     "execution_count": 9,
     "metadata": {},
     "output_type": "execute_result"
    }
   ],
   "source": [
    "5<4"
   ]
  },
  {
   "cell_type": "code",
   "execution_count": 10,
   "id": "b50eb566-e7ef-4eb9-a472-d9ec1d71f3ce",
   "metadata": {},
   "outputs": [
    {
     "data": {
      "text/plain": [
       "True"
      ]
     },
     "execution_count": 10,
     "metadata": {},
     "output_type": "execute_result"
    }
   ],
   "source": [
    "5>4"
   ]
  },
  {
   "cell_type": "code",
   "execution_count": 11,
   "id": "f0283d33-be06-4639-a798-7d9e86079e81",
   "metadata": {},
   "outputs": [
    {
     "data": {
      "text/plain": [
       "False"
      ]
     },
     "execution_count": 11,
     "metadata": {},
     "output_type": "execute_result"
    }
   ],
   "source": [
    "5==4"
   ]
  },
  {
   "cell_type": "code",
   "execution_count": null,
   "id": "165078c1-4729-4764-a091-fac699dd896d",
   "metadata": {},
   "outputs": [],
   "source": [
    "! # not"
   ]
  },
  {
   "cell_type": "code",
   "execution_count": 20,
   "id": "6ccd34d3-1530-41ba-b321-0abbbeccfe47",
   "metadata": {},
   "outputs": [
    {
     "data": {
      "text/plain": [
       "True"
      ]
     },
     "execution_count": 20,
     "metadata": {},
     "output_type": "execute_result"
    }
   ],
   "source": [
    "5 !=4"
   ]
  },
  {
   "cell_type": "code",
   "execution_count": 21,
   "id": "7fcee015-4c42-424a-8fee-26c9efb81b0f",
   "metadata": {},
   "outputs": [
    {
     "data": {
      "text/plain": [
       "False"
      ]
     },
     "execution_count": 21,
     "metadata": {},
     "output_type": "execute_result"
    }
   ],
   "source": [
    "\"s\"!=\"s\""
   ]
  },
  {
   "cell_type": "code",
   "execution_count": 22,
   "id": "c9847dab-e77d-480f-ba3d-946d163e27df",
   "metadata": {},
   "outputs": [],
   "source": [
    "name = \"code square\""
   ]
  },
  {
   "cell_type": "code",
   "execution_count": 23,
   "id": "67c66c94-5866-48c5-ba63-aab6e75aaafc",
   "metadata": {},
   "outputs": [
    {
     "data": {
      "text/plain": [
       "'code square'"
      ]
     },
     "execution_count": 23,
     "metadata": {},
     "output_type": "execute_result"
    }
   ],
   "source": [
    "name"
   ]
  },
  {
   "cell_type": "code",
   "execution_count": 26,
   "id": "909efa5b-f4db-4700-ac77-f9e3c6f90288",
   "metadata": {},
   "outputs": [
    {
     "name": "stdout",
     "output_type": "stream",
     "text": [
      "False\n"
     ]
    }
   ],
   "source": [
    "print(\"python\" in name)"
   ]
  },
  {
   "cell_type": "code",
   "execution_count": 28,
   "id": "4b51749c-6495-43ad-9f2d-9894fedf5aff",
   "metadata": {},
   "outputs": [
    {
     "name": "stdout",
     "output_type": "stream",
     "text": [
      "True\n"
     ]
    }
   ],
   "source": [
    "print(\"python\" not in name)"
   ]
  },
  {
   "cell_type": "code",
   "execution_count": 30,
   "id": "fd3d8477-04c2-4d0d-a50d-0b832d868bc7",
   "metadata": {},
   "outputs": [
    {
     "name": "stdout",
     "output_type": "stream",
     "text": [
      "c\n",
      "o\n",
      "d\n",
      "e\n",
      " \n",
      "s\n",
      "q\n",
      "u\n",
      "a\n",
      "r\n",
      "e\n"
     ]
    }
   ],
   "source": [
    "for y in name:\n",
    "    print(y)"
   ]
  },
  {
   "cell_type": "code",
   "execution_count": 31,
   "id": "9d31cb16-47b5-45f9-ab86-029ba592304b",
   "metadata": {},
   "outputs": [],
   "source": [
    "my_list=[4,7,0]"
   ]
  },
  {
   "cell_type": "code",
   "execution_count": 37,
   "id": "e465fb5d-e6fb-4236-9656-7fbcc5b2c4e1",
   "metadata": {},
   "outputs": [],
   "source": [
    "iterator = iter(my_list)"
   ]
  },
  {
   "cell_type": "code",
   "execution_count": 38,
   "id": "f90169d0-98ad-4377-ba29-c2ede0bafe7a",
   "metadata": {},
   "outputs": [
    {
     "name": "stdout",
     "output_type": "stream",
     "text": [
      "4\n"
     ]
    }
   ],
   "source": [
    "print(next(iterator))"
   ]
  },
  {
   "cell_type": "code",
   "execution_count": 39,
   "id": "436e107b-bf95-4a3a-b7bc-fb07436aa663",
   "metadata": {},
   "outputs": [
    {
     "name": "stdout",
     "output_type": "stream",
     "text": [
      "7\n"
     ]
    }
   ],
   "source": [
    "print(next(iterator))"
   ]
  },
  {
   "cell_type": "code",
   "execution_count": 40,
   "id": "2313a404-cbd2-45fd-ae8c-3af103888353",
   "metadata": {},
   "outputs": [
    {
     "name": "stdout",
     "output_type": "stream",
     "text": [
      "0\n"
     ]
    }
   ],
   "source": [
    "print(next(iterator))"
   ]
  },
  {
   "cell_type": "code",
   "execution_count": 41,
   "id": "9497d34b-a956-4109-97a4-47164f38c574",
   "metadata": {},
   "outputs": [
    {
     "ename": "StopIteration",
     "evalue": "",
     "output_type": "error",
     "traceback": [
      "\u001b[1;31m---------------------------------------------------------------------------\u001b[0m",
      "\u001b[1;31mStopIteration\u001b[0m                             Traceback (most recent call last)",
      "Cell \u001b[1;32mIn[41], line 1\u001b[0m\n\u001b[1;32m----> 1\u001b[0m \u001b[38;5;28mprint\u001b[39m(\u001b[38;5;28mnext\u001b[39m(iterator))\n",
      "\u001b[1;31mStopIteration\u001b[0m: "
     ]
    }
   ],
   "source": [
    "print(next(iterator))"
   ]
  },
  {
   "cell_type": "code",
   "execution_count": 42,
   "id": "a976835d-a649-41c3-a45c-c5a1ec90afdb",
   "metadata": {},
   "outputs": [
    {
     "data": {
      "text/plain": [
       "range(0, 10)"
      ]
     },
     "execution_count": 42,
     "metadata": {},
     "output_type": "execute_result"
    }
   ],
   "source": [
    "range(10) #shift+ Tab (to check documentation)"
   ]
  },
  {
   "cell_type": "code",
   "execution_count": 43,
   "id": "d81bed62-93bb-48c6-8f66-b66a8e2934d6",
   "metadata": {},
   "outputs": [
    {
     "name": "stdout",
     "output_type": "stream",
     "text": [
      "range(1, 10)\n"
     ]
    }
   ],
   "source": [
    "print(range(1,10))"
   ]
  },
  {
   "cell_type": "code",
   "execution_count": 49,
   "id": "1db76be4-a791-4e39-8eb2-03f82af7a7ff",
   "metadata": {},
   "outputs": [
    {
     "name": "stdout",
     "output_type": "stream",
     "text": [
      "1\n",
      "3\n",
      "5\n",
      "7\n",
      "9\n"
     ]
    }
   ],
   "source": [
    "for i in range():\n",
    "    print(i)"
   ]
  },
  {
   "cell_type": "code",
   "execution_count": 50,
   "id": "297cbf81-ee17-4aa5-8520-aca309cf3853",
   "metadata": {},
   "outputs": [],
   "source": [
    "b=\"Hello World!\""
   ]
  },
  {
   "cell_type": "code",
   "execution_count": 57,
   "id": "e18f4499-85ff-4a68-aacc-d16ad500ef9a",
   "metadata": {},
   "outputs": [
    {
     "data": {
      "text/plain": [
       "'llo World!'"
      ]
     },
     "execution_count": 57,
     "metadata": {},
     "output_type": "execute_result"
    }
   ],
   "source": [
    "b[2:]"
   ]
  },
  {
   "cell_type": "code",
   "execution_count": 59,
   "id": "9333393f-59c4-46c0-82fe-a77272e96c13",
   "metadata": {},
   "outputs": [
    {
     "data": {
      "text/plain": [
       "'orl'"
      ]
     },
     "execution_count": 59,
     "metadata": {},
     "output_type": "execute_result"
    }
   ],
   "source": [
    "b[-5:-2]"
   ]
  },
  {
   "cell_type": "code",
   "execution_count": 61,
   "id": "aa6268a4-ed6a-4b18-aca6-aeac2970f9e7",
   "metadata": {},
   "outputs": [],
   "source": [
    "a = \"Hello World\""
   ]
  },
  {
   "cell_type": "code",
   "execution_count": 63,
   "id": "b9ed4f42-c35f-49cc-ac95-0f8261fd5008",
   "metadata": {},
   "outputs": [
    {
     "data": {
      "text/plain": [
       "'HELLO WORLD'"
      ]
     },
     "execution_count": 63,
     "metadata": {},
     "output_type": "execute_result"
    }
   ],
   "source": [
    "a.upper()"
   ]
  },
  {
   "cell_type": "code",
   "execution_count": 64,
   "id": "03d855d7-bdbf-4d90-b213-9b660f8c0ee8",
   "metadata": {},
   "outputs": [
    {
     "data": {
      "text/plain": [
       "'hello world'"
      ]
     },
     "execution_count": 64,
     "metadata": {},
     "output_type": "execute_result"
    }
   ],
   "source": [
    "a.lower()"
   ]
  },
  {
   "cell_type": "code",
   "execution_count": 65,
   "id": "ab32116a-e45b-49f3-afb6-a79b32ba5d81",
   "metadata": {},
   "outputs": [
    {
     "data": {
      "text/plain": [
       "'Hello World'"
      ]
     },
     "execution_count": 65,
     "metadata": {},
     "output_type": "execute_result"
    }
   ],
   "source": [
    "a.title()"
   ]
  },
  {
   "cell_type": "code",
   "execution_count": 66,
   "id": "919a6d5f-3d6a-45f9-8dde-8f287e2ae241",
   "metadata": {},
   "outputs": [
    {
     "data": {
      "text/plain": [
       "'Hello World'"
      ]
     },
     "execution_count": 66,
     "metadata": {},
     "output_type": "execute_result"
    }
   ],
   "source": [
    "a.strip()"
   ]
  },
  {
   "cell_type": "code",
   "execution_count": 67,
   "id": "7c04324a-e90a-471b-b585-600fe9d9b9c8",
   "metadata": {},
   "outputs": [
    {
     "data": {
      "text/plain": [
       "'Jello World'"
      ]
     },
     "execution_count": 67,
     "metadata": {},
     "output_type": "execute_result"
    }
   ],
   "source": [
    "a.replace(\"H\",\"J\")"
   ]
  },
  {
   "cell_type": "code",
   "execution_count": 68,
   "id": "fb54e76a-3729-4aa4-963d-9d509dbb3b65",
   "metadata": {},
   "outputs": [
    {
     "data": {
      "text/plain": [
       "'Hello World'"
      ]
     },
     "execution_count": 68,
     "metadata": {},
     "output_type": "execute_result"
    }
   ],
   "source": [
    "a"
   ]
  },
  {
   "cell_type": "code",
   "execution_count": 69,
   "id": "7864eb2f-892e-4c77-8c22-e3739068f9bb",
   "metadata": {},
   "outputs": [
    {
     "data": {
      "text/plain": [
       "['Hello World']"
      ]
     },
     "execution_count": 69,
     "metadata": {},
     "output_type": "execute_result"
    }
   ],
   "source": [
    "a.split(\",\")"
   ]
  },
  {
   "cell_type": "code",
   "execution_count": 70,
   "id": "94fd41f9-892c-4221-a7a6-dfaf3d955838",
   "metadata": {},
   "outputs": [],
   "source": [
    "a =\"Hello\""
   ]
  },
  {
   "cell_type": "code",
   "execution_count": 71,
   "id": "b8d2eb58-4b64-4e7c-886e-bd9d5e2372cd",
   "metadata": {},
   "outputs": [],
   "source": [
    "b =\"World\""
   ]
  },
  {
   "cell_type": "code",
   "execution_count": 96,
   "id": "8d20bcd7-bfd3-4e6a-9362-c6fd12ca36df",
   "metadata": {},
   "outputs": [
    {
     "name": "stdout",
     "output_type": "stream",
     "text": [
      "HelloWorld\n"
     ]
    }
   ],
   "source": [
    "print(a+b)"
   ]
  },
  {
   "cell_type": "code",
   "execution_count": 97,
   "id": "0d13c73c-8423-4670-a8db-e2d427745ca2",
   "metadata": {},
   "outputs": [],
   "source": [
    "age = 27\n",
    "car_no=8004"
   ]
  },
  {
   "cell_type": "code",
   "execution_count": 99,
   "id": "5d99e6e6-0a85-4318-bdf7-d047b383c0ac",
   "metadata": {},
   "outputs": [
    {
     "data": {
      "text/plain": [
       "'My8004 name 27 is varun, I am + '"
      ]
     },
     "execution_count": 99,
     "metadata": {},
     "output_type": "execute_result"
    }
   ],
   "source": [
    "txt = f\"My{car_no} name {age} is varun, I am + \"\n",
    "txt"
   ]
  },
  {
   "cell_type": "code",
   "execution_count": 100,
   "id": "2d05ffcd-391f-4c75-b413-ce51a7a7ac83",
   "metadata": {},
   "outputs": [],
   "source": [
    "price = 81"
   ]
  },
  {
   "cell_type": "code",
   "execution_count": 101,
   "id": "e8c1562f-5f28-4562-a8a6-1d4bd12a4e02",
   "metadata": {},
   "outputs": [],
   "source": [
    "txt = f\"The price is {price} dollars\""
   ]
  },
  {
   "cell_type": "code",
   "execution_count": 102,
   "id": "fcf8660c-f361-4141-bea3-f35f964d0a6d",
   "metadata": {},
   "outputs": [
    {
     "data": {
      "text/plain": [
       "'The price is 81 dollars'"
      ]
     },
     "execution_count": 102,
     "metadata": {},
     "output_type": "execute_result"
    }
   ],
   "source": [
    "txt"
   ]
  },
  {
   "cell_type": "code",
   "execution_count": 103,
   "id": "35e144d3-ba41-4590-9210-542244208046",
   "metadata": {},
   "outputs": [
    {
     "data": {
      "text/plain": [
       "[1, 2, 3]"
      ]
     },
     "execution_count": 103,
     "metadata": {},
     "output_type": "execute_result"
    }
   ],
   "source": [
    "a=[1,2,3]\n",
    "a"
   ]
  },
  {
   "cell_type": "code",
   "execution_count": 104,
   "id": "f6e50914-7b4f-484d-87ab-85bc40ee74f4",
   "metadata": {},
   "outputs": [],
   "source": [
    "b=list((1,2,2,3,))"
   ]
  },
  {
   "cell_type": "code",
   "execution_count": 105,
   "id": "59e8864b-a7b9-4ce0-b8e7-21be715bf6db",
   "metadata": {},
   "outputs": [
    {
     "data": {
      "text/plain": [
       "[1, 2, 2, 3]"
      ]
     },
     "execution_count": 105,
     "metadata": {},
     "output_type": "execute_result"
    }
   ],
   "source": [
    "b"
   ]
  },
  {
   "cell_type": "code",
   "execution_count": 107,
   "id": "6758ac3c-1d44-43d3-a2b2-05f3f0124b49",
   "metadata": {},
   "outputs": [
    {
     "data": {
      "text/plain": [
       "list"
      ]
     },
     "execution_count": 107,
     "metadata": {},
     "output_type": "execute_result"
    }
   ],
   "source": [
    "type(b)"
   ]
  },
  {
   "cell_type": "code",
   "execution_count": 110,
   "id": "deb70e2d-521c-48d3-9fac-af182b537b79",
   "metadata": {},
   "outputs": [],
   "source": [
    "list1 = [\"code\", \"square\", \"class\", \"class\"]"
   ]
  },
  {
   "cell_type": "code",
   "execution_count": null,
   "id": "191f1ab7-7717-4142-a33a-270bb183a9f4",
   "metadata": {},
   "outputs": [],
   "source": [
    "list2 = [1,5,7,9,3]"
   ]
  },
  {
   "cell_type": "code",
   "execution_count": 113,
   "id": "5c83f924-0222-4bfb-9fa7-6f03eb97eb62",
   "metadata": {},
   "outputs": [],
   "source": [
    "list3 = [True, False, False]"
   ]
  },
  {
   "cell_type": "code",
   "execution_count": 114,
   "id": "571467b7-3096-4ef7-ad34-4c406082a1ce",
   "metadata": {},
   "outputs": [],
   "source": [
    "list1 = [\"abc\",34,True,40,\"male\"]"
   ]
  },
  {
   "cell_type": "code",
   "execution_count": null,
   "id": "05ff4663-661b-4eb3-8a36-78042c8d6923",
   "metadata": {},
   "outputs": [],
   "source": []
  },
  {
   "cell_type": "code",
   "execution_count": null,
   "id": "2ecb49f0-26af-4713-87a4-91c5dfa0dbf7",
   "metadata": {},
   "outputs": [],
   "source": []
  },
  {
   "cell_type": "code",
   "execution_count": null,
   "id": "bdcd6a86-f09c-4357-80a8-f32058727049",
   "metadata": {},
   "outputs": [],
   "source": []
  },
  {
   "cell_type": "code",
   "execution_count": null,
   "id": "e287dbe2-b5e6-4c36-95fd-baaa3466b40b",
   "metadata": {},
   "outputs": [],
   "source": []
  },
  {
   "cell_type": "code",
   "execution_count": null,
   "id": "e3fb82ae-e905-4b1b-9d39-ec6bf9f7dfcb",
   "metadata": {},
   "outputs": [],
   "source": []
  },
  {
   "cell_type": "code",
   "execution_count": 118,
   "id": "57de051f-3c26-4517-b9a0-8940aeaad0c5",
   "metadata": {},
   "outputs": [],
   "source": [
    "thislist = [\"code\",\"square\",\"live\",\"class\"]"
   ]
  },
  {
   "cell_type": "code",
   "execution_count": 126,
   "id": "64e11b19-c6a9-432d-bcdd-ca67d4cf1724",
   "metadata": {},
   "outputs": [
    {
     "data": {
      "text/plain": [
       "'code'"
      ]
     },
     "execution_count": 126,
     "metadata": {},
     "output_type": "execute_result"
    }
   ],
   "source": [
    "thislist[0]"
   ]
  },
  {
   "cell_type": "code",
   "execution_count": 127,
   "id": "389b60b8-ef9c-42a1-b8fd-bd3ae32ef650",
   "metadata": {},
   "outputs": [
    {
     "data": {
      "text/plain": [
       "['code', 'square', [40, 'day'], 'bootcamp']"
      ]
     },
     "execution_count": 127,
     "metadata": {},
     "output_type": "execute_result"
    }
   ],
   "source": [
    "list_in_list = [\"code\", \"square\", [40,\"day\"],\"bootcamp\"]\n",
    "list_in_list"
   ]
  },
  {
   "cell_type": "code",
   "execution_count": 128,
   "id": "262b9083-453a-4d4c-99f5-09dac8ed8c9f",
   "metadata": {},
   "outputs": [
    {
     "data": {
      "text/plain": [
       "'day'"
      ]
     },
     "execution_count": 128,
     "metadata": {},
     "output_type": "execute_result"
    }
   ],
   "source": [
    "list_in_list[2][1]"
   ]
  },
  {
   "cell_type": "code",
   "execution_count": 139,
   "id": "7f6b7fd6-19ca-4f37-9b82-b2311195e508",
   "metadata": {},
   "outputs": [
    {
     "name": "stdout",
     "output_type": "stream",
     "text": [
      "['live', 'classis', ' the']\n"
     ]
    }
   ],
   "source": [
    "thislist = [\"code\", \"square\", \"live\", \"class\"  \"is\", \" the\", \"best\"]\n",
    "print(thislist[-4:-1])"
   ]
  },
  {
   "cell_type": "code",
   "execution_count": null,
   "id": "dcd89c03-213f-45ab-b1e5-3dee70be3f0f",
   "metadata": {},
   "outputs": [],
   "source": [
    "thislist.sort()"
   ]
  },
  {
   "cell_type": "code",
   "execution_count": 140,
   "id": "ee9678e3-31ca-4a71-a3fd-4137e01ada73",
   "metadata": {},
   "outputs": [
    {
     "data": {
      "text/plain": [
       "['code', 'square', 'live', 'classis', ' the', 'best']"
      ]
     },
     "execution_count": 140,
     "metadata": {},
     "output_type": "execute_result"
    }
   ],
   "source": [
    "thislist"
   ]
  },
  {
   "cell_type": "code",
   "execution_count": 141,
   "id": "9321f7d7-a313-41de-a281-e953cd962e16",
   "metadata": {},
   "outputs": [],
   "source": [
    "thislist = [\"apple\", \"balana\", \"cherry\"]"
   ]
  },
  {
   "cell_type": "code",
   "execution_count": 142,
   "id": "886f073f-8b9b-476a-97c5-1f339a6fc36f",
   "metadata": {},
   "outputs": [],
   "source": [
    "copy_list = thislist"
   ]
  },
  {
   "cell_type": "code",
   "execution_count": 143,
   "id": "accf8afc-ae86-480c-8624-0fc2ab86cb0a",
   "metadata": {},
   "outputs": [],
   "source": [
    "copy = thislist.copy()"
   ]
  },
  {
   "cell_type": "code",
   "execution_count": 144,
   "id": "80ec946e-7cbd-49c5-9002-df6abe9594a8",
   "metadata": {},
   "outputs": [
    {
     "data": {
      "text/plain": [
       "['apple', 'balana', 'cherry']"
      ]
     },
     "execution_count": 144,
     "metadata": {},
     "output_type": "execute_result"
    }
   ],
   "source": [
    "copy"
   ]
  },
  {
   "cell_type": "code",
   "execution_count": 145,
   "id": "f03d430f-b8ed-4ffd-a4ea-f4b9237688ee",
   "metadata": {},
   "outputs": [
    {
     "data": {
      "text/plain": [
       "'varunGoud'"
      ]
     },
     "execution_count": 145,
     "metadata": {},
     "output_type": "execute_result"
    }
   ],
   "source": [
    "a='varun'\n",
    "b='Goud'\n",
    "a+b"
   ]
  },
  {
   "cell_type": "code",
   "execution_count": 146,
   "id": "dc696d50",
   "metadata": {},
   "outputs": [],
   "source": [
    "list1 = [\"a\",\"b\",\"c\"]\n",
    "list2 = [1,2,3]"
   ]
  },
  {
   "cell_type": "code",
   "execution_count": 147,
   "id": "3eb7700c-600e-4c4a-974e-7307d89e9fb4",
   "metadata": {},
   "outputs": [
    {
     "data": {
      "text/plain": [
       "['a', 'b', 'c', 1, 2, 3]"
      ]
     },
     "execution_count": 147,
     "metadata": {},
     "output_type": "execute_result"
    }
   ],
   "source": [
    "list1 + list2"
   ]
  },
  {
   "cell_type": "code",
   "execution_count": 152,
   "id": "caaf3fed-14db-4369-8f00-0df3f89f9c4d",
   "metadata": {},
   "outputs": [
    {
     "ename": "TypeError",
     "evalue": "'type' object does not support item assignment",
     "output_type": "error",
     "traceback": [
      "\u001b[1;31m---------------------------------------------------------------------------\u001b[0m",
      "\u001b[1;31mTypeError\u001b[0m                                 Traceback (most recent call last)",
      "Cell \u001b[1;32mIn[152], line 1\u001b[0m\n\u001b[1;32m----> 1\u001b[0m \u001b[38;5;28mlist\u001b[39m[\u001b[38;5;241m0\u001b[39m]\u001b[38;5;241m=\u001b[39m\u001b[38;5;124m\"\u001b[39m\u001b[38;5;124mH\u001b[39m\u001b[38;5;124m\"\u001b[39m\n",
      "\u001b[1;31mTypeError\u001b[0m: 'type' object does not support item assignment"
     ]
    }
   ],
   "source": [
    "list[0]=\"H\""
   ]
  },
  {
   "cell_type": "code",
   "execution_count": 153,
   "id": "9fbc75a2-626d-42a0-8fc4-766bfc75214b",
   "metadata": {},
   "outputs": [],
   "source": [
    "thislist = [\"apple\", \"balana\", \"cherry\"]\n",
    "thislist[1]=\"kiwi\""
   ]
  },
  {
   "cell_type": "code",
   "execution_count": 154,
   "id": "31ce3de6-9479-4645-b86e-10bfd6b611c2",
   "metadata": {},
   "outputs": [
    {
     "data": {
      "text/plain": [
       "['apple', 'kiwi', 'cherry']"
      ]
     },
     "execution_count": 154,
     "metadata": {},
     "output_type": "execute_result"
    }
   ],
   "source": [
    "thislist"
   ]
  },
  {
   "cell_type": "code",
   "execution_count": 155,
   "id": "a410668d-082c-4998-ae10-c86c430032d1",
   "metadata": {},
   "outputs": [],
   "source": [
    "thislist =[\"code\",\"square\",\"class\",\"is\",\"fun\"]\n",
    "thislist[-1]=\"llive\""
   ]
  },
  {
   "cell_type": "code",
   "execution_count": 156,
   "id": "05ef8a92-89dc-42db-ad90-47d74f2c5511",
   "metadata": {},
   "outputs": [
    {
     "data": {
      "text/plain": [
       "['code', 'square', 'class', 'is', 'llive']"
      ]
     },
     "execution_count": 156,
     "metadata": {},
     "output_type": "execute_result"
    }
   ],
   "source": [
    "thislist"
   ]
  },
  {
   "cell_type": "code",
   "execution_count": 157,
   "id": "bd654998-03c3-4b49-9dd7-ece9169572fc",
   "metadata": {},
   "outputs": [],
   "source": [
    "thislist[1:3] = [\"apple\",\"banana\"]"
   ]
  },
  {
   "cell_type": "code",
   "execution_count": 158,
   "id": "bc7e9ca0-0664-4f4d-adab-41d4f15059ea",
   "metadata": {},
   "outputs": [
    {
     "data": {
      "text/plain": [
       "['code', 'apple', 'banana', 'is', 'llive']"
      ]
     },
     "execution_count": 158,
     "metadata": {},
     "output_type": "execute_result"
    }
   ],
   "source": [
    "thislist"
   ]
  },
  {
   "cell_type": "code",
   "execution_count": 163,
   "id": "b413cd9f-c57c-497f-81c1-cf736c0e99d7",
   "metadata": {},
   "outputs": [],
   "source": [
    "thislist.append(\"orange\")"
   ]
  },
  {
   "cell_type": "code",
   "execution_count": 166,
   "id": "c5371128-9e07-4bfc-9322-a8906da13e4d",
   "metadata": {},
   "outputs": [],
   "source": [
    "thislist.insert(1,\"orange\")"
   ]
  },
  {
   "cell_type": "code",
   "execution_count": 167,
   "id": "ea57cd3b-d30d-44e0-986e-f9920fde4f47",
   "metadata": {},
   "outputs": [
    {
     "data": {
      "text/plain": [
       "['code', 'orange', 'apple', 'banana', 'is', 'llive', 'orange']"
      ]
     },
     "execution_count": 167,
     "metadata": {},
     "output_type": "execute_result"
    }
   ],
   "source": [
    "thislist"
   ]
  },
  {
   "cell_type": "code",
   "execution_count": 168,
   "id": "58d0abc6-717a-4633-9329-13963895b6bf",
   "metadata": {},
   "outputs": [],
   "source": [
    "thislist.remove(\"banana\")"
   ]
  },
  {
   "cell_type": "code",
   "execution_count": 169,
   "id": "a6d296e7-7df4-49c7-8e29-c88f63cc2e4c",
   "metadata": {},
   "outputs": [
    {
     "data": {
      "text/plain": [
       "['code', 'orange', 'apple', 'is', 'llive', 'orange']"
      ]
     },
     "execution_count": 169,
     "metadata": {},
     "output_type": "execute_result"
    }
   ],
   "source": [
    "thislist"
   ]
  },
  {
   "cell_type": "code",
   "execution_count": 170,
   "id": "48873f0a-3dbc-40b9-b20f-c43b2e8e0f49",
   "metadata": {},
   "outputs": [],
   "source": [
    "del thislist"
   ]
  },
  {
   "cell_type": "code",
   "execution_count": 171,
   "id": "1b732c79-eb1e-4beb-93de-590fdb22637d",
   "metadata": {},
   "outputs": [
    {
     "ename": "NameError",
     "evalue": "name 'thislist' is not defined",
     "output_type": "error",
     "traceback": [
      "\u001b[1;31m---------------------------------------------------------------------------\u001b[0m",
      "\u001b[1;31mNameError\u001b[0m                                 Traceback (most recent call last)",
      "Cell \u001b[1;32mIn[171], line 1\u001b[0m\n\u001b[1;32m----> 1\u001b[0m thislist\n",
      "\u001b[1;31mNameError\u001b[0m: name 'thislist' is not defined"
     ]
    }
   ],
   "source": [
    "thislist"
   ]
  },
  {
   "cell_type": "code",
   "execution_count": 173,
   "id": "d71ed3de-5334-47fd-b225-c106b7cf32e9",
   "metadata": {},
   "outputs": [
    {
     "name": "stdout",
     "output_type": "stream",
     "text": [
      "not present\n"
     ]
    }
   ],
   "source": [
    "thislist = [\"apple\", \"banana\", \"cherry\"]\n",
    "if \"kiwi\" in thislist:\n",
    "    Print(\"Yes, Apple Present\")\n",
    "else:\n",
    "    print(\"not present\")"
   ]
  },
  {
   "cell_type": "code",
   "execution_count": 174,
   "id": "d89a807f-4730-417a-896c-44a9464f3893",
   "metadata": {},
   "outputs": [
    {
     "name": "stdout",
     "output_type": "stream",
     "text": [
      "apple\n",
      "banana\n",
      "cherry\n"
     ]
    }
   ],
   "source": [
    "for x in thislist:\n",
    "    print(x)"
   ]
  },
  {
   "cell_type": "code",
   "execution_count": 177,
   "id": "7d056959-9f17-45f6-8940-31c36a60d859",
   "metadata": {},
   "outputs": [],
   "source": [
    "txt= \"     banana    \""
   ]
  },
  {
   "cell_type": "code",
   "execution_count": 178,
   "id": "16b1673a-643b-4a4d-b5fd-911b9053e322",
   "metadata": {},
   "outputs": [
    {
     "data": {
      "text/plain": [
       "'     banana    '"
      ]
     },
     "execution_count": 178,
     "metadata": {},
     "output_type": "execute_result"
    }
   ],
   "source": [
    "txt"
   ]
  },
  {
   "cell_type": "code",
   "execution_count": 181,
   "id": "c58fe3d9-305f-4625-9e08-60c1a1f54666",
   "metadata": {},
   "outputs": [
    {
     "data": {
      "text/plain": [
       "'Hello, world'"
      ]
     },
     "execution_count": 181,
     "metadata": {},
     "output_type": "execute_result"
    }
   ],
   "source": [
    "\"Hello, world\""
   ]
  },
  {
   "cell_type": "code",
   "execution_count": 180,
   "id": "d11f8106-4eff-4a55-ad0b-3cec4547be59",
   "metadata": {},
   "outputs": [
    {
     "name": "stdout",
     "output_type": "stream",
     "text": [
      "banana\n"
     ]
    }
   ],
   "source": [
    "x= txt.strip()\n",
    "print(x)"
   ]
  },
  {
   "cell_type": "code",
   "execution_count": 182,
   "id": "7e2deefd-8036-4949-b0a8-4dad523d5af5",
   "metadata": {},
   "outputs": [],
   "source": [
    "name = 'varun'"
   ]
  },
  {
   "cell_type": "code",
   "execution_count": 183,
   "id": "e89cd343-acea-449d-90c5-6043a2d8edac",
   "metadata": {},
   "outputs": [
    {
     "data": {
      "text/plain": [
       "'varun'"
      ]
     },
     "execution_count": 183,
     "metadata": {},
     "output_type": "execute_result"
    }
   ],
   "source": [
    "name"
   ]
  },
  {
   "cell_type": "markdown",
   "id": "cf56be28-e89f-4c9b-967c-e4b346388f99",
   "metadata": {},
   "source": [
    "Assignments"
   ]
  },
  {
   "cell_type": "markdown",
   "id": "fc0355f7-d06d-40dd-a1cc-d7c6a015845d",
   "metadata": {},
   "source": [
    "1) demonstrate the use of the following arithmetic operators in Python on any numbers:\n",
    "\n",
    "\n",
    "Addition, Subtraction, Multiplication, Division, Modulus, Exponentiation, Floor Division."
   ]
  },
  {
   "cell_type": "code",
   "execution_count": 184,
   "id": "c37a680d-fc63-41f4-940c-b717b13d3b71",
   "metadata": {},
   "outputs": [
    {
     "name": "stdout",
     "output_type": "stream",
     "text": [
      "Addition: 19\n",
      "Subtraction: 11\n",
      "Multiplication: 60\n",
      "Division: 3.75\n",
      "Modulus: 3\n",
      "Exponentiation: 50625\n",
      "Floor Division: 3\n"
     ]
    }
   ],
   "source": [
    "a = 15\n",
    "b = 4\n",
    "\n",
    "print(\"Addition:\", a + b)\n",
    "print(\"Subtraction:\", a - b)\n",
    "print(\"Multiplication:\", a * b)\n",
    "print(\"Division:\", a / b)\n",
    "print(\"Modulus:\", a % b)\n",
    "print(\"Exponentiation:\", a ** b)\n",
    "print(\"Floor Division:\", a // b)\n"
   ]
  },
  {
   "cell_type": "markdown",
   "id": "67328b89-f63a-4452-9991-3f531e8458e2",
   "metadata": {},
   "source": [
    "2) Write Python expressions using comparison operators (less than, greater than, equal to, not equal to) and evaluate them. Include examples with both numbers and strings."
   ]
  },
  {
   "cell_type": "code",
   "execution_count": 185,
   "id": "9eb510a7-b1f8-4f05-8948-7d0e6784bf20",
   "metadata": {},
   "outputs": [
    {
     "name": "stdout",
     "output_type": "stream",
     "text": [
      "5 < 10: True\n",
      "8 > 3: True\n",
      "7 == 7: True\n",
      "9 != 6: True\n",
      "'apple' < 'banana': True\n",
      "'cat' == 'cat': True\n",
      "'dog' != 'Dog': True\n"
     ]
    }
   ],
   "source": [
    "# Numbers\n",
    "print(\"5 < 10:\", 5 < 10)\n",
    "print(\"8 > 3:\", 8 > 3)\n",
    "print(\"7 == 7:\", 7 == 7)\n",
    "print(\"9 != 6:\", 9 != 6)\n",
    "\n",
    "# Strings\n",
    "print(\"'apple' < 'banana':\", 'apple' < 'banana')  # alphabetical order\n",
    "print(\"'cat' == 'cat':\", 'cat' == 'cat')\n",
    "print(\"'dog' != 'Dog':\", 'dog' != 'Dog')  # case-sensitive\n"
   ]
  },
  {
   "cell_type": "markdown",
   "id": "0cfbdf15-303e-42e7-8940-9f79cfb96fed",
   "metadata": {},
   "source": [
    "3) Create a string variable and use the ' in ' and ' not in ' keywords to check for the presence or absence of a substring within the string EX : \" Python Is Powerfull language\". & Print the results."
   ]
  },
  {
   "cell_type": "code",
   "execution_count": 186,
   "id": "52a28d8a-1f35-4f16-a483-8393c264b57c",
   "metadata": {},
   "outputs": [
    {
     "name": "stdout",
     "output_type": "stream",
     "text": [
      "'Power' in text: True\n",
      "'java' not in text: True\n"
     ]
    }
   ],
   "source": [
    "text = \"Python Is Powerfull language\"\n",
    "\n",
    "print(\"'Power' in text:\", \"Power\" in text)\n",
    "print(\"'java' not in text:\", \"java\" not in text)\n"
   ]
  },
  {
   "cell_type": "markdown",
   "id": "c56a715d-d7a1-43b0-bda4-d1fc55292f6e",
   "metadata": {},
   "source": [
    "4) Define a list with at least three elements. Use a for loop to print each element of the list."
   ]
  },
  {
   "cell_type": "code",
   "execution_count": 187,
   "id": "f7d9ad70-76c3-4e2b-9403-04cf5ee1ead9",
   "metadata": {},
   "outputs": [
    {
     "name": "stdout",
     "output_type": "stream",
     "text": [
      "10\n",
      "Python\n",
      "3.14\n"
     ]
    }
   ],
   "source": [
    "my_list = [10, \"Python\", 3.14]\n",
    "\n",
    "for item in my_list:\n",
    "    print(item)\n"
   ]
  },
  {
   "cell_type": "markdown",
   "id": "59ca2deb-acca-4a80-89de-e521ed9cc277",
   "metadata": {},
   "source": [
    "5) Use the range() function to print numbers from 10 to 1 using a for loop."
   ]
  },
  {
   "cell_type": "code",
   "execution_count": 188,
   "id": "996a35dd-aed8-4ead-9df8-000461c07973",
   "metadata": {},
   "outputs": [
    {
     "name": "stdout",
     "output_type": "stream",
     "text": [
      "10\n",
      "9\n",
      "8\n",
      "7\n",
      "6\n",
      "5\n",
      "4\n",
      "3\n",
      "2\n",
      "1\n"
     ]
    }
   ],
   "source": [
    "for i in range(10, 0, -1):\n",
    "    print(i)\n"
   ]
  },
  {
   "cell_type": "markdown",
   "id": "21cfe69f-8804-4670-b7db-42fe1636f633",
   "metadata": {},
   "source": [
    "6) Create a string variable and demonstrate the following string methods: slicing, negative indexing, converting to uppercase converting to lowercase, stripping whitespace, replacing a substring, and splitting the string."
   ]
  },
  {
   "cell_type": "code",
   "execution_count": 189,
   "id": "2c1bb930-363e-4e8b-87ef-2fb5f68601d1",
   "metadata": {},
   "outputs": [
    {
     "name": "stdout",
     "output_type": "stream",
     "text": [
      "Sliced text (0:5):   Hel\n",
      "Last character:  \n",
      "Uppercase:   HELLO PYTHON WORLD  \n",
      "Lowercase:   hello python world  \n",
      "Stripped: Hello Python World\n",
      "Replace 'Python' with 'Java':   Hello Java World  \n",
      "Split: ['Hello', 'Python', 'World']\n"
     ]
    }
   ],
   "source": [
    "text = \"  Hello Python World  \"\n",
    "\n",
    "# Slicing\n",
    "print(\"Sliced text (0:5):\", text[0:5])\n",
    "\n",
    "# Negative Indexing\n",
    "print(\"Last character:\", text[-1])\n",
    "\n",
    "# Uppercase\n",
    "print(\"Uppercase:\", text.upper())\n",
    "\n",
    "# Lowercase\n",
    "print(\"Lowercase:\", text.lower())\n",
    "\n",
    "# Stripping Whitespace\n",
    "print(\"Stripped:\", text.strip())\n",
    "\n",
    "# Replace\n",
    "print(\"Replace 'Python' with 'Java':\", text.replace(\"Python\", \"Java\"))\n",
    "\n",
    "# Split\n",
    "print(\"Split:\", text.split())\n"
   ]
  },
  {
   "cell_type": "markdown",
   "id": "90f9fdf3-35e2-41e8-aed2-a6848c0b6f31",
   "metadata": {},
   "source": [
    "7) Create a list inside list with at least five elements of different data types. Print the list."
   ]
  },
  {
   "cell_type": "code",
   "execution_count": 190,
   "id": "5e8b5516-1e25-43f9-8b42-8e90b9c669cc",
   "metadata": {},
   "outputs": [
    {
     "name": "stdout",
     "output_type": "stream",
     "text": [
      "[1, 'hello', 3.14, True, [5, 6, 'nested']]\n"
     ]
    }
   ],
   "source": [
    "my_list = [1, \"hello\", 3.14, True, [5, 6, \"nested\"]]\n",
    "print(my_list)\n"
   ]
  },
  {
   "cell_type": "markdown",
   "id": "ae943271-e376-4b31-a45b-4964f83076b0",
   "metadata": {},
   "source": [
    "8) Access and print same item from the list using both positive and negative indexing."
   ]
  },
  {
   "cell_type": "code",
   "execution_count": 191,
   "id": "66daacef-d5cf-4a39-88f9-e6cc70954596",
   "metadata": {},
   "outputs": [
    {
     "name": "stdout",
     "output_type": "stream",
     "text": [
      "Positive index [1]: banana\n",
      "Negative index [-3]: banana\n"
     ]
    }
   ],
   "source": [
    "fruits = [\"apple\", \"banana\", \"cherry\", \"date\"]\n",
    "\n",
    "print(\"Positive index [1]:\", fruits[1])\n",
    "print(\"Negative index [-3]:\", fruits[-3])  # same as [1]\n"
   ]
  },
  {
   "cell_type": "markdown",
   "id": "89d6e629-f735-43eb-8018-5c723e776575",
   "metadata": {},
   "source": [
    "9) Modify elements of a list by using the append(), insert(), remove(), pop(), and del methods. Print the list after each operation."
   ]
  },
  {
   "cell_type": "code",
   "execution_count": 192,
   "id": "a33c9d0e-14c7-4f30-9574-ee488a2fce41",
   "metadata": {},
   "outputs": [
    {
     "name": "stdout",
     "output_type": "stream",
     "text": [
      "After append: [10, 20, 30, 40]\n",
      "After insert: [10, 15, 20, 30, 40]\n",
      "After remove: [10, 15, 30, 40]\n",
      "After pop: [10, 15, 30]\n",
      "After del: [15, 30]\n"
     ]
    }
   ],
   "source": [
    "sample_list = [10, 20, 30]\n",
    "\n",
    "# Append\n",
    "sample_list.append(40)\n",
    "print(\"After append:\", sample_list)\n",
    "\n",
    "# Insert\n",
    "sample_list.insert(1, 15)\n",
    "print(\"After insert:\", sample_list)\n",
    "\n",
    "# Remove\n",
    "sample_list.remove(20)\n",
    "print(\"After remove:\", sample_list)\n",
    "\n",
    "# Pop\n",
    "sample_list.pop()\n",
    "print(\"After pop:\", sample_list)\n",
    "\n",
    "# Delete\n",
    "del sample_list[0]\n",
    "print(\"After del:\", sample_list)\n"
   ]
  },
  {
   "cell_type": "markdown",
   "id": "9fff4e6b-2b8c-4a9d-b881-6ccd6b1c9970",
   "metadata": {},
   "source": [
    "10) Join two lists and print the all item using for loop and also check is \"data\" present in list using \"if else\" statement. list_1 = [ 1,2,3,4,\"power\", True] and list_2= [\"one\", \"two\",\"Three\", \"Data\", False"
   ]
  },
  {
   "cell_type": "code",
   "execution_count": 193,
   "id": "a42ede00-46b2-403d-9c3a-2078829a2679",
   "metadata": {},
   "outputs": [
    {
     "name": "stdout",
     "output_type": "stream",
     "text": [
      "1\n",
      "2\n",
      "3\n",
      "4\n",
      "power\n",
      "True\n",
      "one\n",
      "two\n",
      "Three\n",
      "Data\n",
      "False\n",
      "'data' is not present in the list\n"
     ]
    }
   ],
   "source": [
    "list_1 = [1, 2, 3, 4, \"power\", True]\n",
    "list_2 = [\"one\", \"two\", \"Three\", \"Data\", False]\n",
    "\n",
    "# Join\n",
    "combined_list = list_1 + list_2\n",
    "\n",
    "# Print all items\n",
    "for item in combined_list:\n",
    "    print(item)\n",
    "\n",
    "# Check if 'data' is present (case-sensitive check)\n",
    "if \"data\" in combined_list:\n",
    "    print(\"'data' is present in the list\")\n",
    "else:\n",
    "    print(\"'data' is not present in the list\")\n"
   ]
  },
  {
   "cell_type": "code",
   "execution_count": null,
   "id": "590bdf62-ee93-493e-8b37-a4f0d66001ba",
   "metadata": {},
   "outputs": [],
   "source": []
  }
 ],
 "metadata": {
  "kernelspec": {
   "display_name": "Python 3 (ipykernel)",
   "language": "python",
   "name": "python3"
  },
  "language_info": {
   "codemirror_mode": {
    "name": "ipython",
    "version": 3
   },
   "file_extension": ".py",
   "mimetype": "text/x-python",
   "name": "python",
   "nbconvert_exporter": "python",
   "pygments_lexer": "ipython3",
   "version": "3.12.7"
  }
 },
 "nbformat": 4,
 "nbformat_minor": 5
}
