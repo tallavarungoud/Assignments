{
 "cells": [
  {
   "cell_type": "code",
   "execution_count": 2,
   "id": "36098bcd-f010-4053-b8be-5bde1a7955fb",
   "metadata": {},
   "outputs": [],
   "source": [
    "var = 25 # Shift+Enter"
   ]
  },
  {
   "cell_type": "code",
   "execution_count": 3,
   "id": "bdaa3c09-1fdb-4446-b8ff-3a85e96d168e",
   "metadata": {},
   "outputs": [
    {
     "name": "stdout",
     "output_type": "stream",
     "text": [
      "25\n"
     ]
    }
   ],
   "source": [
    "print(var)"
   ]
  },
  {
   "cell_type": "code",
   "execution_count": 4,
   "id": "cadf14f1-aa4d-411a-9dd3-6a59ad574520",
   "metadata": {},
   "outputs": [
    {
     "data": {
      "text/plain": [
       "25"
      ]
     },
     "execution_count": 4,
     "metadata": {},
     "output_type": "execute_result"
    }
   ],
   "source": [
    "var"
   ]
  },
  {
   "cell_type": "code",
   "execution_count": 60,
   "id": "82e3f12d",
   "metadata": {},
   "outputs": [
    {
     "ename": "SyntaxError",
     "evalue": "invalid decimal literal (4293645513.py, line 1)",
     "output_type": "error",
     "traceback": [
      "\u001b[1;36m  Cell \u001b[1;32mIn[60], line 1\u001b[1;36m\u001b[0m\n\u001b[1;33m    1sample = 25\u001b[0m\n\u001b[1;37m    ^\u001b[0m\n\u001b[1;31mSyntaxError\u001b[0m\u001b[1;31m:\u001b[0m invalid decimal literal\n"
     ]
    }
   ],
   "source": [
    "acnt_bnce_1= 25"
   ]
  },
  {
   "cell_type": "code",
   "execution_count": 38,
   "id": "e19f0996-b1b3-4007-a6cb-ea6d48ef4831",
   "metadata": {},
   "outputs": [],
   "source": [
    "name=\"varun\""
   ]
  },
  {
   "cell_type": "code",
   "execution_count": 39,
   "id": "52876000-3fa5-42b8-bc60-5c79a4ddcc88",
   "metadata": {},
   "outputs": [],
   "source": [
    "age = 27"
   ]
  },
  {
   "cell_type": "code",
   "execution_count": 40,
   "id": "a52ae211-8e1d-4831-b06d-1a636695261d",
   "metadata": {},
   "outputs": [
    {
     "data": {
      "text/plain": [
       "str"
      ]
     },
     "execution_count": 40,
     "metadata": {},
     "output_type": "execute_result"
    }
   ],
   "source": [
    "type(name)"
   ]
  },
  {
   "cell_type": "code",
   "execution_count": 41,
   "id": "0269be5f-75bc-41f1-a726-24ce4e7103e6",
   "metadata": {},
   "outputs": [
    {
     "name": "stdout",
     "output_type": "stream",
     "text": [
      "varun\n"
     ]
    },
    {
     "data": {
      "text/plain": [
       "NoneType"
      ]
     },
     "execution_count": 41,
     "metadata": {},
     "output_type": "execute_result"
    }
   ],
   "source": [
    "type(print(name))"
   ]
  },
  {
   "cell_type": "code",
   "execution_count": 42,
   "id": "766c33f5-e7a7-47f1-ae45-00f51891d131",
   "metadata": {},
   "outputs": [
    {
     "data": {
      "text/plain": [
       "str"
      ]
     },
     "execution_count": 42,
     "metadata": {},
     "output_type": "execute_result"
    }
   ],
   "source": [
    "type(name)"
   ]
  },
  {
   "cell_type": "code",
   "execution_count": 43,
   "id": "4cea7265-7d1e-41fc-a951-5b46a0ac4e6c",
   "metadata": {},
   "outputs": [],
   "source": [
    "b=6.7"
   ]
  },
  {
   "cell_type": "code",
   "execution_count": 44,
   "id": "d16b8bc2-3775-4e05-89ee-fb7743593ee3",
   "metadata": {},
   "outputs": [
    {
     "data": {
      "text/plain": [
       "float"
      ]
     },
     "execution_count": 44,
     "metadata": {},
     "output_type": "execute_result"
    }
   ],
   "source": [
    "type(b)"
   ]
  },
  {
   "cell_type": "code",
   "execution_count": 45,
   "id": "a1397737-a2b2-4d40-b7c1-7dbe140dcc05",
   "metadata": {},
   "outputs": [
    {
     "data": {
      "text/plain": [
       "True"
      ]
     },
     "execution_count": 45,
     "metadata": {},
     "output_type": "execute_result"
    }
   ],
   "source": [
    "True"
   ]
  },
  {
   "cell_type": "code",
   "execution_count": 46,
   "id": "02bf23fd-d2b2-4824-b996-7966d9054256",
   "metadata": {},
   "outputs": [
    {
     "name": "stdout",
     "output_type": "stream",
     "text": [
      "True\n"
     ]
    }
   ],
   "source": [
    "print(True)"
   ]
  },
  {
   "cell_type": "code",
   "execution_count": 47,
   "id": "2dba4496-86c2-4a3b-840f-7a41d2da50ce",
   "metadata": {},
   "outputs": [
    {
     "data": {
      "text/plain": [
       "bool"
      ]
     },
     "execution_count": 47,
     "metadata": {},
     "output_type": "execute_result"
    }
   ],
   "source": [
    "type(False)"
   ]
  },
  {
   "cell_type": "code",
   "execution_count": 48,
   "id": "e451ec12-8733-4e07-b1a7-f9b45a33b8c7",
   "metadata": {},
   "outputs": [
    {
     "data": {
      "text/plain": [
       "2"
      ]
     },
     "execution_count": 48,
     "metadata": {},
     "output_type": "execute_result"
    }
   ],
   "source": [
    "True + True"
   ]
  },
  {
   "cell_type": "code",
   "execution_count": 49,
   "id": "33da3baf-1f24-43be-9586-50811f66001a",
   "metadata": {},
   "outputs": [
    {
     "data": {
      "text/plain": [
       "1"
      ]
     },
     "execution_count": 49,
     "metadata": {},
     "output_type": "execute_result"
    }
   ],
   "source": [
    "True - False"
   ]
  },
  {
   "cell_type": "code",
   "execution_count": 50,
   "id": "3f7cb5ba-5c72-4da4-9338-b9b8ccc64295",
   "metadata": {},
   "outputs": [
    {
     "data": {
      "text/plain": [
       "-1"
      ]
     },
     "execution_count": 50,
     "metadata": {},
     "output_type": "execute_result"
    }
   ],
   "source": [
    "False - True"
   ]
  },
  {
   "cell_type": "code",
   "execution_count": 51,
   "id": "4a3d331c-f936-45dd-ad26-7adbd41bba51",
   "metadata": {},
   "outputs": [
    {
     "ename": "ZeroDivisionError",
     "evalue": "division by zero",
     "output_type": "error",
     "traceback": [
      "\u001b[1;31m---------------------------------------------------------------------------\u001b[0m",
      "\u001b[1;31mZeroDivisionError\u001b[0m                         Traceback (most recent call last)",
      "Cell \u001b[1;32mIn[51], line 1\u001b[0m\n\u001b[1;32m----> 1\u001b[0m \u001b[38;5;28;01mTrue\u001b[39;00m \u001b[38;5;241m/\u001b[39m \u001b[38;5;28;01mFalse\u001b[39;00m\n",
      "\u001b[1;31mZeroDivisionError\u001b[0m: division by zero"
     ]
    }
   ],
   "source": [
    "True / False"
   ]
  },
  {
   "cell_type": "code",
   "execution_count": 3,
   "id": "b37b7e42-80fd-4029-9ab5-d3ca08fde39f",
   "metadata": {},
   "outputs": [],
   "source": [
    "c= 7+ 8j"
   ]
  },
  {
   "cell_type": "code",
   "execution_count": 4,
   "id": "13de8f47-5b1f-4c9b-a0b2-68dbd5af5ac5",
   "metadata": {},
   "outputs": [
    {
     "data": {
      "text/plain": [
       "(7+8j)"
      ]
     },
     "execution_count": 4,
     "metadata": {},
     "output_type": "execute_result"
    }
   ],
   "source": [
    "c"
   ]
  },
  {
   "cell_type": "code",
   "execution_count": 5,
   "id": "238eb491-a99a-426a-b2aa-deb57e276669",
   "metadata": {},
   "outputs": [
    {
     "data": {
      "text/plain": [
       "complex"
      ]
     },
     "execution_count": 5,
     "metadata": {},
     "output_type": "execute_result"
    }
   ],
   "source": [
    "type(c)"
   ]
  },
  {
   "cell_type": "code",
   "execution_count": 6,
   "id": "677440f8-6c61-454f-992c-d072a6cb5fe8",
   "metadata": {},
   "outputs": [
    {
     "data": {
      "text/plain": [
       "(7-8j)"
      ]
     },
     "execution_count": 6,
     "metadata": {},
     "output_type": "execute_result"
    }
   ],
   "source": [
    "c.conjugate() "
   ]
  },
  {
   "cell_type": "code",
   "execution_count": 7,
   "id": "24eb7bc4-6184-48c4-86c2-dd71820da9b9",
   "metadata": {},
   "outputs": [
    {
     "data": {
      "text/plain": [
       "7.0"
      ]
     },
     "execution_count": 7,
     "metadata": {},
     "output_type": "execute_result"
    }
   ],
   "source": [
    "c.real"
   ]
  },
  {
   "cell_type": "code",
   "execution_count": 10,
   "id": "c8a7f981-1310-47be-89f3-b08603703cf3",
   "metadata": {},
   "outputs": [
    {
     "data": {
      "text/plain": [
       "8.0"
      ]
     },
     "execution_count": 10,
     "metadata": {},
     "output_type": "execute_result"
    }
   ],
   "source": [
    "c.imag"
   ]
  },
  {
   "cell_type": "code",
   "execution_count": 48,
   "id": "3a6f30b8-dd0b-41ca-aa2a-e2129078dfd3",
   "metadata": {},
   "outputs": [],
   "source": [
    "name = \"varun\""
   ]
  },
  {
   "cell_type": "code",
   "execution_count": 49,
   "id": "1a77b2cf-e8af-47a0-a1b0-430386aa0300",
   "metadata": {},
   "outputs": [
    {
     "data": {
      "text/plain": [
       "str"
      ]
     },
     "execution_count": 49,
     "metadata": {},
     "output_type": "execute_result"
    }
   ],
   "source": [
    "type(name)"
   ]
  },
  {
   "cell_type": "code",
   "execution_count": 50,
   "id": "9038d370-b93f-4a79-be4a-56111ed46949",
   "metadata": {},
   "outputs": [
    {
     "data": {
      "text/plain": [
       "'varun'"
      ]
     },
     "execution_count": 50,
     "metadata": {},
     "output_type": "execute_result"
    }
   ],
   "source": [
    "name"
   ]
  },
  {
   "cell_type": "code",
   "execution_count": 51,
   "id": "a0035d39-eac3-4fbf-8d2f-dc4fc1704a88",
   "metadata": {},
   "outputs": [
    {
     "data": {
      "text/plain": [
       "'u'"
      ]
     },
     "execution_count": 51,
     "metadata": {},
     "output_type": "execute_result"
    }
   ],
   "source": [
    "name[3] "
   ]
  },
  {
   "cell_type": "code",
   "execution_count": 52,
   "id": "57fbac12-63db-4bbe-80c6-1b2493bb5d3e",
   "metadata": {},
   "outputs": [
    {
     "data": {
      "text/plain": [
       "'v'"
      ]
     },
     "execution_count": 52,
     "metadata": {},
     "output_type": "execute_result"
    }
   ],
   "source": [
    "name[-5] "
   ]
  },
  {
   "cell_type": "code",
   "execution_count": 53,
   "id": "34c2b8e4-65ac-49a8-8681-b80c4db9d28f",
   "metadata": {},
   "outputs": [
    {
     "data": {
      "text/plain": [
       "'v'"
      ]
     },
     "execution_count": 53,
     "metadata": {},
     "output_type": "execute_result"
    }
   ],
   "source": [
    "name[0] "
   ]
  },
  {
   "cell_type": "code",
   "execution_count": 54,
   "id": "35247625-fac9-4962-a1c5-cc5976920f39",
   "metadata": {},
   "outputs": [
    {
     "data": {
      "text/plain": [
       "5"
      ]
     },
     "execution_count": 54,
     "metadata": {},
     "output_type": "execute_result"
    }
   ],
   "source": [
    "len(name)"
   ]
  },
  {
   "cell_type": "code",
   "execution_count": 55,
   "id": "50708454-ec39-4839-95e8-ce2e3e6c95a6",
   "metadata": {},
   "outputs": [
    {
     "data": {
      "text/plain": [
       "'varun'"
      ]
     },
     "execution_count": 55,
     "metadata": {},
     "output_type": "execute_result"
    }
   ],
   "source": [
    "name"
   ]
  },
  {
   "cell_type": "code",
   "execution_count": 56,
   "id": "2ab9a61a-a6e2-4ea1-8e6e-a9299daae809",
   "metadata": {},
   "outputs": [
    {
     "data": {
      "text/plain": [
       "'varun'"
      ]
     },
     "execution_count": 56,
     "metadata": {},
     "output_type": "execute_result"
    }
   ],
   "source": [
    "name[0:5] "
   ]
  },
  {
   "cell_type": "code",
   "execution_count": 57,
   "id": "dfe31044-4227-4e51-a7c1-d48c3aa33cb4",
   "metadata": {},
   "outputs": [
    {
     "data": {
      "text/plain": [
       "'varun'"
      ]
     },
     "execution_count": 57,
     "metadata": {},
     "output_type": "execute_result"
    }
   ],
   "source": [
    "name"
   ]
  },
  {
   "cell_type": "code",
   "execution_count": 58,
   "id": "e22b0009-dc9a-455a-b6fc-3c5d4efcf459",
   "metadata": {},
   "outputs": [],
   "source": [
    "name=\"mohel\""
   ]
  },
  {
   "cell_type": "code",
   "execution_count": 59,
   "id": "89d0e330-bbb4-4318-af8a-0dfc4845480a",
   "metadata": {},
   "outputs": [
    {
     "data": {
      "text/plain": [
       "'mohel'"
      ]
     },
     "execution_count": 59,
     "metadata": {},
     "output_type": "execute_result"
    }
   ],
   "source": [
    "name"
   ]
  },
  {
   "cell_type": "code",
   "execution_count": 60,
   "id": "a496e96a-9b69-47e0-9f8a-ea7cd404cfbe",
   "metadata": {},
   "outputs": [],
   "source": [
    "name=\"Varun\""
   ]
  },
  {
   "cell_type": "code",
   "execution_count": 61,
   "id": "ecbc9293-4ea8-4d1c-af70-9d7d88ceb4a8",
   "metadata": {},
   "outputs": [
    {
     "data": {
      "text/plain": [
       "'VARUN'"
      ]
     },
     "execution_count": 61,
     "metadata": {},
     "output_type": "execute_result"
    }
   ],
   "source": [
    "name.upper()"
   ]
  },
  {
   "cell_type": "code",
   "execution_count": 62,
   "id": "79a1c899-26ed-46e2-87d7-d866bef30c6a",
   "metadata": {},
   "outputs": [
    {
     "data": {
      "text/plain": [
       "'varun'"
      ]
     },
     "execution_count": 62,
     "metadata": {},
     "output_type": "execute_result"
    }
   ],
   "source": [
    "name.lower()"
   ]
  },
  {
   "cell_type": "code",
   "execution_count": 63,
   "id": "080125f7-9031-44c3-8b26-1ae3e8c4cef7",
   "metadata": {},
   "outputs": [
    {
     "data": {
      "text/plain": [
       "'Varun'"
      ]
     },
     "execution_count": 63,
     "metadata": {},
     "output_type": "execute_result"
    }
   ],
   "source": [
    "name.title()"
   ]
  },
  {
   "cell_type": "code",
   "execution_count": 65,
   "id": "1a101d15-b561-4a3e-a3c9-7b8297860dfd",
   "metadata": {},
   "outputs": [
    {
     "data": {
      "text/plain": [
       "False"
      ]
     },
     "execution_count": 65,
     "metadata": {},
     "output_type": "execute_result"
    }
   ],
   "source": [
    "name.islower() "
   ]
  },
  {
   "cell_type": "code",
   "execution_count": 66,
   "id": "53e47118-334e-4f76-acc3-bd55e4351317",
   "metadata": {},
   "outputs": [
    {
     "data": {
      "text/plain": [
       "False"
      ]
     },
     "execution_count": 66,
     "metadata": {},
     "output_type": "execute_result"
    }
   ],
   "source": [
    "name.isupper()"
   ]
  },
  {
   "cell_type": "code",
   "execution_count": 73,
   "id": "f68f1b95-3bd3-4fa0-8228-7ef012b44f07",
   "metadata": {},
   "outputs": [],
   "source": [
    "first_name = \"varun\"\n",
    "last_name = \" Goud\""
   ]
  },
  {
   "cell_type": "code",
   "execution_count": 74,
   "id": "57ac8b5b-73c8-4541-91bc-7ded21169bfc",
   "metadata": {},
   "outputs": [
    {
     "data": {
      "text/plain": [
       "'varun Goud'"
      ]
     },
     "execution_count": 74,
     "metadata": {},
     "output_type": "execute_result"
    }
   ],
   "source": [
    "first_name + last_name"
   ]
  },
  {
   "cell_type": "code",
   "execution_count": 75,
   "id": "401ddb21-7177-4853-848d-5caa8639dce4",
   "metadata": {},
   "outputs": [
    {
     "data": {
      "text/plain": [
       "1"
      ]
     },
     "execution_count": 75,
     "metadata": {},
     "output_type": "execute_result"
    }
   ],
   "source": [
    "True * True"
   ]
  },
  {
   "cell_type": "code",
   "execution_count": 76,
   "id": "0c1810ec-1502-4991-b110-66c74c79619f",
   "metadata": {},
   "outputs": [
    {
     "data": {
      "text/plain": [
       "0"
      ]
     },
     "execution_count": 76,
     "metadata": {},
     "output_type": "execute_result"
    }
   ],
   "source": [
    "True * False"
   ]
  },
  {
   "cell_type": "code",
   "execution_count": 78,
   "id": "8b2c1155-2670-4170-bcd5-c92c516f6b9c",
   "metadata": {},
   "outputs": [],
   "source": [
    "a=[] "
   ]
  },
  {
   "cell_type": "code",
   "execution_count": 80,
   "id": "d581db60-6b06-490c-834b-108a74d636eb",
   "metadata": {},
   "outputs": [
    {
     "data": {
      "text/plain": [
       "list"
      ]
     },
     "execution_count": 80,
     "metadata": {},
     "output_type": "execute_result"
    }
   ],
   "source": [
    "type(a)"
   ]
  },
  {
   "cell_type": "code",
   "execution_count": 81,
   "id": "237d7cd0-7d5b-486d-8415-59846396beda",
   "metadata": {},
   "outputs": [],
   "source": [
    "b=list()"
   ]
  },
  {
   "cell_type": "code",
   "execution_count": 82,
   "id": "f46dad82-e78d-414a-bac1-cc075e7b8e57",
   "metadata": {},
   "outputs": [
    {
     "data": {
      "text/plain": [
       "list"
      ]
     },
     "execution_count": 82,
     "metadata": {},
     "output_type": "execute_result"
    }
   ],
   "source": [
    "type(b)"
   ]
  },
  {
   "cell_type": "code",
   "execution_count": 84,
   "id": "0b291029-91db-4cbd-b1f4-54a12c2c0a7f",
   "metadata": {},
   "outputs": [],
   "source": [
    "a=[True,False,1+5j,\"varun\",3.5,1,2,3] "
   ]
  },
  {
   "cell_type": "code",
   "execution_count": 85,
   "id": "530a4bab-414e-4781-824f-f2c69b4e8a15",
   "metadata": {},
   "outputs": [
    {
     "name": "stdout",
     "output_type": "stream",
     "text": [
      "[1, 2, 5, 4, 7, True, False, (1+5j), 'varun', 3.5]\n"
     ]
    }
   ],
   "source": [
    "print(a) "
   ]
  },
  {
   "cell_type": "code",
   "execution_count": 88,
   "id": "0249ebf6-a41a-4040-a9b9-011c814f876c",
   "metadata": {},
   "outputs": [],
   "source": [
    "a[0]=False"
   ]
  },
  {
   "cell_type": "code",
   "execution_count": 89,
   "id": "c73dc991-5462-4104-a390-ff1eefaeea0f",
   "metadata": {},
   "outputs": [
    {
     "data": {
      "text/plain": [
       "[False, 2, 5, 4, 7, True, False, (1+5j), 'varun', 3.5]"
      ]
     },
     "execution_count": 89,
     "metadata": {},
     "output_type": "execute_result"
    }
   ],
   "source": [
    "a"
   ]
  },
  {
   "cell_type": "code",
   "execution_count": 90,
   "id": "a3dc8b90-fb43-46f3-9674-3532027b58ac",
   "metadata": {},
   "outputs": [
    {
     "data": {
      "text/plain": [
       "10"
      ]
     },
     "execution_count": 90,
     "metadata": {},
     "output_type": "execute_result"
    }
   ],
   "source": [
    "len(a)"
   ]
  },
  {
   "cell_type": "code",
   "execution_count": 93,
   "id": "09500227-657a-4a2a-bfb4-fedf2347cff2",
   "metadata": {},
   "outputs": [
    {
     "data": {
      "text/plain": [
       "(1+5j)"
      ]
     },
     "execution_count": 93,
     "metadata": {},
     "output_type": "execute_result"
    }
   ],
   "source": [
    "a[-3] "
   ]
  },
  {
   "cell_type": "code",
   "execution_count": 96,
   "id": "ebf50e12-836b-43aa-b816-0ecf5a10525a",
   "metadata": {},
   "outputs": [
    {
     "data": {
      "text/plain": [
       "[False, 5, 7, False, 'varun']"
      ]
     },
     "execution_count": 96,
     "metadata": {},
     "output_type": "execute_result"
    }
   ],
   "source": [
    "a[::2] "
   ]
  },
  {
   "cell_type": "code",
   "execution_count": 97,
   "id": "ff529039-1f64-4640-b65c-13cfd0f8006b",
   "metadata": {},
   "outputs": [
    {
     "data": {
      "text/plain": [
       "[False, 4, False, 3.5]"
      ]
     },
     "execution_count": 97,
     "metadata": {},
     "output_type": "execute_result"
    }
   ],
   "source": [
    "a[::3]"
   ]
  },
  {
   "cell_type": "code",
   "execution_count": 98,
   "id": "ac0ed860-b7f9-43b0-a475-6da6eb7a494b",
   "metadata": {},
   "outputs": [
    {
     "data": {
      "text/plain": [
       "[False, 2, 5, 4, 7, True, False, (1+5j), 'varun', 3.5]"
      ]
     },
     "execution_count": 98,
     "metadata": {},
     "output_type": "execute_result"
    }
   ],
   "source": [
    "a"
   ]
  },
  {
   "cell_type": "code",
   "execution_count": 104,
   "id": "95b64abf-ea91-4f27-94fe-c5831bf5f6f4",
   "metadata": {},
   "outputs": [
    {
     "name": "stdout",
     "output_type": "stream",
     "text": [
      "False\n",
      "2\n",
      "5\n",
      "4\n",
      "7\n",
      "True\n",
      "False\n",
      "(1+5j)\n",
      "varun\n",
      "3.5\n"
     ]
    }
   ],
   "source": [
    "for item in a :\n",
    "    print(item) "
   ]
  },
  {
   "cell_type": "code",
   "execution_count": 105,
   "id": "564c3492-4e2f-4361-96de-bca25844b6f1",
   "metadata": {},
   "outputs": [],
   "source": [
    "name= \"varun\""
   ]
  },
  {
   "cell_type": "code",
   "execution_count": 108,
   "id": "347c387a-8669-4abe-bb61-73e818a911c7",
   "metadata": {},
   "outputs": [
    {
     "name": "stdout",
     "output_type": "stream",
     "text": [
      "v\n",
      "a\n",
      "r\n",
      "u\n",
      "n\n"
     ]
    }
   ],
   "source": [
    "for item in name:\n",
    "    print(item) "
   ]
  },
  {
   "cell_type": "code",
   "execution_count": 109,
   "id": "b5bdb4a8-2db4-4268-ace1-9ac7d2da3ae5",
   "metadata": {},
   "outputs": [
    {
     "data": {
      "text/plain": [
       "'v'"
      ]
     },
     "execution_count": 109,
     "metadata": {},
     "output_type": "execute_result"
    }
   ],
   "source": [
    "name[0]"
   ]
  },
  {
   "cell_type": "code",
   "execution_count": 110,
   "id": "6c42ecea-b92b-405f-99fa-591d04b29278",
   "metadata": {},
   "outputs": [
    {
     "data": {
      "text/plain": [
       "'a'"
      ]
     },
     "execution_count": 110,
     "metadata": {},
     "output_type": "execute_result"
    }
   ],
   "source": [
    "name[1]"
   ]
  },
  {
   "cell_type": "code",
   "execution_count": 111,
   "id": "75b4efc9-b04e-4b52-81f3-8bd98d3b177c",
   "metadata": {},
   "outputs": [
    {
     "data": {
      "text/plain": [
       "'r'"
      ]
     },
     "execution_count": 111,
     "metadata": {},
     "output_type": "execute_result"
    }
   ],
   "source": [
    "name[2]"
   ]
  },
  {
   "cell_type": "code",
   "execution_count": 112,
   "id": "0d94b4c9-87bb-4520-8256-cc0e2f7d3968",
   "metadata": {},
   "outputs": [
    {
     "data": {
      "text/plain": [
       "'u'"
      ]
     },
     "execution_count": 112,
     "metadata": {},
     "output_type": "execute_result"
    }
   ],
   "source": [
    "name[3]"
   ]
  },
  {
   "cell_type": "code",
   "execution_count": 113,
   "id": "c87c65e0-edee-4499-928f-7af51f68964a",
   "metadata": {},
   "outputs": [
    {
     "data": {
      "text/plain": [
       "'n'"
      ]
     },
     "execution_count": 113,
     "metadata": {},
     "output_type": "execute_result"
    }
   ],
   "source": [
    "name[4]"
   ]
  },
  {
   "cell_type": "code",
   "execution_count": 114,
   "id": "64aedbe6-7028-4a6b-ac98-42ec6be1d5ae",
   "metadata": {},
   "outputs": [
    {
     "data": {
      "text/plain": [
       "'varun'"
      ]
     },
     "execution_count": 114,
     "metadata": {},
     "output_type": "execute_result"
    }
   ],
   "source": [
    "name"
   ]
  },
  {
   "cell_type": "markdown",
   "id": "77c84328-9b4c-498e-9988-f4ff9e947cb1",
   "metadata": {},
   "source": [
    "Assignment "
   ]
  },
  {
   "cell_type": "markdown",
   "id": "09bb31cb-cb56-4794-bf30-25db3a97e1b4",
   "metadata": {},
   "source": [
    "# 1. Create a variable `city` and assign the name of your favorite city to it. Print the variable."
   ]
  },
  {
   "cell_type": "code",
   "execution_count": 115,
   "id": "b0a53509-2eca-4972-84e1-a335a5befc30",
   "metadata": {},
   "outputs": [],
   "source": [
    "city = \"Tokyo\""
   ]
  },
  {
   "cell_type": "code",
   "execution_count": 116,
   "id": "3fb55e36-6960-479a-86c0-4c85d86bea43",
   "metadata": {},
   "outputs": [
    {
     "name": "stdout",
     "output_type": "stream",
     "text": [
      "Tokyo\n"
     ]
    }
   ],
   "source": [
    "print(city)"
   ]
  },
  {
   "cell_type": "markdown",
   "id": "2fbbd325-5e21-4831-b04a-d4db6021bd9a",
   "metadata": {},
   "source": [
    "# 2. Print the data type of the variable `city`."
   ]
  },
  {
   "cell_type": "code",
   "execution_count": 117,
   "id": "d4f48073-066f-4683-a934-3ce2144cbcae",
   "metadata": {},
   "outputs": [
    {
     "name": "stdout",
     "output_type": "stream",
     "text": [
      "<class 'str'>\n"
     ]
    }
   ],
   "source": [
    "print(type(city))"
   ]
  },
  {
   "cell_type": "markdown",
   "id": "753fd45d-e9ce-413e-bedc-5a3210a3c60a",
   "metadata": {},
   "source": [
    "# 3. Convert the integer `42` to a string and assign it to a new variable. Print the new variable."
   ]
  },
  {
   "cell_type": "code",
   "execution_count": 118,
   "id": "5ae7b294-c2cb-4cf8-83a4-fee5c9369762",
   "metadata": {},
   "outputs": [],
   "source": [
    "num_str = str(42)"
   ]
  },
  {
   "cell_type": "code",
   "execution_count": 119,
   "id": "e75b3212-6347-4749-b243-6dd8362bf0d9",
   "metadata": {},
   "outputs": [
    {
     "name": "stdout",
     "output_type": "stream",
     "text": [
      "42\n"
     ]
    }
   ],
   "source": [
    "print(num_str)"
   ]
  },
  {
   "cell_type": "markdown",
   "id": "4a4c50fd-eaf3-47dd-9470-fd2c5d73e30d",
   "metadata": {},
   "source": [
    "# 4. Use len() on your name variable and count length of your name"
   ]
  },
  {
   "cell_type": "code",
   "execution_count": null,
   "id": "540c0289-1e13-4c98-97fe-487a5137f1c6",
   "metadata": {},
   "outputs": [],
   "source": [
    "name = \"Alice\""
   ]
  },
  {
   "cell_type": "code",
   "execution_count": 120,
   "id": "69a53964-7ca2-4284-a34a-bbe9cf9e2c5a",
   "metadata": {},
   "outputs": [
    {
     "name": "stdout",
     "output_type": "stream",
     "text": [
      "Length of name: 5\n"
     ]
    }
   ],
   "source": [
    "print(\"Length of name:\", len(name))"
   ]
  },
  {
   "cell_type": "markdown",
   "id": "abb7895c-b10f-49d6-997a-eee326a9eb35",
   "metadata": {},
   "source": [
    "# 5. Use \"if\" statement to check if \"code\" word exists or not in \"code square\""
   ]
  },
  {
   "cell_type": "code",
   "execution_count": 121,
   "id": "05abd9fe-d891-4e40-9656-23da79c41cba",
   "metadata": {},
   "outputs": [],
   "source": [
    "text = \"code square\""
   ]
  },
  {
   "cell_type": "code",
   "execution_count": 122,
   "id": "9b9d6d1c-464c-471b-aa29-211c49a39414",
   "metadata": {},
   "outputs": [
    {
     "name": "stdout",
     "output_type": "stream",
     "text": [
      "The word 'code' exists in the text.\n"
     ]
    }
   ],
   "source": [
    " print(\"The word 'code' exists in the text.\")"
   ]
  },
  {
   "cell_type": "code",
   "execution_count": 123,
   "id": "1056234c-c272-4a78-b9a5-965344b3c1c4",
   "metadata": {},
   "outputs": [
    {
     "name": "stdout",
     "output_type": "stream",
     "text": [
      "The word 'code' does not exist in the text.\n"
     ]
    }
   ],
   "source": [
    "print(\"The word 'code' does not exist in the text.\")"
   ]
  },
  {
   "cell_type": "code",
   "execution_count": null,
   "id": "81655670-f766-4ebc-a8c4-cea5d5bd9950",
   "metadata": {},
   "outputs": [],
   "source": []
  }
 ],
 "metadata": {
  "kernelspec": {
   "display_name": "Python 3 (ipykernel)",
   "language": "python",
   "name": "python3"
  },
  "language_info": {
   "codemirror_mode": {
    "name": "ipython",
    "version": 3
   },
   "file_extension": ".py",
   "mimetype": "text/x-python",
   "name": "python",
   "nbconvert_exporter": "python",
   "pygments_lexer": "ipython3",
   "version": "3.12.7"
  }
 },
 "nbformat": 4,
 "nbformat_minor": 5
}
