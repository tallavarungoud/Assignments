{
 "cells": [
  {
   "cell_type": "markdown",
   "id": "eabffc63-4b71-499d-8fcc-d27a53a2dddb",
   "metadata": {},
   "source": [
    "Class"
   ]
  },
  {
   "cell_type": "code",
   "execution_count": 3,
   "id": "563de3c0-b3a6-4a15-8895-c39757530cf9",
   "metadata": {},
   "outputs": [],
   "source": [
    "def name(num):\n",
    "    return num**2"
   ]
  },
  {
   "cell_type": "code",
   "execution_count": 4,
   "id": "a75d7103-1355-4306-934d-85b16be1e4bb",
   "metadata": {},
   "outputs": [
    {
     "data": {
      "text/plain": [
       "25"
      ]
     },
     "execution_count": 4,
     "metadata": {},
     "output_type": "execute_result"
    }
   ],
   "source": [
    "name(5)"
   ]
  },
  {
   "cell_type": "code",
   "execution_count": 5,
   "id": "5c2778d8-8b9f-45de-84bc-f68f719b63f4",
   "metadata": {},
   "outputs": [],
   "source": [
    "def sale_2025():\n",
    "    pass"
   ]
  },
  {
   "cell_type": "code",
   "execution_count": 6,
   "id": "2f0e1d10-20fd-4892-a8fa-60e1be62bb80",
   "metadata": {},
   "outputs": [],
   "source": [
    "sale_2025()"
   ]
  },
  {
   "cell_type": "code",
   "execution_count": 14,
   "id": "1a9545f5-e7a1-485e-88a1-06d92fd63be5",
   "metadata": {},
   "outputs": [],
   "source": [
    "var = \"data\"\n",
    "if 'a' in var :\n",
    "    pass"
   ]
  },
  {
   "cell_type": "code",
   "execution_count": 16,
   "id": "7eb771ea-a5b3-4c28-9106-f099b045c669",
   "metadata": {},
   "outputs": [],
   "source": [
    "def square(num):\n",
    "    return num**2"
   ]
  },
  {
   "cell_type": "code",
   "execution_count": 17,
   "id": "171df994-1326-4937-acce-e69fee6b5788",
   "metadata": {},
   "outputs": [
    {
     "data": {
      "text/plain": [
       "25"
      ]
     },
     "execution_count": 17,
     "metadata": {},
     "output_type": "execute_result"
    }
   ],
   "source": [
    "square(5)"
   ]
  },
  {
   "cell_type": "code",
   "execution_count": 18,
   "id": "b675966c-6bef-423a-833c-042d9607aad8",
   "metadata": {},
   "outputs": [],
   "source": [
    "## Lambda"
   ]
  },
  {
   "cell_type": "code",
   "execution_count": 25,
   "id": "11ca4191-8bba-4754-a91b-17a2e2730317",
   "metadata": {},
   "outputs": [],
   "source": [
    "x=lambda a : a**2"
   ]
  },
  {
   "cell_type": "code",
   "execution_count": 26,
   "id": "2392b732-ea67-43f2-929d-10edc981da84",
   "metadata": {},
   "outputs": [
    {
     "data": {
      "text/plain": [
       "25"
      ]
     },
     "execution_count": 26,
     "metadata": {},
     "output_type": "execute_result"
    }
   ],
   "source": [
    "x(5)"
   ]
  },
  {
   "cell_type": "code",
   "execution_count": 37,
   "id": "8f6baa6e-cc01-4c6e-a1dc-01695dae4a67",
   "metadata": {},
   "outputs": [],
   "source": [
    "y = lambda a,b, :a % b"
   ]
  },
  {
   "cell_type": "code",
   "execution_count": 38,
   "id": "095fe33b-dd06-40d2-8f3a-35464e2fad24",
   "metadata": {},
   "outputs": [
    {
     "data": {
      "text/plain": [
       "function"
      ]
     },
     "execution_count": 38,
     "metadata": {},
     "output_type": "execute_result"
    }
   ],
   "source": [
    "type(y)"
   ]
  },
  {
   "cell_type": "code",
   "execution_count": 39,
   "id": "ddab514b-10f3-4043-8954-f7b71ffcd432",
   "metadata": {},
   "outputs": [
    {
     "data": {
      "text/plain": [
       "5"
      ]
     },
     "execution_count": 39,
     "metadata": {},
     "output_type": "execute_result"
    }
   ],
   "source": [
    "y(5,6)"
   ]
  },
  {
   "cell_type": "code",
   "execution_count": 40,
   "id": "fd08a8fc-3104-4375-ad4c-be79aa02adb4",
   "metadata": {},
   "outputs": [
    {
     "data": {
      "text/plain": [
       "729"
      ]
     },
     "execution_count": 40,
     "metadata": {},
     "output_type": "execute_result"
    }
   ],
   "source": [
    "def name(a):\n",
    "    return a**3\n",
    "name(9)"
   ]
  },
  {
   "cell_type": "code",
   "execution_count": 41,
   "id": "23128c55-a43a-4813-91e0-7ceb9ffce713",
   "metadata": {},
   "outputs": [],
   "source": [
    "power = lambda a :a**3"
   ]
  },
  {
   "cell_type": "code",
   "execution_count": 42,
   "id": "5fac81a1-eda6-44e6-9733-5fd4dd0982f5",
   "metadata": {},
   "outputs": [
    {
     "data": {
      "text/plain": [
       "function"
      ]
     },
     "execution_count": 42,
     "metadata": {},
     "output_type": "execute_result"
    }
   ],
   "source": [
    "type(power)"
   ]
  },
  {
   "cell_type": "code",
   "execution_count": 43,
   "id": "8c6aa5b2-4c9e-47ff-aaf8-22b2c42bc92a",
   "metadata": {},
   "outputs": [
    {
     "data": {
      "text/plain": [
       "729"
      ]
     },
     "execution_count": 43,
     "metadata": {},
     "output_type": "execute_result"
    }
   ],
   "source": [
    "power(9)"
   ]
  },
  {
   "cell_type": "markdown",
   "id": "ac42ae5d-4cb9-461f-9243-7e9144707e46",
   "metadata": {},
   "source": [
    "Class"
   ]
  },
  {
   "cell_type": "code",
   "execution_count": 44,
   "id": "71a91960-2608-4587-bbcd-1d2bd0d64c8a",
   "metadata": {},
   "outputs": [],
   "source": [
    "class MyClass:\n",
    "    #this is class reserved for future\n",
    "    pass"
   ]
  },
  {
   "cell_type": "code",
   "execution_count": 49,
   "id": "ec89f9e3-369b-4e67-bf8d-2e1091d3dfcd",
   "metadata": {},
   "outputs": [
    {
     "name": "stdout",
     "output_type": "stream",
     "text": [
      "john\n",
      "5456\n"
     ]
    }
   ],
   "source": [
    "class car:\n",
    "    def __init__(self, name, age):\n",
    "        self.name = name\n",
    "        self.age = age\n",
    "p1 = person(\"varun\",231233)\n",
    "p2 = person(\"john\",5456)\n",
    "print(p2.name)\n",
    "print(p2.age)"
   ]
  },
  {
   "cell_type": "code",
   "execution_count": 50,
   "id": "3881cf7d-0d31-46be-b12b-a0b133176e2a",
   "metadata": {},
   "outputs": [],
   "source": [
    "p1= person(\"John\",36)\n",
    "q1= person(\"sam\",25)\n",
    "w1= person(\"steve\",44)\n",
    "r1= person(\"kane\",75)\n",
    "s1= person(\"will\",63)"
   ]
  },
  {
   "cell_type": "code",
   "execution_count": 51,
   "id": "0b8f1181-793b-4de5-83fd-cfa1ba71ce5d",
   "metadata": {},
   "outputs": [
    {
     "data": {
      "text/plain": [
       "'sam'"
      ]
     },
     "execution_count": 51,
     "metadata": {},
     "output_type": "execute_result"
    }
   ],
   "source": [
    "q1.name"
   ]
  },
  {
   "cell_type": "code",
   "execution_count": 52,
   "id": "a41586d4-ce65-4433-8342-ca0f467360cc",
   "metadata": {},
   "outputs": [
    {
     "data": {
      "text/plain": [
       "'kane'"
      ]
     },
     "execution_count": 52,
     "metadata": {},
     "output_type": "execute_result"
    }
   ],
   "source": [
    "r1.name"
   ]
  },
  {
   "cell_type": "code",
   "execution_count": null,
   "id": "4f180df6-f629-4dbe-bcf4-d13f26fca809",
   "metadata": {},
   "outputs": [],
   "source": [
    "##"
   ]
  },
  {
   "cell_type": "code",
   "execution_count": 57,
   "id": "88c54f0d-f2f0-4e62-9236-1ade249d475d",
   "metadata": {},
   "outputs": [
    {
     "data": {
      "text/plain": [
       "67"
      ]
     },
     "execution_count": 57,
     "metadata": {},
     "output_type": "execute_result"
    }
   ],
   "source": [
    "class person:\n",
    "    def __init__(self,name,surname,YOB):\n",
    "       self.name=name\n",
    "       self.surname=surname\n",
    "       self.YOB = YOB\n",
    "    def age(self,current_year):\n",
    "        return current_year - self.YOB\n",
    "p1 = person(\"varun\", \"Goud\",1958)\n",
    "p1.age(2025)"
   ]
  },
  {
   "cell_type": "code",
   "execution_count": 62,
   "id": "c116e577-8df7-4674-9745-64f782ea6a6c",
   "metadata": {},
   "outputs": [],
   "source": [
    "p2 = person(\"john\",\"david\",1975)"
   ]
  },
  {
   "cell_type": "code",
   "execution_count": 63,
   "id": "1b4fe78c-6e23-4932-826a-6a637f9841a6",
   "metadata": {},
   "outputs": [
    {
     "data": {
      "text/plain": [
       "50"
      ]
     },
     "execution_count": 63,
     "metadata": {},
     "output_type": "execute_result"
    }
   ],
   "source": [
    "p2.age(2025)"
   ]
  },
  {
   "cell_type": "code",
   "execution_count": null,
   "id": "604477e9-c4f5-4d37-859a-9e1a55941ab9",
   "metadata": {},
   "outputs": [],
   "source": [
    "##"
   ]
  },
  {
   "cell_type": "code",
   "execution_count": 73,
   "id": "5fbf348d-6eed-4112-9b6e-dfee93ca2f54",
   "metadata": {},
   "outputs": [],
   "source": [
    "class calculator:\n",
    "    def __init__(self):\n",
    "        pass\n",
    "\n",
    "    def add(self, num1, num2):\n",
    "        return num1 + num2\n",
    "\n",
    "    def sub(self, num1, num2):\n",
    "        return num1 - num2\n",
    "\n",
    "    def multiply(self, num1, num2):\n",
    "        return num1 * num2\n",
    "\n",
    "    def divide(self, num1, num2):\n",
    "        return num1 / num2\n",
    "\n",
    "cal = calculator()\n"
   ]
  },
  {
   "cell_type": "code",
   "execution_count": 75,
   "id": "bc473cbe-d265-466e-bbca-12bcba55e6e1",
   "metadata": {},
   "outputs": [
    {
     "data": {
      "text/plain": [
       "__main__.calculator"
      ]
     },
     "execution_count": 75,
     "metadata": {},
     "output_type": "execute_result"
    }
   ],
   "source": [
    "type(cal)"
   ]
  },
  {
   "cell_type": "code",
   "execution_count": 76,
   "id": "1be70dd7-4854-45f0-949c-aa5e80f21a5d",
   "metadata": {},
   "outputs": [
    {
     "data": {
      "text/plain": [
       "100"
      ]
     },
     "execution_count": 76,
     "metadata": {},
     "output_type": "execute_result"
    }
   ],
   "source": [
    "cal.add(50,50)"
   ]
  },
  {
   "cell_type": "code",
   "execution_count": 77,
   "id": "0d28aaa6-9f8f-4efe-b6b4-a255d6a379bc",
   "metadata": {},
   "outputs": [
    {
     "data": {
      "text/plain": [
       "25"
      ]
     },
     "execution_count": 77,
     "metadata": {},
     "output_type": "execute_result"
    }
   ],
   "source": [
    "cal.multiply(5,5)"
   ]
  },
  {
   "cell_type": "code",
   "execution_count": 78,
   "id": "ebcc6c25-0b40-45e2-aa7e-cd0409da6cf9",
   "metadata": {},
   "outputs": [
    {
     "data": {
      "text/plain": [
       "5.0"
      ]
     },
     "execution_count": 78,
     "metadata": {},
     "output_type": "execute_result"
    }
   ],
   "source": [
    "cal.divide(50,10)"
   ]
  },
  {
   "cell_type": "markdown",
   "id": "e60423ad-22d4-49ab-b802-3ff83a512f03",
   "metadata": {},
   "source": [
    "Assignments"
   ]
  },
  {
   "cell_type": "markdown",
   "id": "4a44df78-ecdf-4244-bf3f-5b6e58e14756",
   "metadata": {},
   "source": [
    "1) Write a lambda function to calculate the square of a number. Use it to print the square of 8."
   ]
  },
  {
   "cell_type": "code",
   "execution_count": 79,
   "id": "f6582ca8-8a92-44c0-91d9-36e079c49826",
   "metadata": {},
   "outputs": [
    {
     "name": "stdout",
     "output_type": "stream",
     "text": [
      "Square of 8: 64\n"
     ]
    }
   ],
   "source": [
    "square = lambda x: x ** 2\n",
    "print(\"Square of 8:\", square(8))\n"
   ]
  },
  {
   "cell_type": "markdown",
   "id": "0ebc945c-a2c7-4699-aca8-5015e7c04f20",
   "metadata": {},
   "source": [
    "2) Create a lambda function to multiply three arguments. Use it to multiply 3, 4, and 5, then print the result."
   ]
  },
  {
   "cell_type": "code",
   "execution_count": 80,
   "id": "a7f784f8-8284-44b4-addc-4f85b84b059d",
   "metadata": {},
   "outputs": [
    {
     "name": "stdout",
     "output_type": "stream",
     "text": [
      "Multiplication of 3, 4, 5: 60\n"
     ]
    }
   ],
   "source": [
    "multiply = lambda x, y, z: x * y * z\n",
    "print(\"Multiplication of 3, 4, 5:\", multiply(3, 4, 5))\n"
   ]
  },
  {
   "cell_type": "markdown",
   "id": "d2c0ef4f-ba5c-4d70-9f26-b97f4359f497",
   "metadata": {},
   "source": [
    "3) Write a lambda function to find the maximum of two numbers. Use it to find the maximum between 10 and 20 and print the result."
   ]
  },
  {
   "cell_type": "code",
   "execution_count": 81,
   "id": "210a76fd-6dec-4b24-8d12-8dd0c3d1072f",
   "metadata": {},
   "outputs": [
    {
     "name": "stdout",
     "output_type": "stream",
     "text": [
      "Maximum of 10 and 20: 20\n"
     ]
    }
   ],
   "source": [
    "maximum = lambda a, b: a if a > b else b\n",
    "print(\"Maximum of 10 and 20:\", maximum(10, 20))\n"
   ]
  },
  {
   "cell_type": "markdown",
   "id": "1d26ec67-4a88-4462-8714-9e6117da4292",
   "metadata": {},
   "source": [
    "4) Create a list of integers and use a lambda function with the filter method to filter out even numbers. Print the resulting list."
   ]
  },
  {
   "cell_type": "code",
   "execution_count": 82,
   "id": "6eb17938-a116-4e59-a5d5-539eead39558",
   "metadata": {},
   "outputs": [
    {
     "name": "stdout",
     "output_type": "stream",
     "text": [
      "Even numbers: [2, 4, 6, 8, 10]\n"
     ]
    }
   ],
   "source": [
    "numbers = [1, 2, 3, 4, 5, 6, 7, 8, 9, 10]\n",
    "even_numbers = list(filter(lambda x: x % 2 == 0, numbers))\n",
    "print(\"Even numbers:\", even_numbers)\n"
   ]
  },
  {
   "cell_type": "markdown",
   "id": "4839a0d2-9683-4047-b2bd-4933f0b079f4",
   "metadata": {},
   "source": [
    "5) Create a class named Animal with an __init__ method that initializes species and name. Instantiate an object of this class with species \"Dog\" and name \"Buddy\", then print the species and name."
   ]
  },
  {
   "cell_type": "code",
   "execution_count": 83,
   "id": "c06515d2-b7ae-4b5d-9503-e291d32c4405",
   "metadata": {},
   "outputs": [
    {
     "name": "stdout",
     "output_type": "stream",
     "text": [
      "Species: Dog\n",
      "Name: Buddy\n"
     ]
    }
   ],
   "source": [
    "class Animal:\n",
    "    def __init__(self, species, name):\n",
    "        self.species = species\n",
    "        self.name = name\n",
    "\n",
    "animal = Animal(\"Dog\", \"Buddy\")\n",
    "print(\"Species:\", animal.species)\n",
    "print(\"Name:\", animal.name)\n"
   ]
  },
  {
   "cell_type": "markdown",
   "id": "c5dee64a-4aa4-4dea-8674-0d58354173e5",
   "metadata": {},
   "source": [
    "6) Create a class named Car with attributes for brand, model, and year. Add a method car_info that prints a formatted string with this information. Create an instance of the Car class and call the car_info method."
   ]
  },
  {
   "cell_type": "code",
   "execution_count": 84,
   "id": "b88e5361-e21e-4fa3-b320-ab7a5c2c9076",
   "metadata": {},
   "outputs": [
    {
     "name": "stdout",
     "output_type": "stream",
     "text": [
      "Car Info: 2022 Toyota Camry\n"
     ]
    }
   ],
   "source": [
    "class Car:\n",
    "    def __init__(self, brand, model, year):\n",
    "        self.brand = brand\n",
    "        self.model = model\n",
    "        self.year = year\n",
    "\n",
    "    def car_info(self):\n",
    "        print(f\"Car Info: {self.year} {self.brand} {self.model}\")\n",
    "\n",
    "my_car = Car(\"Toyota\", \"Camry\", 2022)\n",
    "my_car.car_info()\n"
   ]
  },
  {
   "cell_type": "markdown",
   "id": "1772cc92-b500-4740-9fe4-df8d17afffe8",
   "metadata": {},
   "source": [
    "7) Create a class named Person with an __init__ method and a method introduce that prints a greeting including the person's name. Instantiate an object with the name \"Alice\" and call the introduce method."
   ]
  },
  {
   "cell_type": "code",
   "execution_count": 85,
   "id": "8828c445-a6f6-48b4-ba58-57ac4cdc85a3",
   "metadata": {},
   "outputs": [
    {
     "name": "stdout",
     "output_type": "stream",
     "text": [
      "Hello, my name is Alice.\n"
     ]
    }
   ],
   "source": [
    "class Person:\n",
    "    def __init__(self, name):\n",
    "        self.name = name\n",
    "\n",
    "    def introduce(self):\n",
    "        print(f\"Hello, my name is {self.name}.\")\n",
    "\n",
    "person = Person(\"Alice\")\n",
    "person.introduce()\n"
   ]
  },
  {
   "cell_type": "markdown",
   "id": "5cf6a98a-1349-4550-ae76-39208193a62a",
   "metadata": {},
   "source": [
    "8) Create a class named Student with attributes for name and grades (a list of grades). Add a method average_grade that returns the average of the grades. Create an instance of the Student class, add some grades, and print the average grade."
   ]
  },
  {
   "cell_type": "code",
   "execution_count": 86,
   "id": "63713352-c4ae-4059-bbcd-62c76f67ae11",
   "metadata": {},
   "outputs": [
    {
     "name": "stdout",
     "output_type": "stream",
     "text": [
      "Average Grade: 86.25\n"
     ]
    }
   ],
   "source": [
    "class Student:\n",
    "    def __init__(self, name, grades):\n",
    "        self.name = name\n",
    "        self.grades = grades\n",
    "\n",
    "    def average_grade(self):\n",
    "        return sum(self.grades) / len(self.grades)\n",
    "\n",
    "student = Student(\"John\", [85, 90, 78, 92])\n",
    "print(\"Average Grade:\", student.average_grade())\n"
   ]
  },
  {
   "cell_type": "markdown",
   "id": "3b8547d3-7f02-46a5-9788-ae51a9c40402",
   "metadata": {},
   "source": [
    "9) Create a class named Book with attributes for title, author, and year_published. Add a method book_age that calculates how old the book is from the current year. Create an instance of the Book class and print the age of the book."
   ]
  },
  {
   "cell_type": "code",
   "execution_count": 87,
   "id": "54e56a58-2300-42b9-acf3-3a53b262257e",
   "metadata": {},
   "outputs": [
    {
     "name": "stdout",
     "output_type": "stream",
     "text": [
      "Book Age: 76 years\n"
     ]
    }
   ],
   "source": [
    "from datetime import datetime\n",
    "\n",
    "class Book:\n",
    "    def __init__(self, title, author, year_published):\n",
    "        self.title = title\n",
    "        self.author = author\n",
    "        self.year_published = year_published\n",
    "\n",
    "    def book_age(self):\n",
    "        current_year = datetime.now().year\n",
    "        return current_year - self.year_published\n",
    "\n",
    "book = Book(\"1984\", \"George Orwell\", 1949)\n",
    "print(\"Book Age:\", book.book_age(), \"years\")\n"
   ]
  },
  {
   "cell_type": "markdown",
   "id": "308f0ee8-d62a-4233-ac7a-ed480e002c37",
   "metadata": {},
   "source": [
    "10) Write a BankAccount class with attributes for owner and balance. Add methods for deposit and withdraw. Create an instance and perform some deposits and withdrawals, then print the final balance."
   ]
  },
  {
   "cell_type": "code",
   "execution_count": 89,
   "id": "62bfacef-ce11-496a-84fa-d71a0aa385ab",
   "metadata": {},
   "outputs": [
    {
     "name": "stdout",
     "output_type": "stream",
     "text": [
      "Insufficient funds!\n",
      "Final Balance: 1200\n"
     ]
    }
   ],
   "source": [
    "class BankAccount:\n",
    "    def __init__(self, owner, balance=0):\n",
    "        self.owner = owner\n",
    "        self.balance = balance\n",
    "\n",
    "    def deposit(self, amount):\n",
    "        self.balance += amount\n",
    "\n",
    "    def withdraw(self, amount):\n",
    "        if amount <= self.balance:\n",
    "            self.balance -= amount\n",
    "        else:\n",
    "            print(\"Insufficient funds!\")\n",
    "\n",
    "account = BankAccount(\"Alice\", 1000)\n",
    "account.deposit(500)\n",
    "account.withdraw(300)\n",
    "account.withdraw(1500)  # Should trigger insufficient funds\n",
    "print(\"Final Balance:\", account.balance)\n"
   ]
  },
  {
   "cell_type": "markdown",
   "id": "9cbe31b7-c7e9-4a27-aae6-efe6d657894f",
   "metadata": {},
   "source": [
    "11) Create a Calculator class with methods for addition, subtraction, multiplication, and division. Use this class to perform a series of calculations and print the results."
   ]
  },
  {
   "cell_type": "code",
   "execution_count": 90,
   "id": "66eebb4a-3007-4929-ad89-06f3d37283bf",
   "metadata": {},
   "outputs": [
    {
     "name": "stdout",
     "output_type": "stream",
     "text": [
      "Addition: 15\n",
      "Subtraction: 5\n",
      "Multiplication: 50\n",
      "Division: 2.0\n"
     ]
    }
   ],
   "source": [
    "class Calculator:\n",
    "    def add(self, a, b):\n",
    "        return a + b\n",
    "\n",
    "    def subtract(self, a, b):\n",
    "        return a - b\n",
    "\n",
    "    def multiply(self, a, b):\n",
    "        return a * b\n",
    "\n",
    "    def divide(self, a, b):\n",
    "        if b == 0:\n",
    "            return \"Cannot divide by zero\"\n",
    "        return a / b\n",
    "\n",
    "calc = Calculator()\n",
    "print(\"Addition:\", calc.add(10, 5))\n",
    "print(\"Subtraction:\", calc.subtract(10, 5))\n",
    "print(\"Multiplication:\", calc.multiply(10, 5))\n",
    "print(\"Division:\", calc.divide(10, 5))\n"
   ]
  },
  {
   "cell_type": "code",
   "execution_count": null,
   "id": "f0d276cb-f65f-48f2-80be-46044d13cb3a",
   "metadata": {},
   "outputs": [],
   "source": []
  }
 ],
 "metadata": {
  "kernelspec": {
   "display_name": "Python 3 (ipykernel)",
   "language": "python",
   "name": "python3"
  },
  "language_info": {
   "codemirror_mode": {
    "name": "ipython",
    "version": 3
   },
   "file_extension": ".py",
   "mimetype": "text/x-python",
   "name": "python",
   "nbconvert_exporter": "python",
   "pygments_lexer": "ipython3",
   "version": "3.12.7"
  }
 },
 "nbformat": 4,
 "nbformat_minor": 5
}
