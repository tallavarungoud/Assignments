{
 "cells": [
  {
   "cell_type": "markdown",
   "id": "ef5de3be-c843-47bb-843e-fd47bf4bc4ce",
   "metadata": {},
   "source": [
    "Exceptional Handling"
   ]
  },
  {
   "cell_type": "code",
   "execution_count": 1,
   "id": "730f9de4-3bb3-4dba-a601-8b8538d35ce6",
   "metadata": {},
   "outputs": [
    {
     "ename": "NameError",
     "evalue": "name 'x' is not defined",
     "output_type": "error",
     "traceback": [
      "\u001b[1;31m---------------------------------------------------------------------------\u001b[0m",
      "\u001b[1;31mNameError\u001b[0m                                 Traceback (most recent call last)",
      "Cell \u001b[1;32mIn[1], line 1\u001b[0m\n\u001b[1;32m----> 1\u001b[0m x\n",
      "\u001b[1;31mNameError\u001b[0m: name 'x' is not defined"
     ]
    }
   ],
   "source": [
    "x"
   ]
  },
  {
   "cell_type": "code",
   "execution_count": 2,
   "id": "cea37f23-2af9-485e-b6e2-30b174e9df37",
   "metadata": {},
   "outputs": [
    {
     "ename": "NameError",
     "evalue": "name 'x' is not defined",
     "output_type": "error",
     "traceback": [
      "\u001b[1;31m---------------------------------------------------------------------------\u001b[0m",
      "\u001b[1;31mNameError\u001b[0m                                 Traceback (most recent call last)",
      "Cell \u001b[1;32mIn[2], line 1\u001b[0m\n\u001b[1;32m----> 1\u001b[0m \u001b[38;5;28mprint\u001b[39m(x)\n",
      "\u001b[1;31mNameError\u001b[0m: name 'x' is not defined"
     ]
    }
   ],
   "source": [
    "print(x)"
   ]
  },
  {
   "cell_type": "code",
   "execution_count": 6,
   "id": "03ddaa71-cf16-465e-9a15-5679d9bd1a27",
   "metadata": {},
   "outputs": [
    {
     "name": "stdout",
     "output_type": "stream",
     "text": [
      "variable is not defined\n"
     ]
    }
   ],
   "source": [
    "try:\n",
    "    print(X)\n",
    "except:\n",
    "    print(\"variable is not defined\")"
   ]
  },
  {
   "cell_type": "code",
   "execution_count": 7,
   "id": "0ad05933-dd5e-4056-a8c4-4dfc02dfd942",
   "metadata": {},
   "outputs": [
    {
     "ename": "ZeroDivisionError",
     "evalue": "division by zero",
     "output_type": "error",
     "traceback": [
      "\u001b[1;31m---------------------------------------------------------------------------\u001b[0m",
      "\u001b[1;31mZeroDivisionError\u001b[0m                         Traceback (most recent call last)",
      "Cell \u001b[1;32mIn[7], line 1\u001b[0m\n\u001b[1;32m----> 1\u001b[0m \u001b[38;5;241m10\u001b[39m\u001b[38;5;241m/\u001b[39m\u001b[38;5;241m0\u001b[39m\n",
      "\u001b[1;31mZeroDivisionError\u001b[0m: division by zero"
     ]
    }
   ],
   "source": [
    "10/0"
   ]
  },
  {
   "cell_type": "code",
   "execution_count": 9,
   "id": "bd9b6ae4-a3fd-4583-a9dd-90ad7fbae37f",
   "metadata": {},
   "outputs": [
    {
     "name": "stdout",
     "output_type": "stream",
     "text": [
      "5.0\n"
     ]
    }
   ],
   "source": [
    "try:\n",
    "    print(10/2)\n",
    "except:\n",
    "    print(\"you can't divide by zero,,try another number\")"
   ]
  },
  {
   "cell_type": "code",
   "execution_count": 12,
   "id": "6c1c0ef5-c762-411e-8ead-9fb3830070cc",
   "metadata": {},
   "outputs": [],
   "source": [
    "y=10"
   ]
  },
  {
   "cell_type": "code",
   "execution_count": 15,
   "id": "f8359c34-e3b6-427f-ae5e-2d20e5575ef8",
   "metadata": {},
   "outputs": [
    {
     "name": "stdout",
     "output_type": "stream",
     "text": [
      "10\n",
      "nothing went wrong\n"
     ]
    }
   ],
   "source": [
    "try:\n",
    "    print(y)\n",
    "except:\n",
    "    print(\"error occured\")\n",
    "else:\n",
    "    print(\"nothing went wrong\")"
   ]
  },
  {
   "cell_type": "code",
   "execution_count": 16,
   "id": "0d717acc-1942-4f26-9cce-1cd0a7d95c77",
   "metadata": {},
   "outputs": [
    {
     "name": "stdout",
     "output_type": "stream",
     "text": [
      "error occured\n",
      "this is finally block\n"
     ]
    }
   ],
   "source": [
    "try:\n",
    "    print(X)\n",
    "except:\n",
    "    print(\"error occured\")\n",
    "finally:\n",
    "    print(\"this is finally block\")"
   ]
  },
  {
   "cell_type": "code",
   "execution_count": 17,
   "id": "489e057c-6be4-4f06-93c7-8dcec428285c",
   "metadata": {},
   "outputs": [
    {
     "ename": "FileNotFoundError",
     "evalue": "[Errno 2] No such file or directory: 'demofile.txt'",
     "output_type": "error",
     "traceback": [
      "\u001b[1;31m---------------------------------------------------------------------------\u001b[0m",
      "\u001b[1;31mFileNotFoundError\u001b[0m                         Traceback (most recent call last)",
      "Cell \u001b[1;32mIn[17], line 1\u001b[0m\n\u001b[1;32m----> 1\u001b[0m \u001b[38;5;28mopen\u001b[39m(\u001b[38;5;124m\"\u001b[39m\u001b[38;5;124mdemofile.txt\u001b[39m\u001b[38;5;124m\"\u001b[39m)\n",
      "File \u001b[1;32mC:\\ProgramData\\anaconda3\\Lib\\site-packages\\IPython\\core\\interactiveshell.py:324\u001b[0m, in \u001b[0;36m_modified_open\u001b[1;34m(file, *args, **kwargs)\u001b[0m\n\u001b[0;32m    317\u001b[0m \u001b[38;5;28;01mif\u001b[39;00m file \u001b[38;5;129;01min\u001b[39;00m {\u001b[38;5;241m0\u001b[39m, \u001b[38;5;241m1\u001b[39m, \u001b[38;5;241m2\u001b[39m}:\n\u001b[0;32m    318\u001b[0m     \u001b[38;5;28;01mraise\u001b[39;00m \u001b[38;5;167;01mValueError\u001b[39;00m(\n\u001b[0;32m    319\u001b[0m         \u001b[38;5;124mf\u001b[39m\u001b[38;5;124m\"\u001b[39m\u001b[38;5;124mIPython won\u001b[39m\u001b[38;5;124m'\u001b[39m\u001b[38;5;124mt let you open fd=\u001b[39m\u001b[38;5;132;01m{\u001b[39;00mfile\u001b[38;5;132;01m}\u001b[39;00m\u001b[38;5;124m by default \u001b[39m\u001b[38;5;124m\"\u001b[39m\n\u001b[0;32m    320\u001b[0m         \u001b[38;5;124m\"\u001b[39m\u001b[38;5;124mas it is likely to crash IPython. If you know what you are doing, \u001b[39m\u001b[38;5;124m\"\u001b[39m\n\u001b[0;32m    321\u001b[0m         \u001b[38;5;124m\"\u001b[39m\u001b[38;5;124myou can use builtins\u001b[39m\u001b[38;5;124m'\u001b[39m\u001b[38;5;124m open.\u001b[39m\u001b[38;5;124m\"\u001b[39m\n\u001b[0;32m    322\u001b[0m     )\n\u001b[1;32m--> 324\u001b[0m \u001b[38;5;28;01mreturn\u001b[39;00m io_open(file, \u001b[38;5;241m*\u001b[39margs, \u001b[38;5;241m*\u001b[39m\u001b[38;5;241m*\u001b[39mkwargs)\n",
      "\u001b[1;31mFileNotFoundError\u001b[0m: [Errno 2] No such file or directory: 'demofile.txt'"
     ]
    }
   ],
   "source": [
    "open(\"demofile.txt\")"
   ]
  },
  {
   "cell_type": "code",
   "execution_count": 19,
   "id": "3667109b-0371-4229-9bab-690d8888332b",
   "metadata": {},
   "outputs": [
    {
     "name": "stdout",
     "output_type": "stream",
     "text": [
      "file not exist !\n"
     ]
    }
   ],
   "source": [
    "try:\n",
    "    f=open(\"demofile.txt\")\n",
    "except:\n",
    "    print(\"file not exist !\")"
   ]
  },
  {
   "cell_type": "code",
   "execution_count": 27,
   "id": "6a921b3d-1c28-4ca0-9362-dcd1a0e51883",
   "metadata": {},
   "outputs": [
    {
     "name": "stdin",
     "output_type": "stream",
     "text": [
      "enter number 7075559051\n"
     ]
    }
   ],
   "source": [
    "phone_no = input(\"enter number\")"
   ]
  },
  {
   "cell_type": "code",
   "execution_count": 28,
   "id": "bb58edb3-5510-4455-9fb7-4423d14d8697",
   "metadata": {},
   "outputs": [
    {
     "data": {
      "text/plain": [
       "str"
      ]
     },
     "execution_count": 28,
     "metadata": {},
     "output_type": "execute_result"
    }
   ],
   "source": [
    "type(phone_no)"
   ]
  },
  {
   "cell_type": "code",
   "execution_count": 29,
   "id": "2fccef80-87e5-4a14-923c-144f08907043",
   "metadata": {},
   "outputs": [
    {
     "ename": "TypeError",
     "evalue": "Type of phone_no must be Number",
     "output_type": "error",
     "traceback": [
      "\u001b[1;31m---------------------------------------------------------------------------\u001b[0m",
      "\u001b[1;31mTypeError\u001b[0m                                 Traceback (most recent call last)",
      "Cell \u001b[1;32mIn[29], line 2\u001b[0m\n\u001b[0;32m      1\u001b[0m \u001b[38;5;28;01mif\u001b[39;00m \u001b[38;5;129;01mnot\u001b[39;00m \u001b[38;5;28mtype\u001b[39m(x) \u001b[38;5;129;01mis\u001b[39;00m \u001b[38;5;28mint\u001b[39m:\n\u001b[1;32m----> 2\u001b[0m     \u001b[38;5;28;01mraise\u001b[39;00m \u001b[38;5;167;01mTypeError\u001b[39;00m(\u001b[38;5;124m\"\u001b[39m\u001b[38;5;124mType of phone_no must be Number\u001b[39m\u001b[38;5;124m\"\u001b[39m)\n",
      "\u001b[1;31mTypeError\u001b[0m: Type of phone_no must be Number"
     ]
    }
   ],
   "source": [
    "if not type(x) is int:\n",
    "    raise TypeError(\"Type of phone_no must be Number\")"
   ]
  },
  {
   "cell_type": "markdown",
   "id": "0214ab87-4f95-4a08-bfc3-adb20ac75ef1",
   "metadata": {},
   "source": [
    "Assignments"
   ]
  },
  {
   "cell_type": "markdown",
   "id": "d0eee348-d393-455d-b4dc-f0472ac6d3f2",
   "metadata": {},
   "source": [
    "1) Write a Python program that attempts to divide a number by zero within a try block. Catch the resulting ZeroDivisionError and print a custom message."
   ]
  },
  {
   "cell_type": "code",
   "execution_count": 30,
   "id": "1eb6f105-9c8c-4534-ae58-634c441510fb",
   "metadata": {},
   "outputs": [
    {
     "name": "stdout",
     "output_type": "stream",
     "text": [
      "Cannot divide by zero! Please check the denominator.\n"
     ]
    }
   ],
   "source": [
    "try:\n",
    "    result = 10 / 0\n",
    "except ZeroDivisionError:\n",
    "    print(\"Cannot divide by zero! Please check the denominator.\")\n"
   ]
  },
  {
   "cell_type": "markdown",
   "id": "f415094e-8de1-4a30-86bb-a95d5a69c2b7",
   "metadata": {},
   "source": [
    "2) Write a Python program that attempts to print an undefined variable within a try block. Catch the resulting NameError and print \"Variable is not defined\"."
   ]
  },
  {
   "cell_type": "code",
   "execution_count": 31,
   "id": "19ab6dd2-b65a-431f-abf5-6239c2bb2f36",
   "metadata": {},
   "outputs": [
    {
     "name": "stdout",
     "output_type": "stream",
     "text": [
      "Variable is not defined\n"
     ]
    }
   ],
   "source": [
    "try:\n",
    "    print(unknown_variable)\n",
    "except NameError:\n",
    "    print(\"Variable is not defined\")\n"
   ]
  },
  {
   "cell_type": "markdown",
   "id": "9724cbba-f478-427f-86a9-509c4b747b14",
   "metadata": {},
   "source": [
    "3) Write a Python program that attempts to open a non-existent file. Catch the resulting FileNotFoundError, print an error message, and ensure that a finally block prints \"Operation finished\" regardless of the outcome."
   ]
  },
  {
   "cell_type": "code",
   "execution_count": 32,
   "id": "3e5dbaef-280f-426b-a4f0-9eade515488f",
   "metadata": {},
   "outputs": [
    {
     "name": "stdout",
     "output_type": "stream",
     "text": [
      "File not found. Please check the file path.\n",
      "Operation finished\n"
     ]
    }
   ],
   "source": [
    "try:\n",
    "    with open(\"non_existent_file.txt\", \"r\") as file:\n",
    "        content = file.read()\n",
    "except FileNotFoundError:\n",
    "    print(\"File not found. Please check the file path.\")\n",
    "finally:\n",
    "    print(\"Operation finished\")\n"
   ]
  },
  {
   "cell_type": "markdown",
   "id": "a456badd-dbe6-49e9-b94d-9e0dd2a4146d",
   "metadata": {},
   "source": [
    "4) Write a Python program that uses a try block to check if a number is positive. If the number is positive, use the else block to print \"The number is positive\". Catch any exceptions that occur during the check."
   ]
  },
  {
   "cell_type": "code",
   "execution_count": 33,
   "id": "2f8340e1-579e-4bdb-9a9e-57f9b8feffd8",
   "metadata": {},
   "outputs": [
    {
     "name": "stdout",
     "output_type": "stream",
     "text": [
      "The number is positive\n"
     ]
    }
   ],
   "source": [
    "try:\n",
    "    number = 5  # You can change this to test different values\n",
    "    if number < 0:\n",
    "        raise ValueError(\"Number is not positive\")\n",
    "except Exception as e:\n",
    "    print(f\"An error occurred: {e}\")\n",
    "else:\n",
    "    print(\"The number is positive\")\n"
   ]
  },
  {
   "cell_type": "markdown",
   "id": "f14518a1-0e83-4875-9525-911d444436fd",
   "metadata": {},
   "source": [
    "5) Write a Python program that raises a ValueError if a variable age is set to a negative number. Include a custom error message that states \"Age cannot be negative\"."
   ]
  },
  {
   "cell_type": "code",
   "execution_count": 37,
   "id": "b8853843-3ee0-4813-b4eb-1820346a985c",
   "metadata": {},
   "outputs": [
    {
     "name": "stdout",
     "output_type": "stream",
     "text": [
      "Error: Age cannot be negative\n"
     ]
    }
   ],
   "source": [
    "age = -3  # You can change this to test other values\n",
    "\n",
    "try:\n",
    "    if age < 0:\n",
    "        raise ValueError(\"Age cannot be negative\")\n",
    "    else:\n",
    "        print(f\"Age is {age}\")\n",
    "except ValueError as e:\n",
    "    print(f\"Error: {e}\")\n"
   ]
  },
  {
   "cell_type": "code",
   "execution_count": null,
   "id": "93e38c0b-5a98-431b-a553-f4e22e42b09e",
   "metadata": {},
   "outputs": [],
   "source": []
  }
 ],
 "metadata": {
  "kernelspec": {
   "display_name": "Python 3 (ipykernel)",
   "language": "python",
   "name": "python3"
  },
  "language_info": {
   "codemirror_mode": {
    "name": "ipython",
    "version": 3
   },
   "file_extension": ".py",
   "mimetype": "text/x-python",
   "name": "python",
   "nbconvert_exporter": "python",
   "pygments_lexer": "ipython3",
   "version": "3.12.7"
  }
 },
 "nbformat": 4,
 "nbformat_minor": 5
}
