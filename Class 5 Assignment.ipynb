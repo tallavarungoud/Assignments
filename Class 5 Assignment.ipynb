{
 "cells": [
  {
   "cell_type": "code",
   "execution_count": 3,
   "id": "49f80666-74c9-4226-9ca1-32cc63b13ea5",
   "metadata": {},
   "outputs": [],
   "source": [
    "txt =\"this is code square\""
   ]
  },
  {
   "cell_type": "code",
   "execution_count": 4,
   "id": "a8bbfe90-7bdc-4099-9341-872aa5d59be4",
   "metadata": {},
   "outputs": [
    {
     "data": {
      "text/plain": [
       "'this is code square'"
      ]
     },
     "execution_count": 4,
     "metadata": {},
     "output_type": "execute_result"
    }
   ],
   "source": [
    "txt"
   ]
  },
  {
   "cell_type": "code",
   "execution_count": 6,
   "id": "64b5ab60-cea9-4e47-a873-8c8dbd4f8289",
   "metadata": {},
   "outputs": [
    {
     "name": "stdout",
     "output_type": "stream",
     "text": [
      "yes\n"
     ]
    }
   ],
   "source": [
    "if \"code\" in txt:\n",
    "    print(\"yes\")"
   ]
  },
  {
   "cell_type": "code",
   "execution_count": 7,
   "id": "4cd7e7f3-2a91-4fda-91d7-760b99e33742",
   "metadata": {},
   "outputs": [
    {
     "name": "stdout",
     "output_type": "stream",
     "text": [
      "yes\n"
     ]
    }
   ],
   "source": [
    "if \"code\" in txt:\n",
    "    print(\"yes\")"
   ]
  },
  {
   "cell_type": "code",
   "execution_count": 8,
   "id": "017eda8b-6b73-43cc-94b2-d73de8b32f7e",
   "metadata": {},
   "outputs": [
    {
     "name": "stdout",
     "output_type": "stream",
     "text": [
      "no\n"
     ]
    }
   ],
   "source": [
    "if \"data\" in txt:\n",
    "    print(\"yes\")\n",
    "else:\n",
    "    print(\"no\")"
   ]
  },
  {
   "cell_type": "code",
   "execution_count": 10,
   "id": "378a553a-1f45-4242-8d28-c2b5260a5ddf",
   "metadata": {},
   "outputs": [
    {
     "name": "stdout",
     "output_type": "stream",
     "text": [
      "a , b are equal\n"
     ]
    }
   ],
   "source": [
    "a=200\n",
    "b=200\n",
    "if b>a:\n",
    "    print(\"b is greater\")\n",
    "elif a==b:\n",
    "    print(\"a , b are equal\")\n",
    "else:\n",
    "    print(\"a is greater\")"
   ]
  },
  {
   "cell_type": "code",
   "execution_count": 27,
   "id": "6e1847a0-868a-480f-bfcf-9d828df2a8fe",
   "metadata": {},
   "outputs": [],
   "source": [
    "a=80\n",
    "b=80"
   ]
  },
  {
   "cell_type": "code",
   "execution_count": 28,
   "id": "2f34040c-9c7d-463d-9289-12a25bd09e5f",
   "metadata": {},
   "outputs": [
    {
     "name": "stdout",
     "output_type": "stream",
     "text": [
      "a is equal to b\n"
     ]
    }
   ],
   "source": [
    "if a > b: # False\n",
    "    print(\"a is greater\")\n",
    "elif a == b:\n",
    "    print(\"a is equal to b\")\n",
    "elif a == b:\n",
    "    print(\"a is equal to b\")\n",
    "elif a == b:\n",
    "    print(\"a is equal to b\")\n",
    "elif a == b:\n",
    "    print(\"a is equal to b\")\n",
    "else:\n",
    "    print(\"b is greater\")\n"
   ]
  },
  {
   "cell_type": "code",
   "execution_count": 37,
   "id": "b997e42c-64ca-4399-9dc3-96f74e3a09c7",
   "metadata": {},
   "outputs": [
    {
     "data": {
      "text/plain": [
       "(list, tuple, set)"
      ]
     },
     "execution_count": 37,
     "metadata": {},
     "output_type": "execute_result"
    }
   ],
   "source": [
    "list, tuple, set, dictionary"
   ]
  },
  {
   "cell_type": "code",
   "execution_count": 46,
   "id": "550882c5-1e52-46c2-a295-5d3e6147be6c",
   "metadata": {},
   "outputs": [],
   "source": [
    "a=[]"
   ]
  },
  {
   "cell_type": "code",
   "execution_count": 47,
   "id": "12cc4300-66bd-4259-8c49-d28ed44b9212",
   "metadata": {},
   "outputs": [
    {
     "data": {
      "text/plain": [
       "[1, 2, 3]"
      ]
     },
     "execution_count": 47,
     "metadata": {},
     "output_type": "execute_result"
    }
   ],
   "source": [
    "a"
   ]
  },
  {
   "cell_type": "code",
   "execution_count": 52,
   "id": "bdb8d6bf-863b-45fe-9d73-d199c92ce8d6",
   "metadata": {},
   "outputs": [],
   "source": [
    "a=(1,True, False, \"data\",3.5, 5+3j)"
   ]
  },
  {
   "cell_type": "code",
   "execution_count": 53,
   "id": "cd0e25c1-37de-470f-9370-5aa88fef93be",
   "metadata": {},
   "outputs": [
    {
     "data": {
      "text/plain": [
       "tuple"
      ]
     },
     "execution_count": 53,
     "metadata": {},
     "output_type": "execute_result"
    }
   ],
   "source": [
    "type(a)"
   ]
  },
  {
   "cell_type": "code",
   "execution_count": 54,
   "id": "181b9a8a-d88d-4828-826a-ca2387538c4a",
   "metadata": {},
   "outputs": [
    {
     "data": {
      "text/plain": [
       "(1, True, False, 'data', 3.5, (5+3j))"
      ]
     },
     "execution_count": 54,
     "metadata": {},
     "output_type": "execute_result"
    }
   ],
   "source": [
    "a"
   ]
  },
  {
   "cell_type": "code",
   "execution_count": 55,
   "id": "1123c127-fe1a-40bf-8f30-aadec2d1e23f",
   "metadata": {},
   "outputs": [
    {
     "data": {
      "text/plain": [
       "(1, 2, 3, 4)"
      ]
     },
     "execution_count": 55,
     "metadata": {},
     "output_type": "execute_result"
    }
   ],
   "source": [
    "tuple((1,2,3,4))"
   ]
  },
  {
   "cell_type": "code",
   "execution_count": 56,
   "id": "f9bf013a-84ad-41de-831f-ffe5f2445054",
   "metadata": {},
   "outputs": [
    {
     "data": {
      "text/plain": [
       "6"
      ]
     },
     "execution_count": 56,
     "metadata": {},
     "output_type": "execute_result"
    }
   ],
   "source": [
    "len(a)"
   ]
  },
  {
   "cell_type": "code",
   "execution_count": 57,
   "id": "a19dbc8a-25ff-4a6f-be40-45adaad3e4b3",
   "metadata": {},
   "outputs": [
    {
     "data": {
      "text/plain": [
       "(1, True, False, 'data', 3.5, (5+3j))"
      ]
     },
     "execution_count": 57,
     "metadata": {},
     "output_type": "execute_result"
    }
   ],
   "source": [
    "(1, True, False, 'data', 3.5, (5+3j))\n",
    "a"
   ]
  },
  {
   "cell_type": "code",
   "execution_count": 61,
   "id": "f3a9b460-3f4a-4dc7-b6b5-179c7abb7253",
   "metadata": {},
   "outputs": [
    {
     "data": {
      "text/plain": [
       "(False, 'data', 3.5)"
      ]
     },
     "execution_count": 61,
     "metadata": {},
     "output_type": "execute_result"
    }
   ],
   "source": [
    "a[2:5]"
   ]
  },
  {
   "cell_type": "code",
   "execution_count": 64,
   "id": "78ed7716-e934-486f-96cf-83349bb4b5ca",
   "metadata": {},
   "outputs": [
    {
     "name": "stdout",
     "output_type": "stream",
     "text": [
      "not present\n"
     ]
    }
   ],
   "source": [
    "if 'python' in a:\n",
    "    print(\"yes data is in tuple\")\n",
    "else:\n",
    "    print(\"not present\")"
   ]
  },
  {
   "cell_type": "code",
   "execution_count": 74,
   "id": "78948ada-c160-4fdd-8293-d39333eec1a5",
   "metadata": {},
   "outputs": [
    {
     "data": {
      "text/plain": [
       "['apple', 'banana', 'cherry']"
      ]
     },
     "execution_count": 74,
     "metadata": {},
     "output_type": "execute_result"
    }
   ],
   "source": [
    "x = [\"apple\",\"banana\",\"cherry\"]\n",
    "x"
   ]
  },
  {
   "cell_type": "code",
   "execution_count": 76,
   "id": "452333a4-1fdc-4db0-8dec-5ee3bbdfdfcb",
   "metadata": {},
   "outputs": [],
   "source": [
    "x[0]='kiwi'"
   ]
  },
  {
   "cell_type": "code",
   "execution_count": 77,
   "id": "ea52fb47-ebd7-46eb-80fd-9f8af62ea026",
   "metadata": {},
   "outputs": [
    {
     "data": {
      "text/plain": [
       "['kiwi', 'banana', 'cherry']"
      ]
     },
     "execution_count": 77,
     "metadata": {},
     "output_type": "execute_result"
    }
   ],
   "source": [
    "x"
   ]
  },
  {
   "cell_type": "code",
   "execution_count": 80,
   "id": "01eb6a6f-664f-42ab-b74e-5d633204c797",
   "metadata": {},
   "outputs": [
    {
     "data": {
      "text/plain": [
       "('apple', 'banana', 'cherry')"
      ]
     },
     "execution_count": 80,
     "metadata": {},
     "output_type": "execute_result"
    }
   ],
   "source": [
    "x = (\"apple\",\"banana\",\"cherry\")\n",
    "x"
   ]
  },
  {
   "cell_type": "code",
   "execution_count": 81,
   "id": "b5248fc4-3a7f-4f24-a7ca-87360384a2e4",
   "metadata": {},
   "outputs": [
    {
     "data": {
      "text/plain": [
       "tuple"
      ]
     },
     "execution_count": 81,
     "metadata": {},
     "output_type": "execute_result"
    }
   ],
   "source": [
    "type(x)"
   ]
  },
  {
   "cell_type": "code",
   "execution_count": 82,
   "id": "680075db-ad9f-4c15-8a5a-b03084aa91ad",
   "metadata": {},
   "outputs": [
    {
     "data": {
      "text/plain": [
       "['apple', 'banana', 'cherry']"
      ]
     },
     "execution_count": 82,
     "metadata": {},
     "output_type": "execute_result"
    }
   ],
   "source": [
    "y = list(x)\n",
    "y"
   ]
  },
  {
   "cell_type": "code",
   "execution_count": 83,
   "id": "fa598abe-fbdb-45b1-9e27-4dbf4066c447",
   "metadata": {},
   "outputs": [
    {
     "data": {
      "text/plain": [
       "list"
      ]
     },
     "execution_count": 83,
     "metadata": {},
     "output_type": "execute_result"
    }
   ],
   "source": [
    "type(y)"
   ]
  },
  {
   "cell_type": "code",
   "execution_count": 84,
   "id": "cc3e19f0-1c23-4a44-9d57-533ac4a86bdc",
   "metadata": {},
   "outputs": [],
   "source": [
    "y[0]='kiwi'"
   ]
  },
  {
   "cell_type": "code",
   "execution_count": 85,
   "id": "28be3e75-7b6a-43f7-b2f0-1eebc163ef8a",
   "metadata": {},
   "outputs": [
    {
     "data": {
      "text/plain": [
       "['kiwi', 'banana', 'cherry']"
      ]
     },
     "execution_count": 85,
     "metadata": {},
     "output_type": "execute_result"
    }
   ],
   "source": [
    "y"
   ]
  },
  {
   "cell_type": "code",
   "execution_count": 88,
   "id": "a2a5989b-ba6a-4888-98f7-a520b81e38dc",
   "metadata": {},
   "outputs": [],
   "source": [
    "x=tuple(y)"
   ]
  },
  {
   "cell_type": "code",
   "execution_count": 90,
   "id": "e5cf5aa8-63f2-4f33-8ef1-d06083df2a12",
   "metadata": {},
   "outputs": [
    {
     "data": {
      "text/plain": [
       "('kiwi', 'banana', 'cherry')"
      ]
     },
     "execution_count": 90,
     "metadata": {},
     "output_type": "execute_result"
    }
   ],
   "source": [
    "x"
   ]
  },
  {
   "cell_type": "code",
   "execution_count": 91,
   "id": "d17bc81a-4ae1-4132-a14b-8f2bffdde28c",
   "metadata": {},
   "outputs": [],
   "source": [
    "thistuple = (\"apple\",\"banana\",\"cherry\")"
   ]
  },
  {
   "cell_type": "code",
   "execution_count": 92,
   "id": "14bc6caf-e1ad-41a7-8313-79de96deb0b1",
   "metadata": {},
   "outputs": [],
   "source": [
    "y=(\"orange\",\"banana\")"
   ]
  },
  {
   "cell_type": "code",
   "execution_count": 93,
   "id": "2876dd10-7fe0-4964-a3ab-78733ad016de",
   "metadata": {},
   "outputs": [
    {
     "data": {
      "text/plain": [
       "('apple', 'banana', 'cherry', 'orange', 'banana')"
      ]
     },
     "execution_count": 93,
     "metadata": {},
     "output_type": "execute_result"
    }
   ],
   "source": [
    "add_tuple = thistuple + y\n",
    "add_tuple"
   ]
  },
  {
   "cell_type": "code",
   "execution_count": 94,
   "id": "6b0116e8-fcf6-44bd-9c62-57d15b7bf67d",
   "metadata": {},
   "outputs": [],
   "source": [
    "thistuple=(\"apple\",\"banana\",\"cherry\")"
   ]
  },
  {
   "cell_type": "code",
   "execution_count": 95,
   "id": "0303585c-e67f-4237-bf7c-e36c28880491",
   "metadata": {},
   "outputs": [],
   "source": [
    "y= list(thistuple)"
   ]
  },
  {
   "cell_type": "code",
   "execution_count": 96,
   "id": "77baac77-5162-4d61-b026-939696243b55",
   "metadata": {},
   "outputs": [],
   "source": [
    "y.remove(\"apple\")"
   ]
  },
  {
   "cell_type": "code",
   "execution_count": 97,
   "id": "9fd7a0e4-59a1-422e-8459-22ea21238171",
   "metadata": {},
   "outputs": [],
   "source": [
    "thistuple = tuple(y)"
   ]
  },
  {
   "cell_type": "code",
   "execution_count": 98,
   "id": "b09be20e-f45e-465c-a92e-4f16383ec721",
   "metadata": {},
   "outputs": [
    {
     "data": {
      "text/plain": [
       "('banana', 'cherry')"
      ]
     },
     "execution_count": 98,
     "metadata": {},
     "output_type": "execute_result"
    }
   ],
   "source": [
    "thistuple"
   ]
  },
  {
   "cell_type": "code",
   "execution_count": 99,
   "id": "42724eda-ab8f-455b-bea0-2306a6cc60df",
   "metadata": {},
   "outputs": [],
   "source": [
    "del thistuple"
   ]
  },
  {
   "cell_type": "code",
   "execution_count": 100,
   "id": "873df08a-4fa2-4a51-968c-dffb6384ef2e",
   "metadata": {},
   "outputs": [
    {
     "ename": "NameError",
     "evalue": "name 'thistuple' is not defined",
     "output_type": "error",
     "traceback": [
      "\u001b[1;31m---------------------------------------------------------------------------\u001b[0m",
      "\u001b[1;31mNameError\u001b[0m                                 Traceback (most recent call last)",
      "Cell \u001b[1;32mIn[100], line 1\u001b[0m\n\u001b[1;32m----> 1\u001b[0m thistuple\n",
      "\u001b[1;31mNameError\u001b[0m: name 'thistuple' is not defined"
     ]
    }
   ],
   "source": [
    "thistuple"
   ]
  },
  {
   "cell_type": "code",
   "execution_count": 102,
   "id": "c2db8999-0ab4-40a9-b523-b26e25f5368e",
   "metadata": {},
   "outputs": [],
   "source": [
    "fruits = (\"apple\",\"banana\",\"cherry\") # tuple packing"
   ]
  },
  {
   "cell_type": "code",
   "execution_count": 103,
   "id": "c5ccd652-67ac-4411-a5db-d66d0eb4faa7",
   "metadata": {},
   "outputs": [],
   "source": [
    "(green,yellow,red) = fruits # unpack tuple "
   ]
  },
  {
   "cell_type": "code",
   "execution_count": 104,
   "id": "a7f107b0-5fbc-44a0-a0c7-5625720eb749",
   "metadata": {},
   "outputs": [
    {
     "name": "stdout",
     "output_type": "stream",
     "text": [
      "apple\n",
      "banana\n",
      "cherry\n"
     ]
    }
   ],
   "source": [
    "print(green)\n",
    "print(yellow)\n",
    "print(red)"
   ]
  },
  {
   "cell_type": "code",
   "execution_count": 105,
   "id": "7e585ba3-de2f-4b4d-95e2-43e10c5cdf7a",
   "metadata": {},
   "outputs": [
    {
     "data": {
      "text/plain": [
       "('apple', 'banana', 'cherry')"
      ]
     },
     "execution_count": 105,
     "metadata": {},
     "output_type": "execute_result"
    }
   ],
   "source": [
    "fruits = (\"apple\",\"banana\",\"cherry\")\n",
    "fruits"
   ]
  },
  {
   "cell_type": "code",
   "execution_count": 106,
   "id": "efdc1398-4619-4070-9d49-f7afc51b1dce",
   "metadata": {},
   "outputs": [
    {
     "name": "stdout",
     "output_type": "stream",
     "text": [
      "apple\n",
      "banana\n",
      "cherry\n"
     ]
    }
   ],
   "source": [
    "for i in fruits:\n",
    "    print(i)"
   ]
  },
  {
   "cell_type": "code",
   "execution_count": 107,
   "id": "dacf538a-5aac-430c-a9f3-cb7ca703774f",
   "metadata": {},
   "outputs": [
    {
     "data": {
      "text/plain": [
       "3"
      ]
     },
     "execution_count": 107,
     "metadata": {},
     "output_type": "execute_result"
    }
   ],
   "source": [
    "len(fruits)"
   ]
  },
  {
   "cell_type": "code",
   "execution_count": 112,
   "id": "342b5fdf-c9ee-49de-b126-31208816fbb9",
   "metadata": {},
   "outputs": [
    {
     "name": "stdout",
     "output_type": "stream",
     "text": [
      "apple\n",
      "banana\n",
      "cherry\n"
     ]
    }
   ],
   "source": [
    "for i in range(3):\n",
    "    print(fruits[i])"
   ]
  },
  {
   "cell_type": "code",
   "execution_count": 111,
   "id": "9c8b18b7-7b47-4410-b4c3-cfdac1571cb1",
   "metadata": {},
   "outputs": [
    {
     "data": {
      "text/plain": [
       "'apple'"
      ]
     },
     "execution_count": 111,
     "metadata": {},
     "output_type": "execute_result"
    }
   ],
   "source": [
    "fruits[0]"
   ]
  },
  {
   "cell_type": "code",
   "execution_count": 113,
   "id": "e4827919-2fd3-4801-bac4-8bb80ab8159f",
   "metadata": {},
   "outputs": [
    {
     "data": {
      "text/plain": [
       "'cherry'"
      ]
     },
     "execution_count": 113,
     "metadata": {},
     "output_type": "execute_result"
    }
   ],
   "source": [
    "fruits[2]"
   ]
  },
  {
   "cell_type": "code",
   "execution_count": 116,
   "id": "5a8e3c11-bc95-42b9-a341-5f0ee3dfd08b",
   "metadata": {},
   "outputs": [
    {
     "data": {
      "text/plain": [
       "[]"
      ]
     },
     "execution_count": 116,
     "metadata": {},
     "output_type": "execute_result"
    }
   ],
   "source": [
    "[]"
   ]
  },
  {
   "cell_type": "code",
   "execution_count": 117,
   "id": "be65b73d-c6b3-451c-b3b3-3de9bf04bc65",
   "metadata": {},
   "outputs": [
    {
     "data": {
      "text/plain": [
       "()"
      ]
     },
     "execution_count": 117,
     "metadata": {},
     "output_type": "execute_result"
    }
   ],
   "source": [
    "()"
   ]
  },
  {
   "cell_type": "code",
   "execution_count": 120,
   "id": "6263bf94-3c15-4a24-9836-17d89ac0e5d5",
   "metadata": {},
   "outputs": [
    {
     "data": {
      "text/plain": [
       "{}"
      ]
     },
     "execution_count": 120,
     "metadata": {},
     "output_type": "execute_result"
    }
   ],
   "source": [
    "{}"
   ]
  },
  {
   "cell_type": "code",
   "execution_count": 122,
   "id": "4f87e7c6-ef36-4ca6-82e8-b8a249266a17",
   "metadata": {},
   "outputs": [
    {
     "data": {
      "text/plain": [
       "{1, 2}"
      ]
     },
     "execution_count": 122,
     "metadata": {},
     "output_type": "execute_result"
    }
   ],
   "source": [
    "{1,1,1,1,2}"
   ]
  },
  {
   "cell_type": "code",
   "execution_count": 123,
   "id": "5cb12bcc-608d-469f-b047-c165a4fc96fb",
   "metadata": {},
   "outputs": [
    {
     "data": {
      "text/plain": [
       "{1, 2, 3, 3.3, 'data'}"
      ]
     },
     "execution_count": 123,
     "metadata": {},
     "output_type": "execute_result"
    }
   ],
   "source": [
    "a={1,1,2,3,\"data\",True,3.3}\n",
    "a"
   ]
  },
  {
   "cell_type": "code",
   "execution_count": 124,
   "id": "e7c0a551-d7cc-4b55-a52d-11d0ea44d3e3",
   "metadata": {},
   "outputs": [
    {
     "data": {
      "text/plain": [
       "{1, 2, 3}"
      ]
     },
     "execution_count": 124,
     "metadata": {},
     "output_type": "execute_result"
    }
   ],
   "source": [
    "set((1,2,3))"
   ]
  },
  {
   "cell_type": "code",
   "execution_count": 125,
   "id": "d43a0bc4-b9d1-4527-8344-8f1d6a0792d7",
   "metadata": {},
   "outputs": [
    {
     "data": {
      "text/plain": [
       "set"
      ]
     },
     "execution_count": 125,
     "metadata": {},
     "output_type": "execute_result"
    }
   ],
   "source": [
    "type(a)"
   ]
  },
  {
   "cell_type": "code",
   "execution_count": 126,
   "id": "983bd276-91bc-48fe-b470-0001c663f0f6",
   "metadata": {},
   "outputs": [
    {
     "data": {
      "text/plain": [
       "{1}"
      ]
     },
     "execution_count": 126,
     "metadata": {},
     "output_type": "execute_result"
    }
   ],
   "source": [
    "b={1,True}\n",
    "b"
   ]
  },
  {
   "cell_type": "code",
   "execution_count": 127,
   "id": "f1df2ee6-a6db-4a20-a020-2a211be003bc",
   "metadata": {},
   "outputs": [],
   "source": [
    "a={1,1,2,3,\"data\",True,3.3}"
   ]
  },
  {
   "cell_type": "code",
   "execution_count": 128,
   "id": "2b87ca74-20bf-412f-bde0-59f4fb36e68e",
   "metadata": {},
   "outputs": [
    {
     "data": {
      "text/plain": [
       "5"
      ]
     },
     "execution_count": 128,
     "metadata": {},
     "output_type": "execute_result"
    }
   ],
   "source": [
    "len(a)"
   ]
  },
  {
   "cell_type": "code",
   "execution_count": 129,
   "id": "df54493e-4fc2-49db-b261-e3274395872b",
   "metadata": {},
   "outputs": [
    {
     "name": "stdout",
     "output_type": "stream",
     "text": [
      "1\n",
      "2\n",
      "3.3\n",
      "3\n",
      "data\n"
     ]
    }
   ],
   "source": [
    "for i in a:\n",
    "    print(i)"
   ]
  },
  {
   "cell_type": "code",
   "execution_count": 130,
   "id": "370e9391-ccf2-423e-95ea-bdbe497b83aa",
   "metadata": {},
   "outputs": [
    {
     "name": "stdout",
     "output_type": "stream",
     "text": [
      "True\n"
     ]
    }
   ],
   "source": [
    "print(\"data\" in a)"
   ]
  },
  {
   "cell_type": "code",
   "execution_count": 131,
   "id": "d5181a22-e4ac-40ad-a317-7911aaa81626",
   "metadata": {},
   "outputs": [],
   "source": [
    "a.add(\"orange\")"
   ]
  },
  {
   "cell_type": "code",
   "execution_count": 132,
   "id": "706274ff-9f81-4717-bdfe-a93ee7a014c4",
   "metadata": {},
   "outputs": [
    {
     "data": {
      "text/plain": [
       "{1, 2, 3, 3.3, 'data', 'orange'}"
      ]
     },
     "execution_count": 132,
     "metadata": {},
     "output_type": "execute_result"
    }
   ],
   "source": [
    "a"
   ]
  },
  {
   "cell_type": "code",
   "execution_count": 133,
   "id": "7c07d4ac-cd50-4975-b112-429508b8a9f9",
   "metadata": {},
   "outputs": [],
   "source": [
    "thisset={\"apple\",\"banana\",\"cherry\"}"
   ]
  },
  {
   "cell_type": "code",
   "execution_count": 135,
   "id": "d723018a-0a20-4dae-b438-b35f8fc03c65",
   "metadata": {},
   "outputs": [],
   "source": [
    "tropical ={\"pineapple\",\"mango\",\"papaya\"}"
   ]
  },
  {
   "cell_type": "code",
   "execution_count": 136,
   "id": "2d576f8b-f53a-4cb6-b114-b7d6fb3f2842",
   "metadata": {},
   "outputs": [],
   "source": [
    "thisset.update(tropical)"
   ]
  },
  {
   "cell_type": "code",
   "execution_count": 137,
   "id": "e3dc521a-f9c7-49e7-9d14-ab7ee9e12027",
   "metadata": {},
   "outputs": [
    {
     "data": {
      "text/plain": [
       "{'apple', 'banana', 'cherry', 'mango', 'papaya', 'pineapple'}"
      ]
     },
     "execution_count": 137,
     "metadata": {},
     "output_type": "execute_result"
    }
   ],
   "source": [
    "thisset"
   ]
  },
  {
   "cell_type": "code",
   "execution_count": 138,
   "id": "fdc35b25-f73c-4c57-8ed6-f9062cc0359f",
   "metadata": {},
   "outputs": [],
   "source": [
    "a={1,2,3,4}\n",
    "b={\"data\",\"is\",\"good\"}"
   ]
  },
  {
   "cell_type": "code",
   "execution_count": 139,
   "id": "3921d7b7-2013-4ced-a7e1-272d44a3f92f",
   "metadata": {},
   "outputs": [],
   "source": [
    "b.update(a)"
   ]
  },
  {
   "cell_type": "code",
   "execution_count": 140,
   "id": "5c810b6f-18f2-4999-a8dc-188512f358b0",
   "metadata": {},
   "outputs": [
    {
     "data": {
      "text/plain": [
       "{1, 2, 3, 4, 'data', 'good', 'is'}"
      ]
     },
     "execution_count": 140,
     "metadata": {},
     "output_type": "execute_result"
    }
   ],
   "source": [
    "b"
   ]
  },
  {
   "cell_type": "code",
   "execution_count": 141,
   "id": "b2744652-ce2f-4799-846b-f1d16ee70ade",
   "metadata": {},
   "outputs": [],
   "source": [
    "b.remove(\"data\")"
   ]
  },
  {
   "cell_type": "code",
   "execution_count": 142,
   "id": "1281a2f8-6d81-4fc6-b53e-d9ffef008f03",
   "metadata": {},
   "outputs": [
    {
     "data": {
      "text/plain": [
       "{1, 2, 3, 4, 'good', 'is'}"
      ]
     },
     "execution_count": 142,
     "metadata": {},
     "output_type": "execute_result"
    }
   ],
   "source": [
    "b"
   ]
  },
  {
   "cell_type": "code",
   "execution_count": 143,
   "id": "4066d15b-da6e-428c-9e06-34147c4e8edc",
   "metadata": {},
   "outputs": [],
   "source": [
    "del b"
   ]
  },
  {
   "cell_type": "code",
   "execution_count": 144,
   "id": "c7a4658a-00a7-44a3-b21b-3479a28c2897",
   "metadata": {},
   "outputs": [
    {
     "ename": "NameError",
     "evalue": "name 'b' is not defined",
     "output_type": "error",
     "traceback": [
      "\u001b[1;31m---------------------------------------------------------------------------\u001b[0m",
      "\u001b[1;31mNameError\u001b[0m                                 Traceback (most recent call last)",
      "Cell \u001b[1;32mIn[144], line 1\u001b[0m\n\u001b[1;32m----> 1\u001b[0m b\n",
      "\u001b[1;31mNameError\u001b[0m: name 'b' is not defined"
     ]
    }
   ],
   "source": [
    "b"
   ]
  },
  {
   "cell_type": "markdown",
   "id": "99de5cf8-89ef-4910-9b62-c16384e66f78",
   "metadata": {},
   "source": [
    "Assignments"
   ]
  },
  {
   "cell_type": "markdown",
   "id": "1e035899-6eb7-4f2b-b887-929e59599ca3",
   "metadata": {},
   "source": [
    "1: If Statements\n",
    "Write an if statement to compare two variables, a and b. If b is greater than a, print a message saying \"b is greater than a\"."
   ]
  },
  {
   "cell_type": "code",
   "execution_count": 145,
   "id": "9515d5b6-1ca5-48fe-bff1-d6b5e3e1c9fe",
   "metadata": {},
   "outputs": [
    {
     "name": "stdout",
     "output_type": "stream",
     "text": [
      "b is greater than a\n"
     ]
    }
   ],
   "source": [
    "a = 5\n",
    "b = 10\n",
    "\n",
    "if b > a:\n",
    "    print(\"b is greater than a\")\n"
   ]
  },
  {
   "cell_type": "markdown",
   "id": "3a5e9b4f-001b-4e8d-b921-2e686aeb5b19",
   "metadata": {},
   "source": [
    "2.If-Else Statements\n",
    "Write an if-else statement to compare two variables, a and b. If b is greater than a, print \"b is greater than a\". Otherwise, print \"a and b are equal\"."
   ]
  },
  {
   "cell_type": "code",
   "execution_count": 146,
   "id": "cfa9ca06-e138-4133-b2e7-59e1a66adcc7",
   "metadata": {},
   "outputs": [
    {
     "name": "stdout",
     "output_type": "stream",
     "text": [
      "a and b are equal\n"
     ]
    }
   ],
   "source": [
    "a = 10\n",
    "b = 10\n",
    "\n",
    "if b > a:\n",
    "    print(\"b is greater than a\")\n",
    "else:\n",
    "    print(\"a and b are equal\")\n"
   ]
  },
  {
   "cell_type": "markdown",
   "id": "b2e3ff87-1c0f-4e36-bb49-d46ca901f327",
   "metadata": {},
   "source": [
    "3: If-Elif-Else Statements\n",
    "Write an if-elif-else statement to compare two variables, a and b. If b is greater than a, print \"b is greater than a\". If a and b are equal, print \"a and b are equal\". Otherwise, print \"a is greater than b\"."
   ]
  },
  {
   "cell_type": "code",
   "execution_count": 147,
   "id": "d31dabb9-0b87-4e22-a57c-06f501ea67fb",
   "metadata": {},
   "outputs": [
    {
     "name": "stdout",
     "output_type": "stream",
     "text": [
      "a is greater than b\n"
     ]
    }
   ],
   "source": [
    "a = 15\n",
    "b = 10\n",
    "\n",
    "if b > a:\n",
    "    print(\"b is greater than a\")\n",
    "elif a == b:\n",
    "    print(\"a and b are equal\")\n",
    "else:\n",
    "    print(\"a is greater than b\")\n"
   ]
  },
  {
   "cell_type": "markdown",
   "id": "6a45cbc0-02b1-4b04-a8ea-7a62f8a20b33",
   "metadata": {},
   "source": [
    "4: Create and Access Tuple\n",
    "Create a tuple with the elements (\"apple\", \"banana\", \"cherry\"). Access and print the second element of the tuple."
   ]
  },
  {
   "cell_type": "code",
   "execution_count": 148,
   "id": "433e5b8b-b4d7-4e05-8fd3-1da05a908cdd",
   "metadata": {},
   "outputs": [
    {
     "name": "stdout",
     "output_type": "stream",
     "text": [
      "banana\n"
     ]
    }
   ],
   "source": [
    "my_tuple = (\"apple\", \"banana\", \"cherry\")\n",
    "print(my_tuple[1])  # Output: banana\n"
   ]
  },
  {
   "cell_type": "markdown",
   "id": "709e847d-65d8-4683-9f53-f316772d98b2",
   "metadata": {},
   "source": [
    "5: Tuple with One Item\n",
    "Create a tuple with a single item \"apple\". Print the type of the tuple to confirm it's a tuple."
   ]
  },
  {
   "cell_type": "code",
   "execution_count": 149,
   "id": "7fa96414-4223-4e7d-8c60-b5f86eac14b7",
   "metadata": {},
   "outputs": [
    {
     "name": "stdout",
     "output_type": "stream",
     "text": [
      "<class 'tuple'>\n"
     ]
    }
   ],
   "source": [
    "single_item_tuple = (\"apple\",)\n",
    "print(type(single_item_tuple))  # Output: <class 'tuple'>\n"
   ]
  },
  {
   "cell_type": "markdown",
   "id": "5aa52646-1b4a-43a7-bf17-e15204a0a3e1",
   "metadata": {},
   "source": [
    "6: Check if Item Exists in Tuple\n",
    "Create a tuple with the elements (\"apple\", \"banana\", \"cherry\"). Check if the item \"apple\" exists in the tuple and print the result."
   ]
  },
  {
   "cell_type": "code",
   "execution_count": 150,
   "id": "e5060359-29f7-41c9-aad3-6a2e8affc1d1",
   "metadata": {},
   "outputs": [
    {
     "name": "stdout",
     "output_type": "stream",
     "text": [
      "True\n"
     ]
    }
   ],
   "source": [
    "fruits = (\"apple\", \"banana\", \"cherry\")\n",
    "print(\"apple\" in fruits)  # Output: True\n"
   ]
  },
  {
   "cell_type": "markdown",
   "id": "0e88e010-48d6-4316-8a22-e2f39d811a87",
   "metadata": {},
   "source": [
    "7: Convert Tuple to List and Modify\n",
    "Convert a tuple (\"apple\", \"banana\", \"cherry\") to a list. Change the second item to \"kiwi\" and convert it back to a tuple. Print the modified tuple."
   ]
  },
  {
   "cell_type": "code",
   "execution_count": 151,
   "id": "775acfbb-48f9-4400-a745-0c8c0f7700f4",
   "metadata": {},
   "outputs": [
    {
     "name": "stdout",
     "output_type": "stream",
     "text": [
      "('apple', 'kiwi', 'cherry')\n"
     ]
    }
   ],
   "source": [
    "fruits = (\"apple\", \"banana\", \"cherry\")\n",
    "fruits_list = list(fruits)\n",
    "fruits_list[1] = \"kiwi\"\n",
    "modified_tuple = tuple(fruits_list)\n",
    "print(modified_tuple)  # Output: ('apple', 'kiwi', 'cherry')\n"
   ]
  },
  {
   "cell_type": "markdown",
   "id": "454f541a-e3f5-4d08-ab3c-22e46db57b86",
   "metadata": {},
   "source": [
    "8: Add and Remove Items from Set\n",
    "Create a set with the elements {\"apple\", \"banana\", \"cherry\"}. Add \"orange\" to the set and remove \"banana\". Print the modified set."
   ]
  },
  {
   "cell_type": "code",
   "execution_count": 152,
   "id": "a4165e2b-3f91-4825-a04f-990d9a513920",
   "metadata": {},
   "outputs": [
    {
     "name": "stdout",
     "output_type": "stream",
     "text": [
      "{'orange', 'apple', 'cherry'}\n"
     ]
    }
   ],
   "source": [
    "fruits_set = {\"apple\", \"banana\", \"cherry\"}\n",
    "fruits_set.add(\"orange\")\n",
    "fruits_set.remove(\"banana\")\n",
    "print(fruits_set)\n"
   ]
  },
  {
   "cell_type": "markdown",
   "id": "9c1f541f-4f4b-439e-aaf8-020a3d8a4d50",
   "metadata": {},
   "source": [
    "9: Loop Through Tuple\n",
    "Create a tuple with the elements (\"apple\", \"banana\", \"cherry\"). Use a for loop to print each item in the tuple."
   ]
  },
  {
   "cell_type": "code",
   "execution_count": 153,
   "id": "88cbb1a7-0103-42c0-8607-5c5721a0a7c1",
   "metadata": {},
   "outputs": [
    {
     "name": "stdout",
     "output_type": "stream",
     "text": [
      "apple\n",
      "banana\n",
      "cherry\n"
     ]
    }
   ],
   "source": [
    "fruits = (\"apple\", \"banana\", \"cherry\")\n",
    "for fruit in fruits:\n",
    "    print(fruit)\n"
   ]
  },
  {
   "cell_type": "markdown",
   "id": "b551b2ff-b350-4e27-85ab-b8c09fffa13c",
   "metadata": {},
   "source": [
    "10:Create a set with the elements {\"apple\", \"banana\", \"cherry\"}. Update it with another set {\"pineapple\", \"mango\", \"papaya\"} and a list [\"kiwi\", \"orange\"]. Print the updated set."
   ]
  },
  {
   "cell_type": "code",
   "execution_count": 154,
   "id": "3310384f-856a-4aaf-9744-c04f8c834836",
   "metadata": {},
   "outputs": [
    {
     "name": "stdout",
     "output_type": "stream",
     "text": [
      "{'apple', 'orange', 'pineapple', 'mango', 'papaya', 'cherry', 'kiwi', 'banana'}\n"
     ]
    }
   ],
   "source": [
    "fruits_set = {\"apple\", \"banana\", \"cherry\"}\n",
    "fruits_set.update({\"pineapple\", \"mango\", \"papaya\"}, [\"kiwi\", \"orange\"])\n",
    "print(fruits_set)\n"
   ]
  },
  {
   "cell_type": "code",
   "execution_count": null,
   "id": "c77eaa30-9c6a-4c3c-a927-80a6073a2640",
   "metadata": {},
   "outputs": [],
   "source": []
  }
 ],
 "metadata": {
  "kernelspec": {
   "display_name": "Python 3 (ipykernel)",
   "language": "python",
   "name": "python3"
  },
  "language_info": {
   "codemirror_mode": {
    "name": "ipython",
    "version": 3
   },
   "file_extension": ".py",
   "mimetype": "text/x-python",
   "name": "python",
   "nbconvert_exporter": "python",
   "pygments_lexer": "ipython3",
   "version": "3.12.7"
  }
 },
 "nbformat": 4,
 "nbformat_minor": 5
}
