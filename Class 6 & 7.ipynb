{
 "cells": [
  {
   "cell_type": "markdown",
   "id": "7f42ebd3-9a1f-4731-9b18-76c398535b4c",
   "metadata": {},
   "source": [
    "Input"
   ]
  },
  {
   "cell_type": "code",
   "execution_count": 13,
   "id": "59ae64d1-98d2-41f2-bf5e-525c714696e0",
   "metadata": {},
   "outputs": [
    {
     "name": "stdin",
     "output_type": "stream",
     "text": [
      "enter your name :  varun\n"
     ]
    }
   ],
   "source": [
    "name = input(\"enter your name : \")"
   ]
  },
  {
   "cell_type": "code",
   "execution_count": 14,
   "id": "d906e2e3-379c-4ad0-9585-8dc84f0e8aa1",
   "metadata": {},
   "outputs": [
    {
     "name": "stdout",
     "output_type": "stream",
     "text": [
      "varun\n"
     ]
    }
   ],
   "source": [
    "print(name)"
   ]
  },
  {
   "cell_type": "code",
   "execution_count": 21,
   "id": "ab113837-e7a2-440b-8acb-77368f66c612",
   "metadata": {},
   "outputs": [
    {
     "name": "stdin",
     "output_type": "stream",
     "text": [
      "enter your age :  22\n"
     ]
    }
   ],
   "source": [
    "age = float(input(\"enter your age : \"))"
   ]
  },
  {
   "cell_type": "code",
   "execution_count": 22,
   "id": "29efa8d5-165b-4a2b-954a-f1466101f261",
   "metadata": {},
   "outputs": [
    {
     "data": {
      "text/plain": [
       "float"
      ]
     },
     "execution_count": 22,
     "metadata": {},
     "output_type": "execute_result"
    }
   ],
   "source": [
    "type(age)"
   ]
  },
  {
   "cell_type": "markdown",
   "id": "4f27c13e-f316-4c9e-a658-c66784c0e233",
   "metadata": {},
   "source": [
    "For"
   ]
  },
  {
   "cell_type": "code",
   "execution_count": 23,
   "id": "3b47b75c-4967-4fe8-b9e4-1e66e96aaeb5",
   "metadata": {},
   "outputs": [
    {
     "name": "stdout",
     "output_type": "stream",
     "text": [
      "1\n",
      "2\n",
      "3\n",
      "4\n",
      "5\n",
      "6\n",
      "7\n",
      "8\n",
      "9\n",
      "10\n"
     ]
    }
   ],
   "source": [
    "for i in range(1,11):\n",
    "    print(i)"
   ]
  },
  {
   "cell_type": "code",
   "execution_count": 24,
   "id": "3c45e314-b76d-4d64-85cf-a393c62077d7",
   "metadata": {},
   "outputs": [
    {
     "name": "stdout",
     "output_type": "stream",
     "text": [
      "1\n",
      "2\n",
      "3\n",
      "4\n",
      "5\n",
      "6\n",
      "7\n",
      "8\n",
      "9\n",
      "10\n"
     ]
    }
   ],
   "source": [
    "i = 1\n",
    "while i < 11:\n",
    "    print(i)\n",
    "    i = i + 1"
   ]
  },
  {
   "cell_type": "code",
   "execution_count": 6,
   "id": "b7d2811a-c5ba-4c68-92e5-932c57d549b5",
   "metadata": {},
   "outputs": [
    {
     "name": "stdout",
     "output_type": "stream",
     "text": [
      "2\n",
      "4\n",
      "5\n",
      "6\n",
      "7\n",
      "8\n",
      "9\n",
      "10\n"
     ]
    }
   ],
   "source": [
    "i = 1\n",
    "while i < 10:\n",
    "    i = i+1\n",
    "    if i == 3:\n",
    "       continue\n",
    "    print(i)"
   ]
  },
  {
   "cell_type": "code",
   "execution_count": 26,
   "id": "4bfa1a51-9da6-4649-a957-a632710d3190",
   "metadata": {},
   "outputs": [
    {
     "name": "stdout",
     "output_type": "stream",
     "text": [
      "1\n",
      "2\n",
      "4\n",
      "5\n",
      "6\n",
      "7\n",
      "8\n",
      "9\n",
      "10\n"
     ]
    }
   ],
   "source": [
    "i = 0\n",
    "while i < 10:\n",
    "    i = i+1\n",
    "    if i == 3:\n",
    "        continue\n",
    "    print(i) "
   ]
  },
  {
   "cell_type": "markdown",
   "id": "6d8d436f-d893-453e-bc73-ab2b9c217fe1",
   "metadata": {},
   "source": [
    "Dictionary"
   ]
  },
  {
   "cell_type": "code",
   "execution_count": 6,
   "id": "b34e3dbb-901e-45c9-bf40-5f30582d67b5",
   "metadata": {},
   "outputs": [],
   "source": [
    "a={\"brand\":\"Ford\",}"
   ]
  },
  {
   "cell_type": "code",
   "execution_count": 7,
   "id": "cac3de17-b03b-4a04-b638-1ab46a535326",
   "metadata": {},
   "outputs": [
    {
     "data": {
      "text/plain": [
       "{'brand': 'Ford'}"
      ]
     },
     "execution_count": 7,
     "metadata": {},
     "output_type": "execute_result"
    }
   ],
   "source": [
    "a"
   ]
  },
  {
   "cell_type": "code",
   "execution_count": 16,
   "id": "312990e9-40b3-4195-80f2-05668f8d5034",
   "metadata": {},
   "outputs": [],
   "source": [
    "a= {\n",
    "    1: 1.5,\n",
    "    1 : True,\n",
    "    \"model\": [\"mustang\",\"Q8\",\"Denver\"]\n",
    " }"
   ]
  },
  {
   "cell_type": "code",
   "execution_count": 18,
   "id": "e7817d86-aa38-4793-8dc4-0724bbef9e4b",
   "metadata": {},
   "outputs": [
    {
     "data": {
      "text/plain": [
       "dict"
      ]
     },
     "execution_count": 18,
     "metadata": {},
     "output_type": "execute_result"
    }
   ],
   "source": [
    "type(a)"
   ]
  },
  {
   "cell_type": "code",
   "execution_count": 19,
   "id": "7a1b00b7-657f-4041-a3e6-940cde9784a9",
   "metadata": {},
   "outputs": [
    {
     "name": "stdout",
     "output_type": "stream",
     "text": [
      "{'brand': 'ford', 'electric': False, 'year': 1964, 'colors': ['red', 'White', 'blue']}\n"
     ]
    }
   ],
   "source": [
    "car = {\n",
    "    \"brand\" : \"ford\",\n",
    "    \"electric\": False,\n",
    "    \"year\": 1964,\n",
    "    \"colors\": [\"red\", \"White\", \"blue\"]\n",
    "}\n",
    "print(car)"
   ]
  },
  {
   "cell_type": "code",
   "execution_count": 22,
   "id": "925f89e9-f646-4e84-a5e7-3be966d62651",
   "metadata": {},
   "outputs": [
    {
     "data": {
      "text/plain": [
       "'White'"
      ]
     },
     "execution_count": 22,
     "metadata": {},
     "output_type": "execute_result"
    }
   ],
   "source": [
    "car[\"colors\"][1]"
   ]
  },
  {
   "cell_type": "code",
   "execution_count": 23,
   "id": "86234908-5b31-45b5-b5d1-3b82ca72343c",
   "metadata": {},
   "outputs": [
    {
     "data": {
      "text/plain": [
       "4"
      ]
     },
     "execution_count": 23,
     "metadata": {},
     "output_type": "execute_result"
    }
   ],
   "source": [
    "len(car)"
   ]
  },
  {
   "cell_type": "code",
   "execution_count": 24,
   "id": "e2ef86a3-64ab-47c2-a9cd-2f6f57e8a8c8",
   "metadata": {},
   "outputs": [
    {
     "data": {
      "text/plain": [
       "dict_values(['ford', False, 1964, ['red', 'White', 'blue']])"
      ]
     },
     "execution_count": 24,
     "metadata": {},
     "output_type": "execute_result"
    }
   ],
   "source": [
    "car.values()"
   ]
  },
  {
   "cell_type": "code",
   "execution_count": 25,
   "id": "b4234f24-782b-494f-8761-6e5859f9e1c5",
   "metadata": {},
   "outputs": [
    {
     "data": {
      "text/plain": [
       "'ford'"
      ]
     },
     "execution_count": 25,
     "metadata": {},
     "output_type": "execute_result"
    }
   ],
   "source": [
    "car[\"brand\"]"
   ]
  },
  {
   "cell_type": "code",
   "execution_count": 27,
   "id": "72ec5a47-70f2-4cf0-a557-b8a8cb55d6fa",
   "metadata": {},
   "outputs": [
    {
     "name": "stdout",
     "output_type": "stream",
     "text": [
      "ford\n"
     ]
    }
   ],
   "source": [
    "print(car.get(\"brand\"))"
   ]
  },
  {
   "cell_type": "code",
   "execution_count": 28,
   "id": "04fe844d-c99b-465e-8679-7789bbcb946a",
   "metadata": {},
   "outputs": [
    {
     "name": "stdout",
     "output_type": "stream",
     "text": [
      "{'brand': 'ford', 'electric': False, 'year': 1964, 'colors': ['red', 'White', 'blue']}\n"
     ]
    }
   ],
   "source": [
    "car = {\n",
    "    \"brand\" : \"ford\",\n",
    "    \"electric\": False,\n",
    "    \"year\": 1964,\n",
    "    \"colors\": [\"red\", \"White\", \"blue\"]\n",
    "}\n",
    "print(car)"
   ]
  },
  {
   "cell_type": "code",
   "execution_count": 29,
   "id": "989a15be-3753-470b-a285-9864122f715d",
   "metadata": {},
   "outputs": [],
   "source": [
    "car[\"model\"] = \"Mustang\""
   ]
  },
  {
   "cell_type": "code",
   "execution_count": 30,
   "id": "c610c960-5ac1-4dba-a008-4fa108e21ce4",
   "metadata": {},
   "outputs": [
    {
     "data": {
      "text/plain": [
       "{'brand': 'ford',\n",
       " 'electric': False,\n",
       " 'year': 1964,\n",
       " 'colors': ['red', 'White', 'blue'],\n",
       " 'model': 'Mustang'}"
      ]
     },
     "execution_count": 30,
     "metadata": {},
     "output_type": "execute_result"
    }
   ],
   "source": [
    "car"
   ]
  },
  {
   "cell_type": "code",
   "execution_count": 32,
   "id": "15d4f4b7-ba38-4309-a118-1dd6f390432f",
   "metadata": {},
   "outputs": [],
   "source": [
    "car.update({\"type\" : \"manual\"})"
   ]
  },
  {
   "cell_type": "code",
   "execution_count": 33,
   "id": "8ed145d6-1ff1-4f41-809f-7a6aef8a9796",
   "metadata": {},
   "outputs": [
    {
     "data": {
      "text/plain": [
       "{'brand': 'ford',\n",
       " 'electric': False,\n",
       " 'year': 1964,\n",
       " 'colors': ['red', 'White', 'blue'],\n",
       " 'model': 'Mustang',\n",
       " 'type': 'manual'}"
      ]
     },
     "execution_count": 33,
     "metadata": {},
     "output_type": "execute_result"
    }
   ],
   "source": [
    "car"
   ]
  },
  {
   "cell_type": "code",
   "execution_count": 34,
   "id": "ddb6c45f-f3e6-4159-b599-ed7283146f4f",
   "metadata": {},
   "outputs": [
    {
     "data": {
      "text/plain": [
       "('type', 'manual')"
      ]
     },
     "execution_count": 34,
     "metadata": {},
     "output_type": "execute_result"
    }
   ],
   "source": [
    "car.popitem()"
   ]
  },
  {
   "cell_type": "code",
   "execution_count": 35,
   "id": "85fc146f-9619-4f03-aed4-4c5a063cb9e8",
   "metadata": {},
   "outputs": [
    {
     "data": {
      "text/plain": [
       "{'brand': 'ford',\n",
       " 'electric': False,\n",
       " 'year': 1964,\n",
       " 'colors': ['red', 'White', 'blue'],\n",
       " 'model': 'Mustang'}"
      ]
     },
     "execution_count": 35,
     "metadata": {},
     "output_type": "execute_result"
    }
   ],
   "source": [
    "car"
   ]
  },
  {
   "cell_type": "code",
   "execution_count": 36,
   "id": "4d6e7e85-d7b1-4bc6-84f1-13c407daec90",
   "metadata": {},
   "outputs": [],
   "source": [
    "car.clear()"
   ]
  },
  {
   "cell_type": "code",
   "execution_count": 37,
   "id": "18426031-204e-4175-bf19-40a367f7ab1c",
   "metadata": {},
   "outputs": [
    {
     "data": {
      "text/plain": [
       "{}"
      ]
     },
     "execution_count": 37,
     "metadata": {},
     "output_type": "execute_result"
    }
   ],
   "source": [
    "car"
   ]
  },
  {
   "cell_type": "code",
   "execution_count": 38,
   "id": "ffebefa1-9855-4d88-a8ba-64fc09ea7a70",
   "metadata": {},
   "outputs": [],
   "source": [
    "del car"
   ]
  },
  {
   "cell_type": "code",
   "execution_count": 39,
   "id": "d70b871f-3d25-46e1-ac87-29fe286a7f6e",
   "metadata": {},
   "outputs": [
    {
     "ename": "NameError",
     "evalue": "name 'car' is not defined",
     "output_type": "error",
     "traceback": [
      "\u001b[1;31m---------------------------------------------------------------------------\u001b[0m",
      "\u001b[1;31mNameError\u001b[0m                                 Traceback (most recent call last)",
      "Cell \u001b[1;32mIn[39], line 1\u001b[0m\n\u001b[1;32m----> 1\u001b[0m car\n",
      "\u001b[1;31mNameError\u001b[0m: name 'car' is not defined"
     ]
    }
   ],
   "source": [
    "car"
   ]
  },
  {
   "cell_type": "code",
   "execution_count": 40,
   "id": "62b5b90d-ca74-4c24-83bf-b873da065a98",
   "metadata": {},
   "outputs": [],
   "source": [
    "car ={\n",
    "    \"brand\": \"Ford\",\n",
    "    \"model\": \"Mustang\",\n",
    "    \"year\": 1964\n",
    "}"
   ]
  },
  {
   "cell_type": "code",
   "execution_count": 41,
   "id": "b6355655-f853-4d0a-843d-a4d41caa82cf",
   "metadata": {},
   "outputs": [
    {
     "data": {
      "text/plain": [
       "{'brand': 'Ford', 'model': 'Mustang', 'year': 1964}"
      ]
     },
     "execution_count": 41,
     "metadata": {},
     "output_type": "execute_result"
    }
   ],
   "source": [
    "car"
   ]
  },
  {
   "cell_type": "code",
   "execution_count": 42,
   "id": "0cc8c31c-da76-4400-beb8-738efa7dcf3a",
   "metadata": {},
   "outputs": [
    {
     "name": "stdout",
     "output_type": "stream",
     "text": [
      "Ford\n",
      "Mustang\n",
      "1964\n"
     ]
    }
   ],
   "source": [
    "for i in car:\n",
    "    print(car[i])"
   ]
  },
  {
   "cell_type": "code",
   "execution_count": 44,
   "id": "ead1262b-5358-4597-8aad-fb0bb174a5f9",
   "metadata": {},
   "outputs": [
    {
     "name": "stdout",
     "output_type": "stream",
     "text": [
      "not present\n"
     ]
    }
   ],
   "source": [
    "if 'color' in car:\n",
    "    print(\"yes\")\n",
    "else:\n",
    "    print(\"not present\")"
   ]
  },
  {
   "cell_type": "markdown",
   "id": "b848bead-8162-48ad-a354-0c3ce2deb8ac",
   "metadata": {},
   "source": [
    "nested dict"
   ]
  },
  {
   "cell_type": "code",
   "execution_count": 64,
   "id": "bcd6c44a-696f-4299-96ab-db7ea14f34e5",
   "metadata": {},
   "outputs": [],
   "source": [
    "myfamily = {\n",
    "\"child1\": {\"name\": \"Emil\",\" year\": 2004},\n",
    "\"child2\": {\"name\": \"Tobias\", \"year\": 2007},\n",
    "\"child3\": {\"name\": \"Linus\", \"year\": 2011} \n",
    "}"
   ]
  },
  {
   "cell_type": "code",
   "execution_count": 68,
   "id": "404e25f9-2c92-4a39-93c5-8aa6514cf7ff",
   "metadata": {},
   "outputs": [
    {
     "data": {
      "text/plain": [
       "2007"
      ]
     },
     "execution_count": 68,
     "metadata": {},
     "output_type": "execute_result"
    }
   ],
   "source": [
    "myfamily[\"child2\"]['year']"
   ]
  },
  {
   "cell_type": "markdown",
   "id": "e0dd3949-472b-4911-a185-5faf1262ee96",
   "metadata": {},
   "source": [
    "Function"
   ]
  },
  {
   "cell_type": "code",
   "execution_count": 69,
   "id": "ff868f01-1571-44cb-bd5f-620fcb9b400e",
   "metadata": {},
   "outputs": [],
   "source": [
    "def my_function():\n",
    "    print(\"Hello from Function\")"
   ]
  },
  {
   "cell_type": "code",
   "execution_count": 70,
   "id": "2fe1047c-78c7-4d79-a8e1-51069cab1448",
   "metadata": {},
   "outputs": [
    {
     "name": "stdout",
     "output_type": "stream",
     "text": [
      "Hello from Function\n"
     ]
    }
   ],
   "source": [
    "my_function()"
   ]
  },
  {
   "cell_type": "code",
   "execution_count": 71,
   "id": "8ceeace5-a8ac-404f-a936-d38bbd377f9a",
   "metadata": {},
   "outputs": [],
   "source": [
    "def info(msg):\n",
    "    return msg"
   ]
  },
  {
   "cell_type": "code",
   "execution_count": 72,
   "id": "e3a20d33-3e6e-4dca-8587-8217ca675601",
   "metadata": {},
   "outputs": [
    {
     "data": {
      "text/plain": [
       "'This is msg'"
      ]
     },
     "execution_count": 72,
     "metadata": {},
     "output_type": "execute_result"
    }
   ],
   "source": [
    "info(\"This is msg\")"
   ]
  },
  {
   "cell_type": "code",
   "execution_count": 90,
   "id": "594c66e9-ef8d-4933-885c-dfd4423308dd",
   "metadata": {},
   "outputs": [],
   "source": [
    "def info(fname, lname):\n",
    "    return fname, lname\n"
   ]
  },
  {
   "cell_type": "code",
   "execution_count": 91,
   "id": "bb65dffc-1f50-4887-af67-49f6ce11f4d7",
   "metadata": {},
   "outputs": [
    {
     "name": "stdout",
     "output_type": "stream",
     "text": [
      "('varun', 'Goud')\n"
     ]
    }
   ],
   "source": [
    "print(info(\"varun\", \"Goud\"))"
   ]
  },
  {
   "cell_type": "markdown",
   "id": "0068e542-10cf-4588-a738-46707eae1fa5",
   "metadata": {},
   "source": [
    "Add two num"
   ]
  },
  {
   "cell_type": "code",
   "execution_count": 93,
   "id": "61cfa5cd-6ef3-4e39-b9ed-da848c3c97ba",
   "metadata": {},
   "outputs": [],
   "source": [
    "def add(a,b):\n",
    "    return a + b"
   ]
  },
  {
   "cell_type": "code",
   "execution_count": 94,
   "id": "1ead8095-ce90-41bb-a070-bebc998cee68",
   "metadata": {},
   "outputs": [
    {
     "data": {
      "text/plain": [
       "15"
      ]
     },
     "execution_count": 94,
     "metadata": {},
     "output_type": "execute_result"
    }
   ],
   "source": [
    "add(5,10)"
   ]
  },
  {
   "cell_type": "code",
   "execution_count": 104,
   "id": "bde96363-589b-4cc4-a2f7-a0b4d0a65957",
   "metadata": {},
   "outputs": [],
   "source": [
    "def mul (a,b):\n",
    "    return a * b"
   ]
  },
  {
   "cell_type": "code",
   "execution_count": 105,
   "id": "f74a0d24-1962-479a-9215-7660a9b5133e",
   "metadata": {},
   "outputs": [
    {
     "data": {
      "text/plain": [
       "80"
      ]
     },
     "execution_count": 105,
     "metadata": {},
     "output_type": "execute_result"
    }
   ],
   "source": [
    "mul(10,8)"
   ]
  },
  {
   "cell_type": "code",
   "execution_count": 108,
   "id": "0b86ee01-f8e9-4df0-922c-c1b80314a017",
   "metadata": {},
   "outputs": [],
   "source": [
    "def power3(num):\n",
    "    return num ** 3"
   ]
  },
  {
   "cell_type": "code",
   "execution_count": 109,
   "id": "2504ad3b-7725-4cb5-bc35-999490752741",
   "metadata": {},
   "outputs": [
    {
     "data": {
      "text/plain": [
       "125"
      ]
     },
     "execution_count": 109,
     "metadata": {},
     "output_type": "execute_result"
    }
   ],
   "source": [
    "power3(5)"
   ]
  },
  {
   "cell_type": "code",
   "execution_count": 110,
   "id": "85053eab-c8ed-457e-907b-9916d5902460",
   "metadata": {},
   "outputs": [],
   "source": [
    "def sqr(a):\n",
    "    return a**2"
   ]
  },
  {
   "cell_type": "code",
   "execution_count": 111,
   "id": "c1215386-e424-4edc-9d17-c215f0ab1432",
   "metadata": {},
   "outputs": [
    {
     "data": {
      "text/plain": [
       "25"
      ]
     },
     "execution_count": 111,
     "metadata": {},
     "output_type": "execute_result"
    }
   ],
   "source": [
    "sqr(5)"
   ]
  },
  {
   "cell_type": "code",
   "execution_count": 112,
   "id": "53dcac86-ec60-486b-90a5-2ba40b6385e3",
   "metadata": {},
   "outputs": [],
   "source": [
    "def list_item(item):\n",
    "    for i in item:\n",
    "        print(i)"
   ]
  },
  {
   "cell_type": "code",
   "execution_count": 113,
   "id": "7b81cff4-b590-4dc3-9c81-457dde25f668",
   "metadata": {},
   "outputs": [],
   "source": [
    "list1=[\"apple\",\"kiwi\",\"banana\"]"
   ]
  },
  {
   "cell_type": "code",
   "execution_count": 114,
   "id": "6789b13a-0377-444a-a5be-397eb00c3ff9",
   "metadata": {},
   "outputs": [
    {
     "name": "stdout",
     "output_type": "stream",
     "text": [
      "apple\n",
      "kiwi\n",
      "banana\n"
     ]
    }
   ],
   "source": [
    "list_item(list1)"
   ]
  },
  {
   "cell_type": "markdown",
   "id": "be4d5dc4-c41f-4e4f-8857-d3a157d86be4",
   "metadata": {},
   "source": [
    "local scope"
   ]
  },
  {
   "cell_type": "code",
   "execution_count": 129,
   "id": "418bf6d5-662d-4e44-b982-71095b34cb79",
   "metadata": {},
   "outputs": [],
   "source": [
    "number2 = 500"
   ]
  },
  {
   "cell_type": "code",
   "execution_count": 131,
   "id": "9a910886-db37-49ea-afbd-cd06da5669ff",
   "metadata": {},
   "outputs": [
    {
     "data": {
      "text/plain": [
       "500"
      ]
     },
     "execution_count": 131,
     "metadata": {},
     "output_type": "execute_result"
    }
   ],
   "source": [
    "number2 "
   ]
  },
  {
   "cell_type": "code",
   "execution_count": 130,
   "id": "a11aa3db-79a7-45d9-949c-93f9d5bb6e96",
   "metadata": {},
   "outputs": [
    {
     "name": "stdout",
     "output_type": "stream",
     "text": [
      "300\n",
      "500\n"
     ]
    }
   ],
   "source": [
    "def func():\n",
    "    number=300\n",
    "    print(number)\n",
    "    print(number2)\n",
    "func()"
   ]
  },
  {
   "cell_type": "code",
   "execution_count": 132,
   "id": "ab662138-80ad-43d5-a4c7-d5576d0e7707",
   "metadata": {},
   "outputs": [
    {
     "ename": "NameError",
     "evalue": "name 'number' is not defined",
     "output_type": "error",
     "traceback": [
      "\u001b[1;31m---------------------------------------------------------------------------\u001b[0m",
      "\u001b[1;31mNameError\u001b[0m                                 Traceback (most recent call last)",
      "Cell \u001b[1;32mIn[132], line 1\u001b[0m\n\u001b[1;32m----> 1\u001b[0m \u001b[38;5;28mprint\u001b[39m(number)\n",
      "\u001b[1;31mNameError\u001b[0m: name 'number' is not defined"
     ]
    }
   ],
   "source": [
    "print(number)"
   ]
  },
  {
   "cell_type": "code",
   "execution_count": 127,
   "id": "08ff3e70-8ef2-4b44-9be8-e00469e7c33a",
   "metadata": {},
   "outputs": [
    {
     "name": "stdout",
     "output_type": "stream",
     "text": [
      "500\n"
     ]
    }
   ],
   "source": [
    "print(number2)"
   ]
  },
  {
   "cell_type": "code",
   "execution_count": null,
   "id": "7ff5fa36-a8cc-43a4-a530-981692ad6b36",
   "metadata": {},
   "outputs": [],
   "source": []
  }
 ],
 "metadata": {
  "kernelspec": {
   "display_name": "Python 3 (ipykernel)",
   "language": "python",
   "name": "python3"
  },
  "language_info": {
   "codemirror_mode": {
    "name": "ipython",
    "version": 3
   },
   "file_extension": ".py",
   "mimetype": "text/x-python",
   "name": "python",
   "nbconvert_exporter": "python",
   "pygments_lexer": "ipython3",
   "version": "3.12.7"
  }
 },
 "nbformat": 4,
 "nbformat_minor": 5
}
