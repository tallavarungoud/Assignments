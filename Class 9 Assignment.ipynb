{
 "cells": [
  {
   "cell_type": "code",
   "execution_count": 1,
   "id": "e7e0456c-c67e-49ac-b2c3-02ea9624b7df",
   "metadata": {},
   "outputs": [
    {
     "data": {
      "text/plain": [
       "25"
      ]
     },
     "execution_count": 1,
     "metadata": {},
     "output_type": "execute_result"
    }
   ],
   "source": [
    "x = lambda a :a**2\n",
    "x(5)"
   ]
  },
  {
   "cell_type": "code",
   "execution_count": 2,
   "id": "bc1f9198-6e8b-41d6-8cd0-5a8bda1aad99",
   "metadata": {},
   "outputs": [
    {
     "data": {
      "text/plain": [
       "25"
      ]
     },
     "execution_count": 2,
     "metadata": {},
     "output_type": "execute_result"
    }
   ],
   "source": [
    "def sqr(a):\n",
    "    return a**2\n",
    "sqr(5)"
   ]
  },
  {
   "cell_type": "code",
   "execution_count": null,
   "id": "d4ee80f1-644c-48cc-a3f0-62251605df1e",
   "metadata": {},
   "outputs": [],
   "source": [
    "Abstraction?"
   ]
  },
  {
   "cell_type": "code",
   "execution_count": null,
   "id": "29878c2e-1b40-42d4-b2e4-216cf0e06832",
   "metadata": {},
   "outputs": [],
   "source": []
  },
  {
   "cell_type": "code",
   "execution_count": null,
   "id": "64d1cfb7-aee9-40ca-9e59-bea45212d3a7",
   "metadata": {},
   "outputs": [],
   "source": [
    "class Myclass:\n",
    "    pass"
   ]
  },
  {
   "cell_type": "code",
   "execution_count": 14,
   "id": "ebd0e6c5-fdc9-4e28-bcb6-c0411871a983",
   "metadata": {},
   "outputs": [],
   "source": [
    "class Person:\n",
    "    def __init__(self, name, age):\n",
    "        self.name = name\n",
    "        self.age = age\n",
    "\n",
    "    def info(self):\n",
    "        return self.name, self.age\n",
    "\n",
    "p1 = Person(\"John\", 30)"
   ]
  },
  {
   "cell_type": "code",
   "execution_count": 15,
   "id": "3061aa38-ebe9-4788-9875-9b8b9b035564",
   "metadata": {},
   "outputs": [
    {
     "data": {
      "text/plain": [
       "('John', 30)"
      ]
     },
     "execution_count": 15,
     "metadata": {},
     "output_type": "execute_result"
    }
   ],
   "source": [
    "p1.info()"
   ]
  },
  {
   "cell_type": "code",
   "execution_count": null,
   "id": "5eb19877-b396-46e9-9e6b-a5a955728e2c",
   "metadata": {},
   "outputs": [],
   "source": []
  },
  {
   "cell_type": "code",
   "execution_count": 19,
   "id": "b2e8868f-43d4-46a8-89c9-2aaefd1d34f8",
   "metadata": {},
   "outputs": [],
   "source": [
    "class Person:\n",
    "    def __init__(self, fname, lname):\n",
    "        self.firstname = fname\n",
    "        self.lastname = lname\n",
    "\n",
    "    def printname(self):\n",
    "        print(self.firstname, self.lastname)\n"
   ]
  },
  {
   "cell_type": "code",
   "execution_count": 37,
   "id": "03af2e20-a749-41e4-9940-8733d3030a60",
   "metadata": {},
   "outputs": [],
   "source": [
    "class Student(Person):\n",
    "    def __init__(self, fname, lname, year):\n",
    "        super().__init__(fname, lname)  \n",
    "        self.graduationyear = year\n",
    "\n",
    "    def welcome(self):\n",
    "        print(\"Welcome\", self.firstname, self.lastname, \"to the class of\", self.graduationyear)\n",
    "\n",
    "    "
   ]
  },
  {
   "cell_type": "code",
   "execution_count": 38,
   "id": "902c869c-fcaf-43ed-9ef5-62f3a5d860d3",
   "metadata": {},
   "outputs": [
    {
     "name": "stdout",
     "output_type": "stream",
     "text": [
      "Welcome Mike Olsen to the class of 2019\n"
     ]
    }
   ],
   "source": [
    "s1 = Student(\"Mike\", \"Olsen\", 2019)\n",
    "s1.welcome() "
   ]
  },
  {
   "cell_type": "code",
   "execution_count": 39,
   "id": "6549160b-fd34-4a79-ada9-06216c4afdd4",
   "metadata": {},
   "outputs": [
    {
     "name": "stdout",
     "output_type": "stream",
     "text": [
      "Mike Olsen\n"
     ]
    }
   ],
   "source": [
    "s1.printname()"
   ]
  },
  {
   "cell_type": "code",
   "execution_count": null,
   "id": "f27dc079-5fee-43af-a7cd-8754ecde1be6",
   "metadata": {},
   "outputs": [],
   "source": [
    "## method overriding"
   ]
  },
  {
   "cell_type": "code",
   "execution_count": 42,
   "id": "cec3c733-9a79-47c1-9f5b-3dbd726e7bce",
   "metadata": {},
   "outputs": [],
   "source": [
    "class A:\n",
    "    def method(self):\n",
    "        return \"Method in class A\"\n",
    "class B(A):\n",
    "    def method(self):\n",
    "        return \"Method in class B\""
   ]
  },
  {
   "cell_type": "code",
   "execution_count": 43,
   "id": "945737b5-d696-4d3a-8596-a4a92c59fe97",
   "metadata": {},
   "outputs": [],
   "source": [
    "b=B()"
   ]
  },
  {
   "cell_type": "code",
   "execution_count": 44,
   "id": "3b5bded3-119b-43fa-b598-a456b4a073c8",
   "metadata": {},
   "outputs": [
    {
     "data": {
      "text/plain": [
       "'Method in class B'"
      ]
     },
     "execution_count": 44,
     "metadata": {},
     "output_type": "execute_result"
    }
   ],
   "source": [
    "b.method()"
   ]
  },
  {
   "cell_type": "markdown",
   "id": "a3c8e3af-5259-49b3-85b9-03cca2b9b0a3",
   "metadata": {},
   "source": [
    "Multiple"
   ]
  },
  {
   "cell_type": "code",
   "execution_count": 50,
   "id": "7383db4e-b8e0-4268-b355-e12bcf775a7e",
   "metadata": {},
   "outputs": [],
   "source": [
    "class A:\n",
    "    def method(self):\n",
    "        return \"Method in class A\"\n",
    "\n",
    "class B(A):\n",
    "    def method(self):\n",
    "        return \"Method in class B\"\n",
    "\n",
    "class C(B):\n",
    "    def method(self):\n",
    "        return A.method(self) + \" and \" + B.method(self)"
   ]
  },
  {
   "cell_type": "code",
   "execution_count": 51,
   "id": "1c5bf747-2a25-485d-bb90-4a3bf82770e0",
   "metadata": {},
   "outputs": [
    {
     "data": {
      "text/plain": [
       "'Method in class A and Method in class B'"
      ]
     },
     "execution_count": 51,
     "metadata": {},
     "output_type": "execute_result"
    }
   ],
   "source": [
    "c = C()\n",
    "c.method() "
   ]
  },
  {
   "cell_type": "code",
   "execution_count": null,
   "id": "056fda0e-e064-4944-8720-e77272b994ee",
   "metadata": {},
   "outputs": [],
   "source": []
  },
  {
   "cell_type": "markdown",
   "id": "627967eb-3dd8-46ec-9f8d-8bc889c4583c",
   "metadata": {},
   "source": [
    "Multi level"
   ]
  },
  {
   "cell_type": "code",
   "execution_count": 52,
   "id": "fbf7dd3e-15c0-4165-a11e-ec2c84bd3677",
   "metadata": {},
   "outputs": [],
   "source": [
    "class A:\n",
    "    def method(self):\n",
    "        return \"Method in class A\"\n",
    "\n",
    "class B(A):\n",
    "    def method(self):\n",
    "        return \"Method in class B\"\n",
    "class C(B):\n",
    "    def method(self):\n",
    "        return \"Method in class B\""
   ]
  },
  {
   "cell_type": "markdown",
   "id": "d072c2f4-5b58-409c-9ee1-e75feaee43bf",
   "metadata": {},
   "source": [
    "Assignments"
   ]
  },
  {
   "cell_type": "markdown",
   "id": "b27dfb84-69a8-4494-abc0-57cdd395ca31",
   "metadata": {},
   "source": [
    "1.) Create a base class Animal with attributes name and species, and a method describe to print them. Create a derived class Dog with an additional attribute breed and a method bark to print \"Woof! Woof!\". Instantiate a Dog object and call its methods"
   ]
  },
  {
   "cell_type": "code",
   "execution_count": 63,
   "id": "73085b8b-bcce-46dc-ab1f-29582efadc2b",
   "metadata": {},
   "outputs": [
    {
     "name": "stdout",
     "output_type": "stream",
     "text": [
      "Name: Buddy, Species: Canine\n",
      "Woof! Woof!\n"
     ]
    }
   ],
   "source": [
    "class Animal:\n",
    "    def __init__(self, name, species):\n",
    "        self.name = name\n",
    "        self.species = species\n",
    "\n",
    "    def describe(self):\n",
    "        print(f\"Name: {self.name}, Species: {self.species}\")\n",
    "\n",
    "class Dog(Animal):\n",
    "    def __init__(self, name, species, breed):\n",
    "        super().__init__(name, species)\n",
    "        self.breed = breed\n",
    "\n",
    "    def bark(self):\n",
    "        print(\"Woof! Woof!\")\n",
    "\n",
    "# Example\n",
    "dog1 = Dog(\"Buddy\", \"Canine\", \"Golden Retriever\")\n",
    "dog1.describe()\n",
    "dog1.bark()\n",
    "\n"
   ]
  },
  {
   "cell_type": "markdown",
   "id": "7f1007d8-9c54-4585-bda6-e1caea4bd678",
   "metadata": {},
   "source": [
    "2. ) Define a class Person with attributes first_name and last_name, and a method print_name. Create a derived class Employee with an additional attribute employee_id. Use the super() method to initialize the inherited attributes. Add a method print_employee_info. Instantiate an Employee object and call its methods."
   ]
  },
  {
   "cell_type": "code",
   "execution_count": 64,
   "id": "dace79e4-b6fe-40d1-91c0-bc0414faa4f1",
   "metadata": {},
   "outputs": [
    {
     "name": "stdout",
     "output_type": "stream",
     "text": [
      "Name: Alice Johnson\n",
      "Employee ID: E12345\n"
     ]
    }
   ],
   "source": [
    "class Person:\n",
    "    def __init__(self, first_name, last_name):\n",
    "        self.first_name = first_name\n",
    "        self.last_name = last_name\n",
    "\n",
    "    def print_name(self):\n",
    "        print(f\"Name: {self.first_name} {self.last_name}\")\n",
    "\n",
    "class Employee(Person):\n",
    "    def __init__(self, first_name, last_name, employee_id):\n",
    "        super().__init__(first_name, last_name)\n",
    "        self.employee_id = employee_id\n",
    "\n",
    "    def print_employee_info(self):\n",
    "        self.print_name()\n",
    "        print(f\"Employee ID: {self.employee_id}\")\n",
    "\n",
    "# Example\n",
    "emp1 = Employee(\"Alice\", \"Johnson\", \"E12345\")\n",
    "emp1.print_employee_info()\n"
   ]
  },
  {
   "cell_type": "markdown",
   "id": "64cb3939-60f2-404d-872b-f2308d530417",
   "metadata": {},
   "source": [
    "3. ) Define a class Shape with a method area returning 0. Create derived classes Circle and Rectangle, overriding the area method to return the actual area. Instantiate objects of Circle and Rectangle and print their areas."
   ]
  },
  {
   "cell_type": "code",
   "execution_count": 55,
   "id": "83ceb07e-c88f-4670-a6f1-f6c17e08c02b",
   "metadata": {},
   "outputs": [
    {
     "name": "stdout",
     "output_type": "stream",
     "text": [
      "Circle area: 78.53981633974483\n",
      "Rectangle area: 24\n"
     ]
    }
   ],
   "source": [
    "import math\n",
    "\n",
    "class Shape:\n",
    "    def area(self):\n",
    "        return 0\n",
    "\n",
    "class Circle(Shape):\n",
    "    def __init__(self, radius):\n",
    "        self.radius = radius\n",
    "\n",
    "    def area(self):\n",
    "        return math.pi * self.radius ** 2\n",
    "\n",
    "class Rectangle(Shape):\n",
    "    def __init__(self, width, height):\n",
    "        self.width = width\n",
    "        self.height = height\n",
    "\n",
    "    def area(self):\n",
    "        return self.width * self.height\n",
    "\n",
    "# Example\n",
    "circle1 = Circle(5)\n",
    "rect1 = Rectangle(4, 6)\n",
    "print(\"Circle area:\", circle1.area())\n",
    "print(\"Rectangle area:\", rect1.area())\n"
   ]
  },
  {
   "cell_type": "markdown",
   "id": "77f1b1cd-fc70-457f-9724-d87fe6673f59",
   "metadata": {},
   "source": [
    "4.)Create base classes Flying with a method fly and Swimming with a method swim. Create a derived class Duck inheriting from both, with an additional method quack. Instantiate a Duck object and call all its methods."
   ]
  },
  {
   "cell_type": "code",
   "execution_count": 56,
   "id": "4943d9e3-d54d-4933-b9fa-8f023fb35200",
   "metadata": {},
   "outputs": [
    {
     "name": "stdout",
     "output_type": "stream",
     "text": [
      "I can fly!\n",
      "I can swim!\n",
      "Quack! Quack!\n"
     ]
    }
   ],
   "source": [
    "class Flying:\n",
    "    def fly(self):\n",
    "        print(\"I can fly!\")\n",
    "\n",
    "class Swimming:\n",
    "    def swim(self):\n",
    "        print(\"I can swim!\")\n",
    "\n",
    "class Duck(Flying, Swimming):\n",
    "    def quack(self):\n",
    "        print(\"Quack! Quack!\")\n",
    "\n",
    "# Example\n",
    "duck1 = Duck()\n",
    "duck1.fly()\n",
    "duck1.swim()\n",
    "duck1.quack()\n"
   ]
  },
  {
   "cell_type": "markdown",
   "id": "a7ecceed-46c7-4049-a5b8-996271a18d71",
   "metadata": {},
   "source": [
    "5.) Define class A with a method method_A, and class E with a method method_E. Create class B inheriting from A with a method method_B, and class C inheriting from A and E with a method method_C. Define class D inheriting from both B and C with a method method_D. Instantiate a D object and call all its methods."
   ]
  },
  {
   "cell_type": "code",
   "execution_count": 57,
   "id": "efea2234-95d4-435b-bf9f-e96489088556",
   "metadata": {},
   "outputs": [
    {
     "name": "stdout",
     "output_type": "stream",
     "text": [
      "Method from class A\n",
      "Method from class B\n",
      "Method from class C\n",
      "Method from class E\n",
      "Method from class D\n"
     ]
    }
   ],
   "source": [
    "class A:\n",
    "    def method_A(self):\n",
    "        print(\"Method from class A\")\n",
    "\n",
    "class E:\n",
    "    def method_E(self):\n",
    "        print(\"Method from class E\")\n",
    "\n",
    "class B(A):\n",
    "    def method_B(self):\n",
    "        print(\"Method from class B\")\n",
    "\n",
    "class C(A, E):\n",
    "    def method_C(self):\n",
    "        print(\"Method from class C\")\n",
    "\n",
    "class D(B, C):\n",
    "    def method_D(self):\n",
    "        print(\"Method from class D\")\n",
    "\n",
    "# Example\n",
    "d = D()\n",
    "d.method_A()\n",
    "d.method_B()\n",
    "d.method_C()\n",
    "d.method_E()\n",
    "d.method_D()\n"
   ]
  },
  {
   "cell_type": "code",
   "execution_count": null,
   "id": "5f974b99-e379-4766-acd2-f837add190b5",
   "metadata": {},
   "outputs": [],
   "source": []
  }
 ],
 "metadata": {
  "kernelspec": {
   "display_name": "Python 3 (ipykernel)",
   "language": "python",
   "name": "python3"
  },
  "language_info": {
   "codemirror_mode": {
    "name": "ipython",
    "version": 3
   },
   "file_extension": ".py",
   "mimetype": "text/x-python",
   "name": "python",
   "nbconvert_exporter": "python",
   "pygments_lexer": "ipython3",
   "version": "3.12.7"
  }
 },
 "nbformat": 4,
 "nbformat_minor": 5
}
